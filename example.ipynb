{
 "cells": [
  {
   "cell_type": "code",
   "execution_count": 1,
   "id": "organizational-timothy",
   "metadata": {},
   "outputs": [],
   "source": [
    "import os\n",
    "import pandas as pd\n",
    "import numpy as np\n",
    "import matplotlib.pyplot as plt\n",
    "from sklearn.metrics import confusion_matrix\n",
    "\n",
    "import torch\n",
    "import torchvision.models as models\n",
    "from torchvision import transforms\n",
    "from efficientnet_pytorch import EfficientNet\n",
    "\n",
    "from preprocess import *\n",
    "from dataset import TrainDataset, TestDataset\n",
    "from train import Trainer\n",
    "from network import Network\n",
    "from inference import inference, validate\n",
    "\n",
    "def show(img):\n",
    "    npimg = img.numpy()\n",
    "    plt.imshow(np.transpose(npimg, (1, 2, 0)), interpolation='nearest')\n",
    "\n",
    "INPUT_DIR = os.path.join('/opt/ml', 'input', 'data')\n",
    "TRAIN_DIR = os.path.join(INPUT_DIR, 'train')"
   ]
  },
  {
   "cell_type": "code",
   "execution_count": 11,
   "id": "pointed-variable",
   "metadata": {},
   "outputs": [],
   "source": [
    "PROCESS = False\n",
    "\n",
    "if not PROCESS:\n",
    "    df_train_mask = pd.read_csv(os.path.join(TRAIN_DIR, 'train_processed_mask_v4.csv'))\n",
    "    df_valid_mask = pd.read_csv(os.path.join(TRAIN_DIR, 'valid_processed_mask_v4.csv'))\n",
    "    df_train_ag = pd.read_csv(os.path.join(TRAIN_DIR, 'train_processed_ag_v4.csv'))\n",
    "    df_valid_ag = pd.read_csv(os.path.join(TRAIN_DIR, 'valid_processed_ag_v4.csv'))\n",
    "else:\n",
    "    df = pd.read_csv(os.path.join(TRAIN_DIR, 'train.csv'))\n",
    "    df_train_mask, df_valid_mask = preprocess(df)\n",
    "    df_train_ag, df_valid_ag = preprocess_v2(df)\n",
    "    df_train_mask.to_csv(os.path.join(TRAIN_DIR, 'train_processed_mask_v4.csv'), index=False)\n",
    "    df_valid_mask.to_csv(os.path.join(TRAIN_DIR, 'valid_processed_mask_v4.csv'), index=False)\n",
    "    df_train_ag.to_csv(os.path.join(TRAIN_DIR, 'train_processed_ag_v4.csv'), index=False)\n",
    "    df_valid_ag.to_csv(os.path.join(TRAIN_DIR, 'valid_processed_ag_v4.csv'), index=False)"
   ]
  },
  {
   "cell_type": "code",
   "execution_count": 12,
   "id": "major-guarantee",
   "metadata": {},
   "outputs": [],
   "source": [
    "df = pd.read_csv(os.path.join(TRAIN_DIR, 'train.csv'))"
   ]
  },
  {
   "cell_type": "code",
   "execution_count": 13,
   "id": "sustainable-thousand",
   "metadata": {},
   "outputs": [
    {
     "data": {
      "text/html": [
       "<div>\n",
       "<style scoped>\n",
       "    .dataframe tbody tr th:only-of-type {\n",
       "        vertical-align: middle;\n",
       "    }\n",
       "\n",
       "    .dataframe tbody tr th {\n",
       "        vertical-align: top;\n",
       "    }\n",
       "\n",
       "    .dataframe thead th {\n",
       "        text-align: right;\n",
       "    }\n",
       "</style>\n",
       "<table border=\"1\" class=\"dataframe\">\n",
       "  <thead>\n",
       "    <tr style=\"text-align: right;\">\n",
       "      <th></th>\n",
       "      <th>id</th>\n",
       "      <th>gender</th>\n",
       "      <th>race</th>\n",
       "      <th>age</th>\n",
       "      <th>path</th>\n",
       "    </tr>\n",
       "  </thead>\n",
       "  <tbody>\n",
       "    <tr>\n",
       "      <th>0</th>\n",
       "      <td>000001</td>\n",
       "      <td>female</td>\n",
       "      <td>Asian</td>\n",
       "      <td>45</td>\n",
       "      <td>000001_female_Asian_45</td>\n",
       "    </tr>\n",
       "    <tr>\n",
       "      <th>1</th>\n",
       "      <td>000002</td>\n",
       "      <td>female</td>\n",
       "      <td>Asian</td>\n",
       "      <td>52</td>\n",
       "      <td>000002_female_Asian_52</td>\n",
       "    </tr>\n",
       "    <tr>\n",
       "      <th>2</th>\n",
       "      <td>000004</td>\n",
       "      <td>male</td>\n",
       "      <td>Asian</td>\n",
       "      <td>54</td>\n",
       "      <td>000004_male_Asian_54</td>\n",
       "    </tr>\n",
       "    <tr>\n",
       "      <th>3</th>\n",
       "      <td>000005</td>\n",
       "      <td>female</td>\n",
       "      <td>Asian</td>\n",
       "      <td>58</td>\n",
       "      <td>000005_female_Asian_58</td>\n",
       "    </tr>\n",
       "    <tr>\n",
       "      <th>4</th>\n",
       "      <td>000006</td>\n",
       "      <td>female</td>\n",
       "      <td>Asian</td>\n",
       "      <td>59</td>\n",
       "      <td>000006_female_Asian_59</td>\n",
       "    </tr>\n",
       "    <tr>\n",
       "      <th>...</th>\n",
       "      <td>...</td>\n",
       "      <td>...</td>\n",
       "      <td>...</td>\n",
       "      <td>...</td>\n",
       "      <td>...</td>\n",
       "    </tr>\n",
       "    <tr>\n",
       "      <th>2695</th>\n",
       "      <td>006954</td>\n",
       "      <td>male</td>\n",
       "      <td>Asian</td>\n",
       "      <td>19</td>\n",
       "      <td>006954_male_Asian_19</td>\n",
       "    </tr>\n",
       "    <tr>\n",
       "      <th>2696</th>\n",
       "      <td>006955</td>\n",
       "      <td>male</td>\n",
       "      <td>Asian</td>\n",
       "      <td>19</td>\n",
       "      <td>006955_male_Asian_19</td>\n",
       "    </tr>\n",
       "    <tr>\n",
       "      <th>2697</th>\n",
       "      <td>006956</td>\n",
       "      <td>male</td>\n",
       "      <td>Asian</td>\n",
       "      <td>19</td>\n",
       "      <td>006956_male_Asian_19</td>\n",
       "    </tr>\n",
       "    <tr>\n",
       "      <th>2698</th>\n",
       "      <td>006957</td>\n",
       "      <td>male</td>\n",
       "      <td>Asian</td>\n",
       "      <td>20</td>\n",
       "      <td>006957_male_Asian_20</td>\n",
       "    </tr>\n",
       "    <tr>\n",
       "      <th>2699</th>\n",
       "      <td>006959</td>\n",
       "      <td>male</td>\n",
       "      <td>Asian</td>\n",
       "      <td>19</td>\n",
       "      <td>006959_male_Asian_19</td>\n",
       "    </tr>\n",
       "  </tbody>\n",
       "</table>\n",
       "<p>2700 rows × 5 columns</p>\n",
       "</div>"
      ],
      "text/plain": [
       "          id  gender   race  age                    path\n",
       "0     000001  female  Asian   45  000001_female_Asian_45\n",
       "1     000002  female  Asian   52  000002_female_Asian_52\n",
       "2     000004    male  Asian   54    000004_male_Asian_54\n",
       "3     000005  female  Asian   58  000005_female_Asian_58\n",
       "4     000006  female  Asian   59  000006_female_Asian_59\n",
       "...      ...     ...    ...  ...                     ...\n",
       "2695  006954    male  Asian   19    006954_male_Asian_19\n",
       "2696  006955    male  Asian   19    006955_male_Asian_19\n",
       "2697  006956    male  Asian   19    006956_male_Asian_19\n",
       "2698  006957    male  Asian   20    006957_male_Asian_20\n",
       "2699  006959    male  Asian   19    006959_male_Asian_19\n",
       "\n",
       "[2700 rows x 5 columns]"
      ]
     },
     "execution_count": 13,
     "metadata": {},
     "output_type": "execute_result"
    }
   ],
   "source": [
    "df"
   ]
  },
  {
   "cell_type": "code",
   "execution_count": 20,
   "id": "proof-trust",
   "metadata": {},
   "outputs": [
    {
     "name": "stderr",
     "output_type": "stream",
     "text": [
      "/opt/conda/lib/python3.7/site-packages/seaborn/_decorators.py:43: FutureWarning: Pass the following variable as a keyword arg: x. From version 0.12, the only valid positional argument will be `data`, and passing other arguments without an explicit keyword will result in an error or misinterpretation.\n",
      "  FutureWarning\n"
     ]
    },
    {
     "data": {
      "text/plain": [
       "<matplotlib.axes._subplots.AxesSubplot at 0x7f82dfedab50>"
      ]
     },
     "execution_count": 20,
     "metadata": {},
     "output_type": "execute_result"
    },
    {
     "data": {
      "image/png": "[encoded data removed]",
      "text/plain": [
       "<Figure size 432x288 with 1 Axes>"
      ]
     },
     "metadata": {
      "needs_background": "light"
     },
     "output_type": "display_data"
    }
   ],
   "source": [
    "sns.countplot(df.gender)"
   ]
  },
  {
   "cell_type": "code",
   "execution_count": 38,
   "id": "affecting-bridal",
   "metadata": {},
   "outputs": [
    {
     "data": {
      "text/plain": [
       "0       0\n",
       "1       0\n",
       "2       0\n",
       "3       0\n",
       "4       0\n",
       "       ..\n",
       "2837    1\n",
       "2838    1\n",
       "2839    1\n",
       "2840    1\n",
       "2841    1\n",
       "Name: age, Length: 18914, dtype: int64"
      ]
     },
     "execution_count": 38,
     "metadata": {},
     "output_type": "execute_result"
    }
   ],
   "source": [
    "pd.concat([df_train_ag, df_valid_ag]).age.apply(lambda x: 0 if x < 30 else(1 if 30<=x<60 else 2))"
   ]
  },
  {
   "cell_type": "code",
   "execution_count": 39,
   "id": "waiting-revolution",
   "metadata": {},
   "outputs": [
    {
     "name": "stderr",
     "output_type": "stream",
     "text": [
      "/opt/conda/lib/python3.7/site-packages/seaborn/_decorators.py:43: FutureWarning: Pass the following variable as a keyword arg: x. From version 0.12, the only valid positional argument will be `data`, and passing other arguments without an explicit keyword will result in an error or misinterpretation.\n",
      "  FutureWarning\n",
      "/opt/conda/lib/python3.7/site-packages/seaborn/_decorators.py:43: FutureWarning: Pass the following variable as a keyword arg: x. From version 0.12, the only valid positional argument will be `data`, and passing other arguments without an explicit keyword will result in an error or misinterpretation.\n",
      "  FutureWarning\n",
      "/opt/conda/lib/python3.7/site-packages/seaborn/_decorators.py:43: FutureWarning: Pass the following variable as a keyword arg: x. From version 0.12, the only valid positional argument will be `data`, and passing other arguments without an explicit keyword will result in an error or misinterpretation.\n",
      "  FutureWarning\n"
     ]
    },
    {
     "data": {
      "text/plain": [
       "<Figure size 1224x288 with 0 Axes>"
      ]
     },
     "metadata": {},
     "output_type": "display_data"
    },
    {
     "data": {
      "image/png": "[encoded data removed]",
      "text/plain": [
       "<Figure size 1296x432 with 3 Axes>"
      ]
     },
     "metadata": {
      "needs_background": "light"
     },
     "output_type": "display_data"
    }
   ],
   "source": [
    "plt.figure(figsize=(17, 4))\n",
    "fig, axes = plt.subplots(nrows=1, ncols=3)\n",
    "fig.set_size_inches(18,6)\n",
    "sns.countplot(df.gender, ax=axes[0])\n",
    "sns.countplot(pd.concat([df_train_ag, df_valid_ag]).mask_status, ax=axes[1])\n",
    "sns.countplot(pd.concat([df_train_ag, df_valid_ag]).age.apply(lambda x: 0 if x < 30 else(1 if 30<=x<60 else 2)))\n",
    "plt.show()"
   ]
  },
  {
   "cell_type": "code",
   "execution_count": 44,
   "id": "recreational-independence",
   "metadata": {},
   "outputs": [
    {
     "name": "stderr",
     "output_type": "stream",
     "text": [
      "/opt/conda/lib/python3.7/site-packages/seaborn/_decorators.py:43: FutureWarning: Pass the following variable as a keyword arg: x. From version 0.12, the only valid positional argument will be `data`, and passing other arguments without an explicit keyword will result in an error or misinterpretation.\n",
      "  FutureWarning\n",
      "/opt/conda/lib/python3.7/site-packages/seaborn/_decorators.py:43: FutureWarning: Pass the following variable as a keyword arg: x. From version 0.12, the only valid positional argument will be `data`, and passing other arguments without an explicit keyword will result in an error or misinterpretation.\n",
      "  FutureWarning\n"
     ]
    },
    {
     "data": {
      "text/plain": [
       "<matplotlib.axes._subplots.AxesSubplot at 0x7f82dcfdaad0>"
      ]
     },
     "execution_count": 44,
     "metadata": {},
     "output_type": "execute_result"
    },
    {
     "data": {
      "image/png": "[encoded data removed]",
      "text/plain": [
       "<Figure size 1296x432 with 2 Axes>"
      ]
     },
     "metadata": {
      "needs_background": "light"
     },
     "output_type": "display_data"
    }
   ],
   "source": [
    "fig, axes = plt.subplots(nrows=1, ncols=2)\n",
    "fig.set_size_inches(18,6)\n",
    "sns.countplot(pd.concat([df_train_ag, df_valid_ag]).age_group, ax=axes[0])\n",
    "sns.countplot(pd.concat([df_train_ag, df_valid_ag]).ans, ax=axes[1])"
   ]
  },
  {
   "cell_type": "code",
   "execution_count": 22,
   "id": "greek-military",
   "metadata": {},
   "outputs": [
    {
     "name": "stderr",
     "output_type": "stream",
     "text": [
      "/opt/conda/lib/python3.7/site-packages/seaborn/_decorators.py:43: FutureWarning: Pass the following variable as a keyword arg: x. From version 0.12, the only valid positional argument will be `data`, and passing other arguments without an explicit keyword will result in an error or misinterpretation.\n",
      "  FutureWarning\n"
     ]
    },
    {
     "data": {
      "text/plain": [
       "<matplotlib.axes._subplots.AxesSubplot at 0x7f82ddff0ed0>"
      ]
     },
     "execution_count": 22,
     "metadata": {},
     "output_type": "execute_result"
    },
    {
     "data": {
      "image/png": "[encoded data removed]",
      "text/plain": [
       "<Figure size 432x288 with 1 Axes>"
      ]
     },
     "metadata": {
      "needs_background": "light"
     },
     "output_type": "display_data"
    }
   ],
   "source": [
    "sns.countplot(pd.concat([df_train_ag, df_valid_ag]).mask_status)"
   ]
  },
  {
   "cell_type": "code",
   "execution_count": 5,
   "id": "close-somerset",
   "metadata": {},
   "outputs": [
    {
     "name": "stderr",
     "output_type": "stream",
     "text": [
      "/opt/conda/lib/python3.7/site-packages/seaborn/distributions.py:2557: FutureWarning: `distplot` is a deprecated function and will be removed in a future version. Please adapt your code to use either `displot` (a figure-level function with similar flexibility) or `histplot` (an axes-level function for histograms).\n",
      "  warnings.warn(msg, FutureWarning)\n"
     ]
    },
    {
     "data": {
      "text/plain": [
       "<matplotlib.axes._subplots.AxesSubplot at 0x7f82e1e48910>"
      ]
     },
     "execution_count": 5,
     "metadata": {},
     "output_type": "execute_result"
    },
    {
     "data": {
      "image/png": "[encoded data removed]",
      "text/plain": [
       "<Figure size 432x288 with 1 Axes>"
      ]
     },
     "metadata": {
      "needs_background": "light"
     },
     "output_type": "display_data"
    }
   ],
   "source": [
    "import seaborn as sns\n",
    "\n",
    "sns.distplot(df['age'])"
   ]
  },
  {
   "cell_type": "code",
   "execution_count": 3,
   "id": "stuck-samoa",
   "metadata": {},
   "outputs": [],
   "source": [
    "transform = transforms.Compose([\n",
    "                transforms.CenterCrop(350),\n",
    "                transforms.Resize((224, 224)),\n",
    "                transforms.RandomHorizontalFlip(),\n",
    "                transforms.RandomChoice([\n",
    "                    transforms.RandomAffine(degrees=3),\n",
    "                    transforms.ColorJitter(0.1, 0.1, 0.1, 0),\n",
    "                        ]),\n",
    "                transforms.ToTensor(),\n",
    "                transforms.Normalize((0.548, 0.504, 0.479), (0.237, 0.247, 0.246)),\n",
    "])"
   ]
  },
  {
   "cell_type": "code",
   "execution_count": 4,
   "id": "integrated-tower",
   "metadata": {},
   "outputs": [
    {
     "name": "stdout",
     "output_type": "stream",
     "text": [
      "Loaded pretrained weights for efficientnet-b3\n",
      "Loaded pretrained weights for efficientnet-b3\n",
      "Loaded pretrained weights for efficientnet-b3\n",
      "Loaded pretrained weights for efficientnet-b3\n"
     ]
    }
   ],
   "source": [
    "# Efficient Net\n",
    "\n",
    "# Hyper params\n",
    "BS = 128\n",
    "LR = 3e-4\n",
    "EPOCHS = 200\n",
    "\n",
    "# Backbones\n",
    "efficientnet_1 = EfficientNet.from_pretrained(\"efficientnet-b3\", num_classes=3) # mask\n",
    "efficientnet_2 = EfficientNet.from_pretrained(\"efficientnet-b3\", num_classes=2) # gender\n",
    "efficientnet_3 = EfficientNet.from_pretrained(\"efficientnet-b3\", num_classes=3) # age\n",
    "efficientnet_4 = EfficientNet.from_pretrained(\"efficientnet-b3\", num_classes=18) # all\n",
    "\n",
    "# Models\n",
    "model_mask_ef = Trainer(efficientnet_1, df_train_mask, df_valid_mask, 'mask', transform, BS, LR, EPOCHS, use_optimizer=0, use_scheduler=3)\n",
    "model_gender_ef = Trainer(efficientnet_2, df_train_ag, df_valid_ag, 'gender', transform, BS, LR, EPOCHS, use_optimizer=0, use_scheduler=3)\n",
    "model_age_ef = Trainer(efficientnet_3, df_train_ag, df_valid_ag, 'age', transform, BS, LR, EPOCHS, use_optimizer=0, use_scheduler=3)\n",
    "model_all_ef = Trainer(efficientnet_4, df_train_ag, df_valid_ag, 'all', transform, BS, LR, EPOCHS, use_optimizer=0, use_scheduler=3)"
   ]
  },
  {
   "cell_type": "code",
   "execution_count": 5,
   "id": "statistical-marking",
   "metadata": {
    "collapsed": true,
    "jupyter": {
     "outputs_hidden": true
    },
    "tags": []
   },
   "outputs": [
    {
     "name": "stdout",
     "output_type": "stream",
     "text": [
      "Running on device: cuda:0 start training...\n",
      "Setting - Epochs: 200, Learning rate: 0.0003 \n"
     ]
    },
    {
     "name": "stderr",
     "output_type": "stream",
     "text": [
      "Epoch 1: 100%|██████████| 126/126 [02:22<00:00,  1.13s/batch, accuracy=52.8, current_lr=1e-5, loss=2.02, val_acc=50.1, val_loss=1.95]\n",
      "  0%|          | 0/126 [00:00<?, ?batch/s]"
     ]
    },
    {
     "name": "stdout",
     "output_type": "stream",
     "text": [
      "Validation loss decreased (inf --> 1.953097).  Saving model ...\n"
     ]
    },
    {
     "name": "stderr",
     "output_type": "stream",
     "text": [
      "Epoch 2: 100%|██████████| 126/126 [02:24<00:00,  1.14s/batch, accuracy=59.7, current_lr=1e-5, loss=1.52, val_acc=60.7, val_loss=1.37]\n"
     ]
    },
    {
     "name": "stdout",
     "output_type": "stream",
     "text": [
      "Validation loss decreased (1.953097 --> 1.369793).  Saving model ...\n"
     ]
    },
    {
     "name": "stderr",
     "output_type": "stream",
     "text": [
      "Epoch 3: 100%|██████████| 126/126 [02:36<00:00,  1.24s/batch, accuracy=65.3, current_lr=1e-5, loss=1.14, val_acc=67.9, val_loss=1.08]\n"
     ]
    },
    {
     "name": "stdout",
     "output_type": "stream",
     "text": [
      "Validation loss decreased (1.369793 --> 1.078346).  Saving model ...\n"
     ]
    },
    {
     "name": "stderr",
     "output_type": "stream",
     "text": [
      "Epoch 4: 100%|██████████| 126/126 [02:32<00:00,  1.21s/batch, accuracy=70.8, current_lr=1e-5, loss=0.945, val_acc=72.1, val_loss=0.895]\n"
     ]
    },
    {
     "name": "stdout",
     "output_type": "stream",
     "text": [
      "Validation loss decreased (1.078346 --> 0.895136).  Saving model ...\n"
     ]
    },
    {
     "name": "stderr",
     "output_type": "stream",
     "text": [
      "Epoch 5: 100%|██████████| 126/126 [02:33<00:00,  1.22s/batch, accuracy=73.6, current_lr=1e-5, loss=0.806, val_acc=73.5, val_loss=0.783]\n"
     ]
    },
    {
     "name": "stdout",
     "output_type": "stream",
     "text": [
      "Validation loss decreased (0.895136 --> 0.783342).  Saving model ...\n"
     ]
    },
    {
     "name": "stderr",
     "output_type": "stream",
     "text": [
      "Epoch 6: 100%|██████████| 126/126 [02:31<00:00,  1.20s/batch, accuracy=72.2, current_lr=1e-5, loss=0.711, val_acc=76.3, val_loss=0.697]\n"
     ]
    },
    {
     "name": "stdout",
     "output_type": "stream",
     "text": [
      "Validation loss decreased (0.783342 --> 0.696531).  Saving model ...\n"
     ]
    },
    {
     "name": "stderr",
     "output_type": "stream",
     "text": [
      "Epoch 7: 100%|██████████| 126/126 [02:29<00:00,  1.19s/batch, accuracy=77.8, current_lr=1e-5, loss=0.614, val_acc=77.2, val_loss=0.648]\n"
     ]
    },
    {
     "name": "stdout",
     "output_type": "stream",
     "text": [
      "Validation loss decreased (0.696531 --> 0.647657).  Saving model ...\n"
     ]
    },
    {
     "name": "stderr",
     "output_type": "stream",
     "text": [
      "Epoch 8: 100%|██████████| 126/126 [02:34<00:00,  1.23s/batch, accuracy=79.2, current_lr=1e-5, loss=0.573, val_acc=78, val_loss=0.597] \n"
     ]
    },
    {
     "name": "stdout",
     "output_type": "stream",
     "text": [
      "Validation loss decreased (0.647657 --> 0.596941).  Saving model ...\n"
     ]
    },
    {
     "name": "stderr",
     "output_type": "stream",
     "text": [
      "Epoch 9: 100%|██████████| 126/126 [02:36<00:00,  1.24s/batch, accuracy=80.6, current_lr=1e-5, loss=0.541, val_acc=78.8, val_loss=0.563]\n"
     ]
    },
    {
     "name": "stdout",
     "output_type": "stream",
     "text": [
      "Validation loss decreased (0.596941 --> 0.563462).  Saving model ...\n"
     ]
    },
    {
     "name": "stderr",
     "output_type": "stream",
     "text": [
      "Epoch 10: 100%|██████████| 126/126 [02:35<00:00,  1.23s/batch, accuracy=84.7, current_lr=1e-5, loss=0.442, val_acc=78.5, val_loss=0.548]\n"
     ]
    },
    {
     "name": "stdout",
     "output_type": "stream",
     "text": [
      "Validation loss decreased (0.563462 --> 0.548154).  Saving model ...\n"
     ]
    },
    {
     "name": "stderr",
     "output_type": "stream",
     "text": [
      "Epoch 11: 100%|██████████| 126/126 [02:35<00:00,  1.23s/batch, accuracy=80.6, current_lr=1e-5, loss=0.443, val_acc=79.5, val_loss=0.531]\n"
     ]
    },
    {
     "name": "stdout",
     "output_type": "stream",
     "text": [
      "Validation loss decreased (0.548154 --> 0.530568).  Saving model ...\n"
     ]
    },
    {
     "name": "stderr",
     "output_type": "stream",
     "text": [
      "Epoch 12: 100%|██████████| 126/126 [02:34<00:00,  1.23s/batch, accuracy=79.2, current_lr=1e-5, loss=0.431, val_acc=79.5, val_loss=0.516]\n"
     ]
    },
    {
     "name": "stdout",
     "output_type": "stream",
     "text": [
      "Validation loss decreased (0.530568 --> 0.516455).  Saving model ...\n"
     ]
    },
    {
     "name": "stderr",
     "output_type": "stream",
     "text": [
      "Epoch 13: 100%|██████████| 126/126 [02:35<00:00,  1.23s/batch, accuracy=79.2, current_lr=1e-5, loss=0.459, val_acc=79.7, val_loss=0.502]\n"
     ]
    },
    {
     "name": "stdout",
     "output_type": "stream",
     "text": [
      "Validation loss decreased (0.516455 --> 0.502120).  Saving model ...\n"
     ]
    },
    {
     "name": "stderr",
     "output_type": "stream",
     "text": [
      "Epoch 14: 100%|██████████| 126/126 [02:33<00:00,  1.22s/batch, accuracy=83.3, current_lr=1e-5, loss=0.379, val_acc=79.8, val_loss=0.5] \n"
     ]
    },
    {
     "name": "stdout",
     "output_type": "stream",
     "text": [
      "Validation loss decreased (0.502120 --> 0.499810).  Saving model ...\n"
     ]
    },
    {
     "name": "stderr",
     "output_type": "stream",
     "text": [
      "Epoch 15: 100%|██████████| 126/126 [02:33<00:00,  1.22s/batch, accuracy=84.7, current_lr=1e-5, loss=0.353, val_acc=80, val_loss=0.502] \n",
      "  0%|          | 0/126 [00:00<?, ?batch/s]"
     ]
    },
    {
     "name": "stdout",
     "output_type": "stream",
     "text": [
      "EarlyStopping counter: 1 out of 10\n"
     ]
    },
    {
     "name": "stderr",
     "output_type": "stream",
     "text": [
      "Epoch 16: 100%|██████████| 126/126 [02:35<00:00,  1.23s/batch, accuracy=81.9, current_lr=1e-5, loss=0.323, val_acc=79.8, val_loss=0.5] \n",
      "  0%|          | 0/126 [00:00<?, ?batch/s]"
     ]
    },
    {
     "name": "stdout",
     "output_type": "stream",
     "text": [
      "EarlyStopping counter: 2 out of 10\n"
     ]
    },
    {
     "name": "stderr",
     "output_type": "stream",
     "text": [
      "Epoch 17: 100%|██████████| 126/126 [02:34<00:00,  1.22s/batch, accuracy=84.7, current_lr=1e-5, loss=0.31, val_acc=79.7, val_loss=0.503]\n",
      "  0%|          | 0/126 [00:00<?, ?batch/s]"
     ]
    },
    {
     "name": "stdout",
     "output_type": "stream",
     "text": [
      "EarlyStopping counter: 3 out of 10\n"
     ]
    },
    {
     "name": "stderr",
     "output_type": "stream",
     "text": [
      "Epoch 18: 100%|██████████| 126/126 [02:34<00:00,  1.23s/batch, accuracy=81.9, current_lr=1e-5, loss=0.329, val_acc=79.4, val_loss=0.52]\n",
      "  0%|          | 0/126 [00:00<?, ?batch/s]"
     ]
    },
    {
     "name": "stdout",
     "output_type": "stream",
     "text": [
      "EarlyStopping counter: 4 out of 10\n"
     ]
    },
    {
     "name": "stderr",
     "output_type": "stream",
     "text": [
      "Epoch 19: 100%|██████████| 126/126 [02:33<00:00,  1.22s/batch, accuracy=88.9, current_lr=1e-5, loss=0.298, val_acc=79.2, val_loss=0.527]\n",
      "  0%|          | 0/126 [00:00<?, ?batch/s]"
     ]
    },
    {
     "name": "stdout",
     "output_type": "stream",
     "text": [
      "EarlyStopping counter: 5 out of 10\n"
     ]
    },
    {
     "name": "stderr",
     "output_type": "stream",
     "text": [
      "Epoch 20: 100%|██████████| 126/126 [02:35<00:00,  1.23s/batch, accuracy=87.5, current_lr=1e-5, loss=0.264, val_acc=80, val_loss=0.517] \n",
      "  0%|          | 0/126 [00:00<?, ?batch/s]"
     ]
    },
    {
     "name": "stdout",
     "output_type": "stream",
     "text": [
      "EarlyStopping counter: 6 out of 10\n"
     ]
    },
    {
     "name": "stderr",
     "output_type": "stream",
     "text": [
      "Epoch 21: 100%|██████████| 126/126 [02:35<00:00,  1.23s/batch, accuracy=88.9, current_lr=1e-5, loss=0.222, val_acc=79.5, val_loss=0.525]\n",
      "  0%|          | 0/126 [00:00<?, ?batch/s]"
     ]
    },
    {
     "name": "stdout",
     "output_type": "stream",
     "text": [
      "EarlyStopping counter: 7 out of 10\n"
     ]
    },
    {
     "name": "stderr",
     "output_type": "stream",
     "text": [
      "Epoch 22: 100%|██████████| 126/126 [02:35<00:00,  1.23s/batch, accuracy=91.7, current_lr=1e-5, loss=0.212, val_acc=79.3, val_loss=0.552]\n",
      "  0%|          | 0/126 [00:00<?, ?batch/s]"
     ]
    },
    {
     "name": "stdout",
     "output_type": "stream",
     "text": [
      "EarlyStopping counter: 8 out of 10\n"
     ]
    },
    {
     "name": "stderr",
     "output_type": "stream",
     "text": [
      "Epoch 23: 100%|██████████| 126/126 [02:35<00:00,  1.23s/batch, accuracy=87.5, current_lr=1e-5, loss=0.254, val_acc=79.4, val_loss=0.557]\n",
      "  0%|          | 0/126 [00:00<?, ?batch/s]"
     ]
    },
    {
     "name": "stdout",
     "output_type": "stream",
     "text": [
      "EarlyStopping counter: 9 out of 10\n"
     ]
    },
    {
     "name": "stderr",
     "output_type": "stream",
     "text": [
      "Epoch 24: 100%|██████████| 126/126 [02:33<00:00,  1.22s/batch, accuracy=93.1, current_lr=1e-5, loss=0.217, val_acc=79.1, val_loss=0.567]\n"
     ]
    },
    {
     "name": "stdout",
     "output_type": "stream",
     "text": [
      "EarlyStopping counter: 10 out of 10\n",
      "Early stopping\n"
     ]
    }
   ],
   "source": [
    "model_all_ef.train()"
   ]
  },
  {
   "cell_type": "code",
   "execution_count": 9,
   "id": "arabic-raising",
   "metadata": {},
   "outputs": [
    {
     "data": {
      "image/png": "[encoded data removed]",
      "text/plain": [
       "<Figure size 432x288 with 1 Axes>"
      ]
     },
     "metadata": {
      "needs_background": "light"
     },
     "output_type": "display_data"
    }
   ],
   "source": [
    "model_all_ef.show_history()"
   ]
  },
  {
   "cell_type": "code",
   "execution_count": 7,
   "id": "about-jimmy",
   "metadata": {},
   "outputs": [
    {
     "name": "stderr",
     "output_type": "stream",
     "text": [
      "100%|██████████| 23/23 [00:23<00:00,  1.03s/it]"
     ]
    },
    {
     "name": "stdout",
     "output_type": "stream",
     "text": [
      "              precision    recall  f1-score   support\n",
      "\n",
      "           0       0.91      0.97      0.94       410\n",
      "           1       0.60      0.71      0.65       210\n",
      "           2       0.64      0.46      0.54       160\n",
      "           3       0.97      0.96      0.96       555\n",
      "           4       0.69      0.84      0.76       450\n",
      "           5       0.64      0.36      0.46       245\n",
      "           6       0.91      0.99      0.95        82\n",
      "           7       0.53      0.50      0.51        42\n",
      "           8       0.54      0.41      0.46        32\n",
      "           9       0.95      0.96      0.96       111\n",
      "          10       0.73      0.91      0.81        90\n",
      "          11       0.95      0.41      0.57        49\n",
      "          12       0.91      0.98      0.94        82\n",
      "          13       0.67      0.62      0.64        42\n",
      "          14       0.70      0.72      0.71        32\n",
      "          15       0.96      0.95      0.96       111\n",
      "          16       0.67      0.87      0.75        90\n",
      "          17       0.67      0.24      0.36        49\n",
      "\n",
      "    accuracy                           0.80      2842\n",
      "   macro avg       0.76      0.71      0.72      2842\n",
      "weighted avg       0.80      0.80      0.79      2842\n",
      "\n"
     ]
    },
    {
     "name": "stderr",
     "output_type": "stream",
     "text": [
      "\n"
     ]
    }
   ],
   "source": [
    "model_all_ef.show_report()"
   ]
  },
  {
   "cell_type": "code",
   "execution_count": 8,
   "id": "linear-wayne",
   "metadata": {
    "tags": []
   },
   "outputs": [
    {
     "name": "stderr",
     "output_type": "stream",
     "text": [
      "100%|██████████| 99/99 [01:20<00:00,  1.23it/s]\n"
     ]
    },
    {
     "data": {
      "text/html": [
       "<div>\n",
       "<style scoped>\n",
       "    .dataframe tbody tr th:only-of-type {\n",
       "        vertical-align: middle;\n",
       "    }\n",
       "\n",
       "    .dataframe tbody tr th {\n",
       "        vertical-align: top;\n",
       "    }\n",
       "\n",
       "    .dataframe thead th {\n",
       "        text-align: right;\n",
       "    }\n",
       "</style>\n",
       "<table border=\"1\" class=\"dataframe\">\n",
       "  <thead>\n",
       "    <tr style=\"text-align: right;\">\n",
       "      <th></th>\n",
       "      <th>Unnamed: 0</th>\n",
       "      <th>ImageID</th>\n",
       "      <th>ans</th>\n",
       "    </tr>\n",
       "  </thead>\n",
       "  <tbody>\n",
       "    <tr>\n",
       "      <th>0</th>\n",
       "      <td>0</td>\n",
       "      <td>cbc5c6e168e63498590db46022617123f1fe1268.jpg</td>\n",
       "      <td>14</td>\n",
       "    </tr>\n",
       "    <tr>\n",
       "      <th>1</th>\n",
       "      <td>1</td>\n",
       "      <td>0e72482bf56b3581c081f7da2a6180b8792c7089.jpg</td>\n",
       "      <td>2</td>\n",
       "    </tr>\n",
       "    <tr>\n",
       "      <th>2</th>\n",
       "      <td>2</td>\n",
       "      <td>b549040c49190cedc41327748aeb197c1670f14d.jpg</td>\n",
       "      <td>14</td>\n",
       "    </tr>\n",
       "    <tr>\n",
       "      <th>3</th>\n",
       "      <td>3</td>\n",
       "      <td>4f9cb2a045c6d5b9e50ad3459ea7b791eb6e18bc.jpg</td>\n",
       "      <td>13</td>\n",
       "    </tr>\n",
       "    <tr>\n",
       "      <th>4</th>\n",
       "      <td>4</td>\n",
       "      <td>248428d9a4a5b6229a7081c32851b90cb8d38d0c.jpg</td>\n",
       "      <td>12</td>\n",
       "    </tr>\n",
       "    <tr>\n",
       "      <th>...</th>\n",
       "      <td>...</td>\n",
       "      <td>...</td>\n",
       "      <td>...</td>\n",
       "    </tr>\n",
       "    <tr>\n",
       "      <th>12595</th>\n",
       "      <td>12595</td>\n",
       "      <td>d71d4570505d6af8f777690e63edfa8d85ea4476.jpg</td>\n",
       "      <td>2</td>\n",
       "    </tr>\n",
       "    <tr>\n",
       "      <th>12596</th>\n",
       "      <td>12596</td>\n",
       "      <td>6cf1300e8e218716728d5820c0bab553306c2cfd.jpg</td>\n",
       "      <td>5</td>\n",
       "    </tr>\n",
       "    <tr>\n",
       "      <th>12597</th>\n",
       "      <td>12597</td>\n",
       "      <td>8140edbba31c3a824e817e6d5fb95343199e2387.jpg</td>\n",
       "      <td>9</td>\n",
       "    </tr>\n",
       "    <tr>\n",
       "      <th>12598</th>\n",
       "      <td>12598</td>\n",
       "      <td>030d439efe6fb5a7bafda45a393fc19f2bf57f54.jpg</td>\n",
       "      <td>1</td>\n",
       "    </tr>\n",
       "    <tr>\n",
       "      <th>12599</th>\n",
       "      <td>12599</td>\n",
       "      <td>f1e0b9594ae9f72571f0a9dc67406ad41f2edab0.jpg</td>\n",
       "      <td>8</td>\n",
       "    </tr>\n",
       "  </tbody>\n",
       "</table>\n",
       "<p>12600 rows × 3 columns</p>\n",
       "</div>"
      ],
      "text/plain": [
       "       Unnamed: 0                                       ImageID  ans\n",
       "0               0  cbc5c6e168e63498590db46022617123f1fe1268.jpg   14\n",
       "1               1  0e72482bf56b3581c081f7da2a6180b8792c7089.jpg    2\n",
       "2               2  b549040c49190cedc41327748aeb197c1670f14d.jpg   14\n",
       "3               3  4f9cb2a045c6d5b9e50ad3459ea7b791eb6e18bc.jpg   13\n",
       "4               4  248428d9a4a5b6229a7081c32851b90cb8d38d0c.jpg   12\n",
       "...           ...                                           ...  ...\n",
       "12595       12595  d71d4570505d6af8f777690e63edfa8d85ea4476.jpg    2\n",
       "12596       12596  6cf1300e8e218716728d5820c0bab553306c2cfd.jpg    5\n",
       "12597       12597  8140edbba31c3a824e817e6d5fb95343199e2387.jpg    9\n",
       "12598       12598  030d439efe6fb5a7bafda45a393fc19f2bf57f54.jpg    1\n",
       "12599       12599  f1e0b9594ae9f72571f0a9dc67406ad41f2edab0.jpg    8\n",
       "\n",
       "[12600 rows x 3 columns]"
      ]
     },
     "execution_count": 8,
     "metadata": {},
     "output_type": "execute_result"
    }
   ],
   "source": [
    "inference({'all_model': [model_all_ef.model]}, False)"
   ]
  },
  {
   "cell_type": "code",
   "execution_count": 5,
   "id": "micro-flash",
   "metadata": {
    "tags": []
   },
   "outputs": [
    {
     "name": "stdout",
     "output_type": "stream",
     "text": [
      "Running on device: cuda:0 start training...\n",
      "Setting - Epochs: 200, Learning rate: 0.0003 \n"
     ]
    },
    {
     "name": "stderr",
     "output_type": "stream",
     "text": [
      "Epoch 1: 100%|██████████| 54/54 [01:00<00:00,  1.11s/batch, accuracy=97, current_lr=1e-5, loss=0.386, val_acc=93.3, val_loss=0.367]  \n",
      "  0%|          | 0/54 [00:00<?, ?batch/s]"
     ]
    },
    {
     "name": "stdout",
     "output_type": "stream",
     "text": [
      "Validation loss decreased (inf --> 0.367419).  Saving model ...\n"
     ]
    },
    {
     "name": "stderr",
     "output_type": "stream",
     "text": [
      "Epoch 2: 100%|██████████| 54/54 [00:59<00:00,  1.11s/batch, accuracy=96, current_lr=1e-5, loss=0.234, val_acc=95.8, val_loss=0.184] \n"
     ]
    },
    {
     "name": "stdout",
     "output_type": "stream",
     "text": [
      "Validation loss decreased (0.367419 --> 0.183921).  Saving model ...\n"
     ]
    },
    {
     "name": "stderr",
     "output_type": "stream",
     "text": [
      "Epoch 3: 100%|██████████| 54/54 [00:59<00:00,  1.10s/batch, accuracy=97, current_lr=1e-5, loss=0.161, val_acc=97.2, val_loss=0.1]   \n"
     ]
    },
    {
     "name": "stdout",
     "output_type": "stream",
     "text": [
      "Validation loss decreased (0.183921 --> 0.100185).  Saving model ...\n"
     ]
    },
    {
     "name": "stderr",
     "output_type": "stream",
     "text": [
      "Epoch 4: 100%|██████████| 54/54 [01:00<00:00,  1.11s/batch, accuracy=97, current_lr=1e-5, loss=0.109, val_acc=98.4, val_loss=0.0653] \n"
     ]
    },
    {
     "name": "stdout",
     "output_type": "stream",
     "text": [
      "Validation loss decreased (0.100185 --> 0.065311).  Saving model ...\n"
     ]
    },
    {
     "name": "stderr",
     "output_type": "stream",
     "text": [
      "Epoch 5: 100%|██████████| 54/54 [01:00<00:00,  1.11s/batch, accuracy=98, current_lr=1e-5, loss=0.0664, val_acc=98.8, val_loss=0.0515]\n"
     ]
    },
    {
     "name": "stdout",
     "output_type": "stream",
     "text": [
      "Validation loss decreased (0.065311 --> 0.051528).  Saving model ...\n"
     ]
    },
    {
     "name": "stderr",
     "output_type": "stream",
     "text": [
      "Epoch 6: 100%|██████████| 54/54 [01:00<00:00,  1.12s/batch, accuracy=99, current_lr=1e-5, loss=0.0476, val_acc=98.9, val_loss=0.0329]\n"
     ]
    },
    {
     "name": "stdout",
     "output_type": "stream",
     "text": [
      "Validation loss decreased (0.051528 --> 0.032916).  Saving model ...\n"
     ]
    },
    {
     "name": "stderr",
     "output_type": "stream",
     "text": [
      "Epoch 7: 100%|██████████| 54/54 [01:00<00:00,  1.12s/batch, accuracy=99, current_lr=1e-5, loss=0.0367, val_acc=99.4, val_loss=0.0305]\n"
     ]
    },
    {
     "name": "stdout",
     "output_type": "stream",
     "text": [
      "Validation loss decreased (0.032916 --> 0.030525).  Saving model ...\n"
     ]
    },
    {
     "name": "stderr",
     "output_type": "stream",
     "text": [
      "Epoch 8: 100%|██████████| 54/54 [01:00<00:00,  1.11s/batch, accuracy=100, current_lr=1e-5, loss=0.0306, val_acc=99.7, val_loss=0.0191]\n"
     ]
    },
    {
     "name": "stdout",
     "output_type": "stream",
     "text": [
      "Validation loss decreased (0.030525 --> 0.019053).  Saving model ...\n"
     ]
    },
    {
     "name": "stderr",
     "output_type": "stream",
     "text": [
      "Epoch 9: 100%|██████████| 54/54 [01:02<00:00,  1.16s/batch, accuracy=100, current_lr=1e-5, loss=0.0264, val_acc=99.5, val_loss=0.0182]\n"
     ]
    },
    {
     "name": "stdout",
     "output_type": "stream",
     "text": [
      "Validation loss decreased (0.019053 --> 0.018245).  Saving model ...\n"
     ]
    },
    {
     "name": "stderr",
     "output_type": "stream",
     "text": [
      "Epoch 10: 100%|██████████| 54/54 [01:02<00:00,  1.15s/batch, accuracy=100, current_lr=1e-5, loss=0.0154, val_acc=99.6, val_loss=0.0194]\n",
      "  0%|          | 0/54 [00:00<?, ?batch/s]"
     ]
    },
    {
     "name": "stdout",
     "output_type": "stream",
     "text": [
      "EarlyStopping counter: 1 out of 10\n"
     ]
    },
    {
     "name": "stderr",
     "output_type": "stream",
     "text": [
      "Epoch 11: 100%|██████████| 54/54 [01:00<00:00,  1.11s/batch, accuracy=100, current_lr=1e-5, loss=0.0116, val_acc=99.6, val_loss=0.0173]\n"
     ]
    },
    {
     "name": "stdout",
     "output_type": "stream",
     "text": [
      "Validation loss decreased (0.018245 --> 0.017261).  Saving model ...\n"
     ]
    },
    {
     "name": "stderr",
     "output_type": "stream",
     "text": [
      "Epoch 12: 100%|██████████| 54/54 [01:00<00:00,  1.11s/batch, accuracy=100, current_lr=1e-5, loss=0.00955, val_acc=99.6, val_loss=0.0137]\n"
     ]
    },
    {
     "name": "stdout",
     "output_type": "stream",
     "text": [
      "Validation loss decreased (0.017261 --> 0.013708).  Saving model ...\n"
     ]
    },
    {
     "name": "stderr",
     "output_type": "stream",
     "text": [
      "Epoch 13: 100%|██████████| 54/54 [01:00<00:00,  1.11s/batch, accuracy=100, current_lr=1e-5, loss=0.00908, val_acc=99.6, val_loss=0.015]\n",
      "  0%|          | 0/54 [00:00<?, ?batch/s]"
     ]
    },
    {
     "name": "stdout",
     "output_type": "stream",
     "text": [
      "EarlyStopping counter: 1 out of 10\n"
     ]
    },
    {
     "name": "stderr",
     "output_type": "stream",
     "text": [
      "Epoch 14: 100%|██████████| 54/54 [01:00<00:00,  1.11s/batch, accuracy=100, current_lr=1e-5, loss=0.00681, val_acc=99.7, val_loss=0.0116]\n"
     ]
    },
    {
     "name": "stdout",
     "output_type": "stream",
     "text": [
      "Validation loss decreased (0.013708 --> 0.011618).  Saving model ...\n"
     ]
    },
    {
     "name": "stderr",
     "output_type": "stream",
     "text": [
      "Epoch 15: 100%|██████████| 54/54 [01:00<00:00,  1.12s/batch, accuracy=100, current_lr=1e-5, loss=0.00506, val_acc=99.7, val_loss=0.0119]\n",
      "  0%|          | 0/54 [00:00<?, ?batch/s]"
     ]
    },
    {
     "name": "stdout",
     "output_type": "stream",
     "text": [
      "EarlyStopping counter: 1 out of 10\n"
     ]
    },
    {
     "name": "stderr",
     "output_type": "stream",
     "text": [
      "Epoch 16: 100%|██████████| 54/54 [01:00<00:00,  1.11s/batch, accuracy=100, current_lr=1e-5, loss=0.00502, val_acc=99.7, val_loss=0.0105]\n"
     ]
    },
    {
     "name": "stdout",
     "output_type": "stream",
     "text": [
      "Validation loss decreased (0.011618 --> 0.010486).  Saving model ...\n"
     ]
    },
    {
     "name": "stderr",
     "output_type": "stream",
     "text": [
      "Epoch 17: 100%|██████████| 54/54 [01:00<00:00,  1.12s/batch, accuracy=100, current_lr=1e-5, loss=0.00779, val_acc=99.6, val_loss=0.0134]\n",
      "  0%|          | 0/54 [00:00<?, ?batch/s]"
     ]
    },
    {
     "name": "stdout",
     "output_type": "stream",
     "text": [
      "EarlyStopping counter: 1 out of 10\n"
     ]
    },
    {
     "name": "stderr",
     "output_type": "stream",
     "text": [
      "Epoch 18: 100%|██████████| 54/54 [01:00<00:00,  1.12s/batch, accuracy=100, current_lr=1e-5, loss=0.00571, val_acc=99.5, val_loss=0.0139]\n",
      "  0%|          | 0/54 [00:00<?, ?batch/s]"
     ]
    },
    {
     "name": "stdout",
     "output_type": "stream",
     "text": [
      "EarlyStopping counter: 2 out of 10\n"
     ]
    },
    {
     "name": "stderr",
     "output_type": "stream",
     "text": [
      "Epoch 19: 100%|██████████| 54/54 [01:00<00:00,  1.12s/batch, accuracy=100, current_lr=1e-5, loss=0.00379, val_acc=99.7, val_loss=0.0108]\n",
      "  0%|          | 0/54 [00:00<?, ?batch/s]"
     ]
    },
    {
     "name": "stdout",
     "output_type": "stream",
     "text": [
      "EarlyStopping counter: 3 out of 10\n"
     ]
    },
    {
     "name": "stderr",
     "output_type": "stream",
     "text": [
      "Epoch 20: 100%|██████████| 54/54 [01:00<00:00,  1.11s/batch, accuracy=100, current_lr=1e-5, loss=0.00332, val_acc=99.5, val_loss=0.0184]\n",
      "  0%|          | 0/54 [00:00<?, ?batch/s]"
     ]
    },
    {
     "name": "stdout",
     "output_type": "stream",
     "text": [
      "EarlyStopping counter: 4 out of 10\n"
     ]
    },
    {
     "name": "stderr",
     "output_type": "stream",
     "text": [
      "Epoch 21: 100%|██████████| 54/54 [01:00<00:00,  1.12s/batch, accuracy=100, current_lr=1e-5, loss=0.00469, val_acc=99.8, val_loss=0.00997]\n"
     ]
    },
    {
     "name": "stdout",
     "output_type": "stream",
     "text": [
      "Validation loss decreased (0.010486 --> 0.009971).  Saving model ...\n"
     ]
    },
    {
     "name": "stderr",
     "output_type": "stream",
     "text": [
      "Epoch 22: 100%|██████████| 54/54 [01:00<00:00,  1.12s/batch, accuracy=100, current_lr=1e-5, loss=0.00402, val_acc=99.8, val_loss=0.00901]\n"
     ]
    },
    {
     "name": "stdout",
     "output_type": "stream",
     "text": [
      "Validation loss decreased (0.009971 --> 0.009014).  Saving model ...\n"
     ]
    },
    {
     "name": "stderr",
     "output_type": "stream",
     "text": [
      "Epoch 23: 100%|██████████| 54/54 [01:00<00:00,  1.11s/batch, accuracy=100, current_lr=1e-5, loss=0.00418, val_acc=99.7, val_loss=0.0121]\n",
      "  0%|          | 0/54 [00:00<?, ?batch/s]"
     ]
    },
    {
     "name": "stdout",
     "output_type": "stream",
     "text": [
      "EarlyStopping counter: 1 out of 10\n"
     ]
    },
    {
     "name": "stderr",
     "output_type": "stream",
     "text": [
      "Epoch 24: 100%|██████████| 54/54 [01:00<00:00,  1.11s/batch, accuracy=100, current_lr=1e-5, loss=0.00267, val_acc=99.6, val_loss=0.0166]\n",
      "  0%|          | 0/54 [00:00<?, ?batch/s]"
     ]
    },
    {
     "name": "stdout",
     "output_type": "stream",
     "text": [
      "EarlyStopping counter: 2 out of 10\n"
     ]
    },
    {
     "name": "stderr",
     "output_type": "stream",
     "text": [
      "Epoch 25: 100%|██████████| 54/54 [01:00<00:00,  1.12s/batch, accuracy=100, current_lr=1e-5, loss=0.00301, val_acc=99.8, val_loss=0.00863]\n"
     ]
    },
    {
     "name": "stdout",
     "output_type": "stream",
     "text": [
      "Validation loss decreased (0.009014 --> 0.008631).  Saving model ...\n"
     ]
    },
    {
     "name": "stderr",
     "output_type": "stream",
     "text": [
      "Epoch 26: 100%|██████████| 54/54 [01:00<00:00,  1.12s/batch, accuracy=100, current_lr=1e-5, loss=0.00534, val_acc=99.9, val_loss=0.00654]\n"
     ]
    },
    {
     "name": "stdout",
     "output_type": "stream",
     "text": [
      "Validation loss decreased (0.008631 --> 0.006543).  Saving model ...\n"
     ]
    },
    {
     "name": "stderr",
     "output_type": "stream",
     "text": [
      "Epoch 27: 100%|██████████| 54/54 [01:00<00:00,  1.12s/batch, accuracy=100, current_lr=1e-5, loss=0.00317, val_acc=99.8, val_loss=0.00918]\n",
      "  0%|          | 0/54 [00:00<?, ?batch/s]"
     ]
    },
    {
     "name": "stdout",
     "output_type": "stream",
     "text": [
      "EarlyStopping counter: 1 out of 10\n"
     ]
    },
    {
     "name": "stderr",
     "output_type": "stream",
     "text": [
      "Epoch 28: 100%|██████████| 54/54 [01:00<00:00,  1.12s/batch, accuracy=100, current_lr=1e-5, loss=0.00156, val_acc=99.8, val_loss=0.0094]\n",
      "  0%|          | 0/54 [00:00<?, ?batch/s]"
     ]
    },
    {
     "name": "stdout",
     "output_type": "stream",
     "text": [
      "EarlyStopping counter: 2 out of 10\n"
     ]
    },
    {
     "name": "stderr",
     "output_type": "stream",
     "text": [
      "Epoch 29: 100%|██████████| 54/54 [01:02<00:00,  1.16s/batch, accuracy=100, current_lr=1e-5, loss=0.00431, val_acc=99.5, val_loss=0.0148]\n",
      "  0%|          | 0/54 [00:00<?, ?batch/s]"
     ]
    },
    {
     "name": "stdout",
     "output_type": "stream",
     "text": [
      "EarlyStopping counter: 3 out of 10\n"
     ]
    },
    {
     "name": "stderr",
     "output_type": "stream",
     "text": [
      "Epoch 30: 100%|██████████| 54/54 [01:00<00:00,  1.11s/batch, accuracy=100, current_lr=1e-5, loss=0.00193, val_acc=99.7, val_loss=0.0115]\n",
      "  0%|          | 0/54 [00:00<?, ?batch/s]"
     ]
    },
    {
     "name": "stdout",
     "output_type": "stream",
     "text": [
      "EarlyStopping counter: 4 out of 10\n"
     ]
    },
    {
     "name": "stderr",
     "output_type": "stream",
     "text": [
      "Epoch 31: 100%|██████████| 54/54 [00:59<00:00,  1.11s/batch, accuracy=100, current_lr=1e-5, loss=0.0014, val_acc=99.6, val_loss=0.0111]\n",
      "  0%|          | 0/54 [00:00<?, ?batch/s]"
     ]
    },
    {
     "name": "stdout",
     "output_type": "stream",
     "text": [
      "EarlyStopping counter: 5 out of 10\n"
     ]
    },
    {
     "name": "stderr",
     "output_type": "stream",
     "text": [
      "Epoch 32: 100%|██████████| 54/54 [01:00<00:00,  1.12s/batch, accuracy=100, current_lr=1e-5, loss=0.00363, val_acc=99.7, val_loss=0.00911]\n",
      "  0%|          | 0/54 [00:00<?, ?batch/s]"
     ]
    },
    {
     "name": "stdout",
     "output_type": "stream",
     "text": [
      "EarlyStopping counter: 6 out of 10\n"
     ]
    },
    {
     "name": "stderr",
     "output_type": "stream",
     "text": [
      "Epoch 33: 100%|██████████| 54/54 [01:00<00:00,  1.12s/batch, accuracy=100, current_lr=1e-5, loss=0.00102, val_acc=99.8, val_loss=0.00833]\n",
      "  0%|          | 0/54 [00:00<?, ?batch/s]"
     ]
    },
    {
     "name": "stdout",
     "output_type": "stream",
     "text": [
      "EarlyStopping counter: 7 out of 10\n"
     ]
    },
    {
     "name": "stderr",
     "output_type": "stream",
     "text": [
      "Epoch 34: 100%|██████████| 54/54 [01:00<00:00,  1.11s/batch, accuracy=100, current_lr=1e-5, loss=0.0015, val_acc=99.9, val_loss=0.00728]\n",
      "  0%|          | 0/54 [00:00<?, ?batch/s]"
     ]
    },
    {
     "name": "stdout",
     "output_type": "stream",
     "text": [
      "EarlyStopping counter: 8 out of 10\n"
     ]
    },
    {
     "name": "stderr",
     "output_type": "stream",
     "text": [
      "Epoch 35: 100%|██████████| 54/54 [01:00<00:00,  1.12s/batch, accuracy=100, current_lr=1e-5, loss=0.00158, val_acc=99.8, val_loss=0.00898]\n",
      "  0%|          | 0/54 [00:00<?, ?batch/s]"
     ]
    },
    {
     "name": "stdout",
     "output_type": "stream",
     "text": [
      "EarlyStopping counter: 9 out of 10\n"
     ]
    },
    {
     "name": "stderr",
     "output_type": "stream",
     "text": [
      "Epoch 36: 100%|██████████| 54/54 [01:00<00:00,  1.12s/batch, accuracy=100, current_lr=1e-5, loss=0.00123, val_acc=99.7, val_loss=0.0108]\n"
     ]
    },
    {
     "name": "stdout",
     "output_type": "stream",
     "text": [
      "EarlyStopping counter: 10 out of 10\n",
      "Early stopping\n"
     ]
    }
   ],
   "source": [
    "model_mask_ef.train()"
   ]
  },
  {
   "cell_type": "code",
   "execution_count": 8,
   "id": "crazy-popularity",
   "metadata": {},
   "outputs": [
    {
     "data": {
      "image/png": "[encoded data removed]",
      "text/plain": [
       "<Figure size 432x288 with 1 Axes>"
      ]
     },
     "metadata": {
      "needs_background": "light"
     },
     "output_type": "display_data"
    }
   ],
   "source": [
    "model_mask_ef.show_history()"
   ]
  },
  {
   "cell_type": "code",
   "execution_count": 9,
   "id": "compact-length",
   "metadata": {},
   "outputs": [
    {
     "name": "stderr",
     "output_type": "stream",
     "text": [
      "100%|██████████| 10/10 [00:09<00:00,  1.09it/s]"
     ]
    },
    {
     "name": "stdout",
     "output_type": "stream",
     "text": [
      "              precision    recall  f1-score   support\n",
      "\n",
      "           0       1.00      1.00      1.00       405\n",
      "           1       1.00      1.00      1.00       405\n",
      "           2       1.00      1.00      1.00       405\n",
      "\n",
      "    accuracy                           1.00      1215\n",
      "   macro avg       1.00      1.00      1.00      1215\n",
      "weighted avg       1.00      1.00      1.00      1215\n",
      "\n"
     ]
    },
    {
     "name": "stderr",
     "output_type": "stream",
     "text": [
      "\n"
     ]
    }
   ],
   "source": [
    "model_mask_ef.show_report()"
   ]
  },
  {
   "cell_type": "code",
   "execution_count": 10,
   "id": "retired-international",
   "metadata": {
    "tags": []
   },
   "outputs": [
    {
     "name": "stderr",
     "output_type": "stream",
     "text": [
      "  0%|          | 0/126 [00:00<?, ?batch/s]"
     ]
    },
    {
     "name": "stdout",
     "output_type": "stream",
     "text": [
      "Running on device: cuda:0 start training...\n",
      "Setting - Epochs: 200, Learning rate: 0.0003 \n"
     ]
    },
    {
     "name": "stderr",
     "output_type": "stream",
     "text": [
      "Epoch 1: 100%|██████████| 126/126 [02:17<00:00,  1.09s/batch, accuracy=63.9, current_lr=1e-5, loss=0.684, val_acc=66.1, val_loss=0.682]\n",
      "  0%|          | 0/126 [00:00<?, ?batch/s]"
     ]
    },
    {
     "name": "stdout",
     "output_type": "stream",
     "text": [
      "Validation loss decreased (inf --> 0.681547).  Saving model ...\n"
     ]
    },
    {
     "name": "stderr",
     "output_type": "stream",
     "text": [
      "Epoch 2: 100%|██████████| 126/126 [02:17<00:00,  1.09s/batch, accuracy=72.2, current_lr=1e-5, loss=0.548, val_acc=78.6, val_loss=0.468]\n"
     ]
    },
    {
     "name": "stdout",
     "output_type": "stream",
     "text": [
      "Validation loss decreased (0.681547 --> 0.468447).  Saving model ...\n"
     ]
    },
    {
     "name": "stderr",
     "output_type": "stream",
     "text": [
      "Epoch 3: 100%|██████████| 126/126 [02:17<00:00,  1.09s/batch, accuracy=76.4, current_lr=1e-5, loss=0.473, val_acc=79.9, val_loss=0.426]\n"
     ]
    },
    {
     "name": "stdout",
     "output_type": "stream",
     "text": [
      "Validation loss decreased (0.468447 --> 0.426277).  Saving model ...\n"
     ]
    },
    {
     "name": "stderr",
     "output_type": "stream",
     "text": [
      "Epoch 4: 100%|██████████| 126/126 [02:16<00:00,  1.09s/batch, accuracy=76.4, current_lr=1e-5, loss=0.426, val_acc=80.3, val_loss=0.407]\n"
     ]
    },
    {
     "name": "stdout",
     "output_type": "stream",
     "text": [
      "Validation loss decreased (0.426277 --> 0.406870).  Saving model ...\n"
     ]
    },
    {
     "name": "stderr",
     "output_type": "stream",
     "text": [
      "Epoch 5: 100%|██████████| 126/126 [02:16<00:00,  1.08s/batch, accuracy=80.6, current_lr=1e-5, loss=0.41, val_acc=80.5, val_loss=0.397]\n"
     ]
    },
    {
     "name": "stdout",
     "output_type": "stream",
     "text": [
      "Validation loss decreased (0.406870 --> 0.397237).  Saving model ...\n"
     ]
    },
    {
     "name": "stderr",
     "output_type": "stream",
     "text": [
      "Epoch 6: 100%|██████████| 126/126 [02:17<00:00,  1.09s/batch, accuracy=77.8, current_lr=1e-5, loss=0.382, val_acc=80.7, val_loss=0.396]\n"
     ]
    },
    {
     "name": "stdout",
     "output_type": "stream",
     "text": [
      "Validation loss decreased (0.397237 --> 0.395678).  Saving model ...\n"
     ]
    },
    {
     "name": "stderr",
     "output_type": "stream",
     "text": [
      "Epoch 7: 100%|██████████| 126/126 [02:17<00:00,  1.09s/batch, accuracy=80.6, current_lr=1e-5, loss=0.352, val_acc=80.5, val_loss=0.399]\n",
      "  0%|          | 0/126 [00:00<?, ?batch/s]"
     ]
    },
    {
     "name": "stdout",
     "output_type": "stream",
     "text": [
      "EarlyStopping counter: 1 out of 10\n"
     ]
    },
    {
     "name": "stderr",
     "output_type": "stream",
     "text": [
      "Epoch 8: 100%|██████████| 126/126 [02:17<00:00,  1.09s/batch, accuracy=80.6, current_lr=1e-5, loss=0.343, val_acc=80.5, val_loss=0.403]\n",
      "  0%|          | 0/126 [00:00<?, ?batch/s]"
     ]
    },
    {
     "name": "stdout",
     "output_type": "stream",
     "text": [
      "EarlyStopping counter: 2 out of 10\n"
     ]
    },
    {
     "name": "stderr",
     "output_type": "stream",
     "text": [
      "Epoch 9: 100%|██████████| 126/126 [02:16<00:00,  1.09s/batch, accuracy=81.9, current_lr=1e-5, loss=0.306, val_acc=80.3, val_loss=0.411]\n",
      "  0%|          | 0/126 [00:00<?, ?batch/s]"
     ]
    },
    {
     "name": "stdout",
     "output_type": "stream",
     "text": [
      "EarlyStopping counter: 3 out of 10\n"
     ]
    },
    {
     "name": "stderr",
     "output_type": "stream",
     "text": [
      "Epoch 10: 100%|██████████| 126/126 [02:17<00:00,  1.09s/batch, accuracy=81.9, current_lr=1e-5, loss=0.302, val_acc=80.4, val_loss=0.407]\n",
      "  0%|          | 0/126 [00:00<?, ?batch/s]"
     ]
    },
    {
     "name": "stdout",
     "output_type": "stream",
     "text": [
      "EarlyStopping counter: 4 out of 10\n"
     ]
    },
    {
     "name": "stderr",
     "output_type": "stream",
     "text": [
      "Epoch 11: 100%|██████████| 126/126 [02:17<00:00,  1.09s/batch, accuracy=84.7, current_lr=1e-5, loss=0.282, val_acc=79.8, val_loss=0.418]\n",
      "  0%|          | 0/126 [00:00<?, ?batch/s]"
     ]
    },
    {
     "name": "stdout",
     "output_type": "stream",
     "text": [
      "EarlyStopping counter: 5 out of 10\n"
     ]
    },
    {
     "name": "stderr",
     "output_type": "stream",
     "text": [
      "Epoch 12: 100%|██████████| 126/126 [02:17<00:00,  1.09s/batch, accuracy=84.7, current_lr=1e-5, loss=0.253, val_acc=80.7, val_loss=0.417]\n",
      "  0%|          | 0/126 [00:00<?, ?batch/s]"
     ]
    },
    {
     "name": "stdout",
     "output_type": "stream",
     "text": [
      "EarlyStopping counter: 6 out of 10\n"
     ]
    },
    {
     "name": "stderr",
     "output_type": "stream",
     "text": [
      "Epoch 13: 100%|██████████| 126/126 [02:17<00:00,  1.09s/batch, accuracy=88.9, current_lr=1e-5, loss=0.204, val_acc=80.2, val_loss=0.43]\n",
      "  0%|          | 0/126 [00:00<?, ?batch/s]"
     ]
    },
    {
     "name": "stdout",
     "output_type": "stream",
     "text": [
      "EarlyStopping counter: 7 out of 10\n"
     ]
    },
    {
     "name": "stderr",
     "output_type": "stream",
     "text": [
      "Epoch 14: 100%|██████████| 126/126 [02:17<00:00,  1.09s/batch, accuracy=93.1, current_lr=1e-5, loss=0.179, val_acc=80.2, val_loss=0.446]\n",
      "  0%|          | 0/126 [00:00<?, ?batch/s]"
     ]
    },
    {
     "name": "stdout",
     "output_type": "stream",
     "text": [
      "EarlyStopping counter: 8 out of 10\n"
     ]
    },
    {
     "name": "stderr",
     "output_type": "stream",
     "text": [
      "Epoch 15: 100%|██████████| 126/126 [02:17<00:00,  1.09s/batch, accuracy=94.4, current_lr=1e-5, loss=0.176, val_acc=80.4, val_loss=0.45] \n",
      "  0%|          | 0/126 [00:00<?, ?batch/s]"
     ]
    },
    {
     "name": "stdout",
     "output_type": "stream",
     "text": [
      "EarlyStopping counter: 9 out of 10\n"
     ]
    },
    {
     "name": "stderr",
     "output_type": "stream",
     "text": [
      "Epoch 16: 100%|██████████| 126/126 [02:17<00:00,  1.09s/batch, accuracy=94.4, current_lr=1e-5, loss=0.134, val_acc=80.4, val_loss=0.471]\n"
     ]
    },
    {
     "name": "stdout",
     "output_type": "stream",
     "text": [
      "EarlyStopping counter: 10 out of 10\n",
      "Early stopping\n"
     ]
    }
   ],
   "source": [
    "model_age_ef.train()"
   ]
  },
  {
   "cell_type": "code",
   "execution_count": 11,
   "id": "dress-implement",
   "metadata": {},
   "outputs": [
    {
     "data": {
      "image/png": "[encoded data removed]",
      "text/plain": [
       "<Figure size 432x288 with 1 Axes>"
      ]
     },
     "metadata": {
      "needs_background": "light"
     },
     "output_type": "display_data"
    }
   ],
   "source": [
    "model_age_ef.show_history()"
   ]
  },
  {
   "cell_type": "code",
   "execution_count": 12,
   "id": "close-philosophy",
   "metadata": {},
   "outputs": [
    {
     "name": "stderr",
     "output_type": "stream",
     "text": [
      "100%|██████████| 23/23 [00:20<00:00,  1.10it/s]"
     ]
    },
    {
     "name": "stdout",
     "output_type": "stream",
     "text": [
      "              precision    recall  f1-score   support\n",
      "\n",
      "           0       0.95      0.98      0.97      1351\n",
      "           1       0.67      0.81      0.74       924\n",
      "           2       0.67      0.40      0.50       567\n",
      "\n",
      "    accuracy                           0.81      2842\n",
      "   macro avg       0.77      0.73      0.73      2842\n",
      "weighted avg       0.81      0.81      0.80      2842\n",
      "\n"
     ]
    },
    {
     "name": "stderr",
     "output_type": "stream",
     "text": [
      "\n"
     ]
    }
   ],
   "source": [
    "model_age_ef.show_report()"
   ]
  },
  {
   "cell_type": "code",
   "execution_count": 13,
   "id": "settled-hamburg",
   "metadata": {
    "tags": []
   },
   "outputs": [
    {
     "name": "stderr",
     "output_type": "stream",
     "text": [
      "  0%|          | 0/126 [00:00<?, ?batch/s]"
     ]
    },
    {
     "name": "stdout",
     "output_type": "stream",
     "text": [
      "Running on device: cuda:0 start training...\n",
      "Setting - Epochs: 200, Learning rate: 0.0003 \n"
     ]
    },
    {
     "name": "stderr",
     "output_type": "stream",
     "text": [
      "Epoch 1: 100%|██████████| 126/126 [02:17<00:00,  1.09s/batch, accuracy=94.4, current_lr=1e-5, loss=0.22, val_acc=95.1, val_loss=0.171]\n",
      "  0%|          | 0/126 [00:00<?, ?batch/s]"
     ]
    },
    {
     "name": "stdout",
     "output_type": "stream",
     "text": [
      "Validation loss decreased (inf --> 0.171291).  Saving model ...\n"
     ]
    },
    {
     "name": "stderr",
     "output_type": "stream",
     "text": [
      "Epoch 2: 100%|██████████| 126/126 [02:17<00:00,  1.09s/batch, accuracy=93.1, current_lr=1e-5, loss=0.162, val_acc=95.6, val_loss=0.126]\n"
     ]
    },
    {
     "name": "stdout",
     "output_type": "stream",
     "text": [
      "Validation loss decreased (0.171291 --> 0.125804).  Saving model ...\n"
     ]
    },
    {
     "name": "stderr",
     "output_type": "stream",
     "text": [
      "Epoch 3: 100%|██████████| 126/126 [02:17<00:00,  1.09s/batch, accuracy=97.2, current_lr=1e-5, loss=0.134, val_acc=96, val_loss=0.115]  \n"
     ]
    },
    {
     "name": "stdout",
     "output_type": "stream",
     "text": [
      "Validation loss decreased (0.125804 --> 0.114773).  Saving model ...\n"
     ]
    },
    {
     "name": "stderr",
     "output_type": "stream",
     "text": [
      "Epoch 4: 100%|██████████| 126/126 [02:17<00:00,  1.09s/batch, accuracy=100, current_lr=1e-5, loss=0.0626, val_acc=96.9, val_loss=0.0957]\n"
     ]
    },
    {
     "name": "stdout",
     "output_type": "stream",
     "text": [
      "Validation loss decreased (0.114773 --> 0.095737).  Saving model ...\n"
     ]
    },
    {
     "name": "stderr",
     "output_type": "stream",
     "text": [
      "Epoch 5: 100%|██████████| 126/126 [02:16<00:00,  1.08s/batch, accuracy=98.6, current_lr=1e-5, loss=0.0717, val_acc=96.5, val_loss=0.0949]\n"
     ]
    },
    {
     "name": "stdout",
     "output_type": "stream",
     "text": [
      "Validation loss decreased (0.095737 --> 0.094895).  Saving model ...\n"
     ]
    },
    {
     "name": "stderr",
     "output_type": "stream",
     "text": [
      "Epoch 6: 100%|██████████| 126/126 [02:16<00:00,  1.08s/batch, accuracy=100, current_lr=1e-5, loss=0.0471, val_acc=96.9, val_loss=0.0891]\n"
     ]
    },
    {
     "name": "stdout",
     "output_type": "stream",
     "text": [
      "Validation loss decreased (0.094895 --> 0.089069).  Saving model ...\n"
     ]
    },
    {
     "name": "stderr",
     "output_type": "stream",
     "text": [
      "Epoch 7: 100%|██████████| 126/126 [02:16<00:00,  1.08s/batch, accuracy=98.6, current_lr=1e-5, loss=0.0459, val_acc=97.1, val_loss=0.0983]\n",
      "  0%|          | 0/126 [00:00<?, ?batch/s]"
     ]
    },
    {
     "name": "stdout",
     "output_type": "stream",
     "text": [
      "EarlyStopping counter: 1 out of 10\n"
     ]
    },
    {
     "name": "stderr",
     "output_type": "stream",
     "text": [
      "Epoch 8: 100%|██████████| 126/126 [02:15<00:00,  1.08s/batch, accuracy=98.6, current_lr=1e-5, loss=0.028, val_acc=97.1, val_loss=0.0825]\n"
     ]
    },
    {
     "name": "stdout",
     "output_type": "stream",
     "text": [
      "Validation loss decreased (0.089069 --> 0.082530).  Saving model ...\n"
     ]
    },
    {
     "name": "stderr",
     "output_type": "stream",
     "text": [
      "Epoch 9: 100%|██████████| 126/126 [02:16<00:00,  1.08s/batch, accuracy=100, current_lr=1e-5, loss=0.0247, val_acc=96.8, val_loss=0.0851]\n",
      "  0%|          | 0/126 [00:00<?, ?batch/s]"
     ]
    },
    {
     "name": "stdout",
     "output_type": "stream",
     "text": [
      "EarlyStopping counter: 1 out of 10\n"
     ]
    },
    {
     "name": "stderr",
     "output_type": "stream",
     "text": [
      "Epoch 10: 100%|██████████| 126/126 [02:24<00:00,  1.15s/batch, accuracy=100, current_lr=1e-5, loss=0.0269, val_acc=97.2, val_loss=0.082]\n"
     ]
    },
    {
     "name": "stdout",
     "output_type": "stream",
     "text": [
      "Validation loss decreased (0.082530 --> 0.082015).  Saving model ...\n"
     ]
    },
    {
     "name": "stderr",
     "output_type": "stream",
     "text": [
      "Epoch 11: 100%|██████████| 126/126 [02:23<00:00,  1.14s/batch, accuracy=100, current_lr=1e-5, loss=0.0197, val_acc=96.9, val_loss=0.0904]\n",
      "  0%|          | 0/126 [00:00<?, ?batch/s]"
     ]
    },
    {
     "name": "stdout",
     "output_type": "stream",
     "text": [
      "EarlyStopping counter: 1 out of 10\n"
     ]
    },
    {
     "name": "stderr",
     "output_type": "stream",
     "text": [
      "Epoch 12: 100%|██████████| 126/126 [02:24<00:00,  1.15s/batch, accuracy=100, current_lr=1e-5, loss=0.0237, val_acc=97.3, val_loss=0.085]\n",
      "  0%|          | 0/126 [00:00<?, ?batch/s]"
     ]
    },
    {
     "name": "stdout",
     "output_type": "stream",
     "text": [
      "EarlyStopping counter: 2 out of 10\n"
     ]
    },
    {
     "name": "stderr",
     "output_type": "stream",
     "text": [
      "Epoch 13: 100%|██████████| 126/126 [02:22<00:00,  1.13s/batch, accuracy=100, current_lr=1e-5, loss=0.0101, val_acc=97.4, val_loss=0.0829]\n",
      "  0%|          | 0/126 [00:00<?, ?batch/s]"
     ]
    },
    {
     "name": "stdout",
     "output_type": "stream",
     "text": [
      "EarlyStopping counter: 3 out of 10\n"
     ]
    },
    {
     "name": "stderr",
     "output_type": "stream",
     "text": [
      "Epoch 14: 100%|██████████| 126/126 [02:22<00:00,  1.13s/batch, accuracy=100, current_lr=1e-5, loss=0.0165, val_acc=97.5, val_loss=0.0828]\n",
      "  0%|          | 0/126 [00:00<?, ?batch/s]"
     ]
    },
    {
     "name": "stdout",
     "output_type": "stream",
     "text": [
      "EarlyStopping counter: 4 out of 10\n"
     ]
    },
    {
     "name": "stderr",
     "output_type": "stream",
     "text": [
      "Epoch 15: 100%|██████████| 126/126 [02:28<00:00,  1.18s/batch, accuracy=100, current_lr=1e-5, loss=0.0131, val_acc=97.2, val_loss=0.083]\n",
      "  0%|          | 0/126 [00:00<?, ?batch/s]"
     ]
    },
    {
     "name": "stdout",
     "output_type": "stream",
     "text": [
      "EarlyStopping counter: 5 out of 10\n"
     ]
    },
    {
     "name": "stderr",
     "output_type": "stream",
     "text": [
      "Epoch 16: 100%|██████████| 126/126 [02:29<00:00,  1.19s/batch, accuracy=100, current_lr=1e-5, loss=0.0114, val_acc=97.3, val_loss=0.0863]\n",
      "  0%|          | 0/126 [00:00<?, ?batch/s]"
     ]
    },
    {
     "name": "stdout",
     "output_type": "stream",
     "text": [
      "EarlyStopping counter: 6 out of 10\n"
     ]
    },
    {
     "name": "stderr",
     "output_type": "stream",
     "text": [
      "Epoch 17: 100%|██████████| 126/126 [02:30<00:00,  1.19s/batch, accuracy=100, current_lr=1e-5, loss=0.00703, val_acc=97.1, val_loss=0.0931]\n",
      "  0%|          | 0/126 [00:00<?, ?batch/s]"
     ]
    },
    {
     "name": "stdout",
     "output_type": "stream",
     "text": [
      "EarlyStopping counter: 7 out of 10\n"
     ]
    },
    {
     "name": "stderr",
     "output_type": "stream",
     "text": [
      "Epoch 18: 100%|██████████| 126/126 [02:30<00:00,  1.20s/batch, accuracy=100, current_lr=1e-5, loss=0.013, val_acc=97.2, val_loss=0.0878]\n",
      "  0%|          | 0/126 [00:00<?, ?batch/s]"
     ]
    },
    {
     "name": "stdout",
     "output_type": "stream",
     "text": [
      "EarlyStopping counter: 8 out of 10\n"
     ]
    },
    {
     "name": "stderr",
     "output_type": "stream",
     "text": [
      "Epoch 19: 100%|██████████| 126/126 [02:31<00:00,  1.20s/batch, accuracy=100, current_lr=1e-5, loss=0.011, val_acc=97.6, val_loss=0.087] \n",
      "  0%|          | 0/126 [00:00<?, ?batch/s]"
     ]
    },
    {
     "name": "stdout",
     "output_type": "stream",
     "text": [
      "EarlyStopping counter: 9 out of 10\n"
     ]
    },
    {
     "name": "stderr",
     "output_type": "stream",
     "text": [
      "Epoch 20: 100%|██████████| 126/126 [02:31<00:00,  1.20s/batch, accuracy=100, current_lr=1e-5, loss=0.00639, val_acc=97.4, val_loss=0.0918]\n"
     ]
    },
    {
     "name": "stdout",
     "output_type": "stream",
     "text": [
      "EarlyStopping counter: 10 out of 10\n",
      "Early stopping\n"
     ]
    }
   ],
   "source": [
    "model_gender_ef.train()"
   ]
  },
  {
   "cell_type": "code",
   "execution_count": 14,
   "id": "going-austria",
   "metadata": {},
   "outputs": [
    {
     "data": {
      "image/png": "[encoded data removed]",
      "text/plain": [
       "<Figure size 432x288 with 1 Axes>"
      ]
     },
     "metadata": {
      "needs_background": "light"
     },
     "output_type": "display_data"
    }
   ],
   "source": [
    "model_gender_ef.show_history()"
   ]
  },
  {
   "cell_type": "code",
   "execution_count": 15,
   "id": "quarterly-addition",
   "metadata": {},
   "outputs": [
    {
     "name": "stderr",
     "output_type": "stream",
     "text": [
      "100%|██████████| 23/23 [00:22<00:00,  1.00it/s]"
     ]
    },
    {
     "name": "stdout",
     "output_type": "stream",
     "text": [
      "              precision    recall  f1-score   support\n",
      "\n",
      "           0       0.98      0.96      0.97      1750\n",
      "           1       0.95      0.98      0.96      1092\n",
      "\n",
      "    accuracy                           0.97      2842\n",
      "   macro avg       0.96      0.97      0.97      2842\n",
      "weighted avg       0.97      0.97      0.97      2842\n",
      "\n"
     ]
    },
    {
     "name": "stderr",
     "output_type": "stream",
     "text": [
      "\n"
     ]
    }
   ],
   "source": [
    "model_gender_ef.show_report()"
   ]
  },
  {
   "cell_type": "code",
   "execution_count": 17,
   "id": "blind-shannon",
   "metadata": {
    "tags": []
   },
   "outputs": [
    {
     "name": "stderr",
     "output_type": "stream",
     "text": [
      "100%|██████████| 99/99 [01:13<00:00,  1.35it/s]\n"
     ]
    },
    {
     "data": {
      "text/html": [
       "<div>\n",
       "<style scoped>\n",
       "    .dataframe tbody tr th:only-of-type {\n",
       "        vertical-align: middle;\n",
       "    }\n",
       "\n",
       "    .dataframe tbody tr th {\n",
       "        vertical-align: top;\n",
       "    }\n",
       "\n",
       "    .dataframe thead th {\n",
       "        text-align: right;\n",
       "    }\n",
       "</style>\n",
       "<table border=\"1\" class=\"dataframe\">\n",
       "  <thead>\n",
       "    <tr style=\"text-align: right;\">\n",
       "      <th></th>\n",
       "      <th>Unnamed: 0</th>\n",
       "      <th>ImageID</th>\n",
       "      <th>ans</th>\n",
       "      <th>mask</th>\n",
       "      <th>gender</th>\n",
       "      <th>age</th>\n",
       "      <th>class</th>\n",
       "    </tr>\n",
       "  </thead>\n",
       "  <tbody>\n",
       "    <tr>\n",
       "      <th>0</th>\n",
       "      <td>0</td>\n",
       "      <td>cbc5c6e168e63498590db46022617123f1fe1268.jpg</td>\n",
       "      <td>14</td>\n",
       "      <td>0</td>\n",
       "      <td>1</td>\n",
       "      <td>2</td>\n",
       "      <td>012</td>\n",
       "    </tr>\n",
       "    <tr>\n",
       "      <th>1</th>\n",
       "      <td>1</td>\n",
       "      <td>0e72482bf56b3581c081f7da2a6180b8792c7089.jpg</td>\n",
       "      <td>2</td>\n",
       "      <td>1</td>\n",
       "      <td>1</td>\n",
       "      <td>2</td>\n",
       "      <td>112</td>\n",
       "    </tr>\n",
       "    <tr>\n",
       "      <th>2</th>\n",
       "      <td>2</td>\n",
       "      <td>b549040c49190cedc41327748aeb197c1670f14d.jpg</td>\n",
       "      <td>14</td>\n",
       "      <td>0</td>\n",
       "      <td>1</td>\n",
       "      <td>2</td>\n",
       "      <td>012</td>\n",
       "    </tr>\n",
       "    <tr>\n",
       "      <th>3</th>\n",
       "      <td>3</td>\n",
       "      <td>4f9cb2a045c6d5b9e50ad3459ea7b791eb6e18bc.jpg</td>\n",
       "      <td>14</td>\n",
       "      <td>0</td>\n",
       "      <td>1</td>\n",
       "      <td>2</td>\n",
       "      <td>012</td>\n",
       "    </tr>\n",
       "    <tr>\n",
       "      <th>4</th>\n",
       "      <td>4</td>\n",
       "      <td>248428d9a4a5b6229a7081c32851b90cb8d38d0c.jpg</td>\n",
       "      <td>12</td>\n",
       "      <td>0</td>\n",
       "      <td>1</td>\n",
       "      <td>0</td>\n",
       "      <td>010</td>\n",
       "    </tr>\n",
       "    <tr>\n",
       "      <th>...</th>\n",
       "      <td>...</td>\n",
       "      <td>...</td>\n",
       "      <td>...</td>\n",
       "      <td>...</td>\n",
       "      <td>...</td>\n",
       "      <td>...</td>\n",
       "      <td>...</td>\n",
       "    </tr>\n",
       "    <tr>\n",
       "      <th>12595</th>\n",
       "      <td>12595</td>\n",
       "      <td>d71d4570505d6af8f777690e63edfa8d85ea4476.jpg</td>\n",
       "      <td>2</td>\n",
       "      <td>1</td>\n",
       "      <td>1</td>\n",
       "      <td>2</td>\n",
       "      <td>112</td>\n",
       "    </tr>\n",
       "    <tr>\n",
       "      <th>12596</th>\n",
       "      <td>12596</td>\n",
       "      <td>6cf1300e8e218716728d5820c0bab553306c2cfd.jpg</td>\n",
       "      <td>5</td>\n",
       "      <td>1</td>\n",
       "      <td>0</td>\n",
       "      <td>2</td>\n",
       "      <td>102</td>\n",
       "    </tr>\n",
       "    <tr>\n",
       "      <th>12597</th>\n",
       "      <td>12597</td>\n",
       "      <td>8140edbba31c3a824e817e6d5fb95343199e2387.jpg</td>\n",
       "      <td>9</td>\n",
       "      <td>2</td>\n",
       "      <td>0</td>\n",
       "      <td>0</td>\n",
       "      <td>200</td>\n",
       "    </tr>\n",
       "    <tr>\n",
       "      <th>12598</th>\n",
       "      <td>12598</td>\n",
       "      <td>030d439efe6fb5a7bafda45a393fc19f2bf57f54.jpg</td>\n",
       "      <td>1</td>\n",
       "      <td>1</td>\n",
       "      <td>1</td>\n",
       "      <td>1</td>\n",
       "      <td>111</td>\n",
       "    </tr>\n",
       "    <tr>\n",
       "      <th>12599</th>\n",
       "      <td>12599</td>\n",
       "      <td>f1e0b9594ae9f72571f0a9dc67406ad41f2edab0.jpg</td>\n",
       "      <td>8</td>\n",
       "      <td>2</td>\n",
       "      <td>1</td>\n",
       "      <td>2</td>\n",
       "      <td>212</td>\n",
       "    </tr>\n",
       "  </tbody>\n",
       "</table>\n",
       "<p>12600 rows × 7 columns</p>\n",
       "</div>"
      ],
      "text/plain": [
       "       Unnamed: 0                                       ImageID  ans  mask  \\\n",
       "0               0  cbc5c6e168e63498590db46022617123f1fe1268.jpg   14     0   \n",
       "1               1  0e72482bf56b3581c081f7da2a6180b8792c7089.jpg    2     1   \n",
       "2               2  b549040c49190cedc41327748aeb197c1670f14d.jpg   14     0   \n",
       "3               3  4f9cb2a045c6d5b9e50ad3459ea7b791eb6e18bc.jpg   14     0   \n",
       "4               4  248428d9a4a5b6229a7081c32851b90cb8d38d0c.jpg   12     0   \n",
       "...           ...                                           ...  ...   ...   \n",
       "12595       12595  d71d4570505d6af8f777690e63edfa8d85ea4476.jpg    2     1   \n",
       "12596       12596  6cf1300e8e218716728d5820c0bab553306c2cfd.jpg    5     1   \n",
       "12597       12597  8140edbba31c3a824e817e6d5fb95343199e2387.jpg    9     2   \n",
       "12598       12598  030d439efe6fb5a7bafda45a393fc19f2bf57f54.jpg    1     1   \n",
       "12599       12599  f1e0b9594ae9f72571f0a9dc67406ad41f2edab0.jpg    8     2   \n",
       "\n",
       "       gender  age class  \n",
       "0           1    2   012  \n",
       "1           1    2   112  \n",
       "2           1    2   012  \n",
       "3           1    2   012  \n",
       "4           1    0   010  \n",
       "...       ...  ...   ...  \n",
       "12595       1    2   112  \n",
       "12596       0    2   102  \n",
       "12597       0    0   200  \n",
       "12598       1    1   111  \n",
       "12599       1    2   212  \n",
       "\n",
       "[12600 rows x 7 columns]"
      ]
     },
     "execution_count": 17,
     "metadata": {},
     "output_type": "execute_result"
    }
   ],
   "source": [
    "inference({'mask_model': [model_mask_ef.model],\n",
    "           'gender_model': [model_gender_ef.model],\n",
    "           'age_model': [model_age_ef.model]}, True)"
   ]
  },
  {
   "cell_type": "code",
   "execution_count": 16,
   "id": "honest-briefs",
   "metadata": {
    "tags": []
   },
   "outputs": [
    {
     "name": "stderr",
     "output_type": "stream",
     "text": [
      "100%|██████████| 23/23 [00:17<00:00,  1.30it/s]\n"
     ]
    },
    {
     "name": "stdout",
     "output_type": "stream",
     "text": [
      "              precision    recall  f1-score   support\n",
      "\n",
      "           0       0.92      0.96      0.94       410\n",
      "           1       0.57      0.67      0.62       210\n",
      "           2       0.61      0.49      0.54       160\n",
      "           3       0.95      0.96      0.95       555\n",
      "           4       0.68      0.82      0.74       450\n",
      "           5       0.62      0.30      0.41       245\n",
      "           6       0.91      0.95      0.93        82\n",
      "           7       0.60      0.67      0.63        42\n",
      "           8       0.56      0.47      0.51        32\n",
      "           9       0.93      0.95      0.94       111\n",
      "          10       0.72      0.83      0.77        90\n",
      "          11       0.72      0.43      0.54        49\n",
      "          12       0.92      0.94      0.93        82\n",
      "          13       0.52      0.60      0.56        42\n",
      "          14       0.57      0.50      0.53        32\n",
      "          15       0.93      0.96      0.95       111\n",
      "          16       0.70      0.79      0.74        90\n",
      "          17       0.70      0.43      0.53        49\n",
      "\n",
      "    accuracy                           0.78      2842\n",
      "   macro avg       0.73      0.71      0.71      2842\n",
      "weighted avg       0.78      0.78      0.77      2842\n",
      "\n"
     ]
    },
    {
     "data": {
      "text/html": [
       "<div>\n",
       "<style scoped>\n",
       "    .dataframe tbody tr th:only-of-type {\n",
       "        vertical-align: middle;\n",
       "    }\n",
       "\n",
       "    .dataframe tbody tr th {\n",
       "        vertical-align: top;\n",
       "    }\n",
       "\n",
       "    .dataframe thead th {\n",
       "        text-align: right;\n",
       "    }\n",
       "</style>\n",
       "<table border=\"1\" class=\"dataframe\">\n",
       "  <thead>\n",
       "    <tr style=\"text-align: right;\">\n",
       "      <th></th>\n",
       "      <th>id</th>\n",
       "      <th>path</th>\n",
       "      <th>mask_status</th>\n",
       "      <th>gender</th>\n",
       "      <th>race</th>\n",
       "      <th>age</th>\n",
       "      <th>age_group</th>\n",
       "      <th>ans</th>\n",
       "      <th>mask_pred</th>\n",
       "      <th>gender_pred</th>\n",
       "      <th>age_group_pred</th>\n",
       "      <th>ans_pred</th>\n",
       "    </tr>\n",
       "  </thead>\n",
       "  <tbody>\n",
       "    <tr>\n",
       "      <th>0</th>\n",
       "      <td>001700</td>\n",
       "      <td>001700_male_Asian_33/mask5.jpg</td>\n",
       "      <td>1</td>\n",
       "      <td>1</td>\n",
       "      <td>Asian</td>\n",
       "      <td>33</td>\n",
       "      <td>1</td>\n",
       "      <td>1</td>\n",
       "      <td>1</td>\n",
       "      <td>0</td>\n",
       "      <td>1</td>\n",
       "      <td>4</td>\n",
       "    </tr>\n",
       "    <tr>\n",
       "      <th>1</th>\n",
       "      <td>001700</td>\n",
       "      <td>001700_male_Asian_33/incorrect_mask.jpg</td>\n",
       "      <td>2</td>\n",
       "      <td>1</td>\n",
       "      <td>Asian</td>\n",
       "      <td>33</td>\n",
       "      <td>1</td>\n",
       "      <td>7</td>\n",
       "      <td>2</td>\n",
       "      <td>0</td>\n",
       "      <td>1</td>\n",
       "      <td>10</td>\n",
       "    </tr>\n",
       "    <tr>\n",
       "      <th>2</th>\n",
       "      <td>001700</td>\n",
       "      <td>001700_male_Asian_33/mask1.jpg</td>\n",
       "      <td>1</td>\n",
       "      <td>1</td>\n",
       "      <td>Asian</td>\n",
       "      <td>33</td>\n",
       "      <td>1</td>\n",
       "      <td>1</td>\n",
       "      <td>1</td>\n",
       "      <td>0</td>\n",
       "      <td>0</td>\n",
       "      <td>3</td>\n",
       "    </tr>\n",
       "    <tr>\n",
       "      <th>3</th>\n",
       "      <td>001700</td>\n",
       "      <td>001700_male_Asian_33/mask3.jpg</td>\n",
       "      <td>1</td>\n",
       "      <td>1</td>\n",
       "      <td>Asian</td>\n",
       "      <td>33</td>\n",
       "      <td>1</td>\n",
       "      <td>1</td>\n",
       "      <td>1</td>\n",
       "      <td>0</td>\n",
       "      <td>1</td>\n",
       "      <td>4</td>\n",
       "    </tr>\n",
       "    <tr>\n",
       "      <th>4</th>\n",
       "      <td>001700</td>\n",
       "      <td>001700_male_Asian_33/normal.jpg</td>\n",
       "      <td>0</td>\n",
       "      <td>1</td>\n",
       "      <td>Asian</td>\n",
       "      <td>33</td>\n",
       "      <td>1</td>\n",
       "      <td>13</td>\n",
       "      <td>0</td>\n",
       "      <td>0</td>\n",
       "      <td>1</td>\n",
       "      <td>16</td>\n",
       "    </tr>\n",
       "    <tr>\n",
       "      <th>...</th>\n",
       "      <td>...</td>\n",
       "      <td>...</td>\n",
       "      <td>...</td>\n",
       "      <td>...</td>\n",
       "      <td>...</td>\n",
       "      <td>...</td>\n",
       "      <td>...</td>\n",
       "      <td>...</td>\n",
       "      <td>...</td>\n",
       "      <td>...</td>\n",
       "      <td>...</td>\n",
       "      <td>...</td>\n",
       "    </tr>\n",
       "    <tr>\n",
       "      <th>2837</th>\n",
       "      <td>005558</td>\n",
       "      <td>005558_male_Asian_52/mask1.jpg</td>\n",
       "      <td>1</td>\n",
       "      <td>1</td>\n",
       "      <td>Asian</td>\n",
       "      <td>52</td>\n",
       "      <td>1</td>\n",
       "      <td>1</td>\n",
       "      <td>1</td>\n",
       "      <td>1</td>\n",
       "      <td>1</td>\n",
       "      <td>1</td>\n",
       "    </tr>\n",
       "    <tr>\n",
       "      <th>2838</th>\n",
       "      <td>005558</td>\n",
       "      <td>005558_male_Asian_52/mask4.jpg</td>\n",
       "      <td>1</td>\n",
       "      <td>1</td>\n",
       "      <td>Asian</td>\n",
       "      <td>52</td>\n",
       "      <td>1</td>\n",
       "      <td>1</td>\n",
       "      <td>1</td>\n",
       "      <td>1</td>\n",
       "      <td>1</td>\n",
       "      <td>1</td>\n",
       "    </tr>\n",
       "    <tr>\n",
       "      <th>2839</th>\n",
       "      <td>005558</td>\n",
       "      <td>005558_male_Asian_52/mask2.jpg</td>\n",
       "      <td>1</td>\n",
       "      <td>1</td>\n",
       "      <td>Asian</td>\n",
       "      <td>52</td>\n",
       "      <td>1</td>\n",
       "      <td>1</td>\n",
       "      <td>1</td>\n",
       "      <td>1</td>\n",
       "      <td>1</td>\n",
       "      <td>1</td>\n",
       "    </tr>\n",
       "    <tr>\n",
       "      <th>2840</th>\n",
       "      <td>005558</td>\n",
       "      <td>005558_male_Asian_52/mask5.jpg</td>\n",
       "      <td>1</td>\n",
       "      <td>1</td>\n",
       "      <td>Asian</td>\n",
       "      <td>52</td>\n",
       "      <td>1</td>\n",
       "      <td>1</td>\n",
       "      <td>1</td>\n",
       "      <td>1</td>\n",
       "      <td>1</td>\n",
       "      <td>1</td>\n",
       "    </tr>\n",
       "    <tr>\n",
       "      <th>2841</th>\n",
       "      <td>005558</td>\n",
       "      <td>005558_male_Asian_52/incorrect_mask.jpg</td>\n",
       "      <td>2</td>\n",
       "      <td>1</td>\n",
       "      <td>Asian</td>\n",
       "      <td>52</td>\n",
       "      <td>1</td>\n",
       "      <td>7</td>\n",
       "      <td>2</td>\n",
       "      <td>1</td>\n",
       "      <td>1</td>\n",
       "      <td>7</td>\n",
       "    </tr>\n",
       "  </tbody>\n",
       "</table>\n",
       "<p>2842 rows × 12 columns</p>\n",
       "</div>"
      ],
      "text/plain": [
       "          id                                     path  mask_status  gender  \\\n",
       "0     001700           001700_male_Asian_33/mask5.jpg            1       1   \n",
       "1     001700  001700_male_Asian_33/incorrect_mask.jpg            2       1   \n",
       "2     001700           001700_male_Asian_33/mask1.jpg            1       1   \n",
       "3     001700           001700_male_Asian_33/mask3.jpg            1       1   \n",
       "4     001700          001700_male_Asian_33/normal.jpg            0       1   \n",
       "...      ...                                      ...          ...     ...   \n",
       "2837  005558           005558_male_Asian_52/mask1.jpg            1       1   \n",
       "2838  005558           005558_male_Asian_52/mask4.jpg            1       1   \n",
       "2839  005558           005558_male_Asian_52/mask2.jpg            1       1   \n",
       "2840  005558           005558_male_Asian_52/mask5.jpg            1       1   \n",
       "2841  005558  005558_male_Asian_52/incorrect_mask.jpg            2       1   \n",
       "\n",
       "       race  age  age_group  ans  mask_pred  gender_pred  age_group_pred  \\\n",
       "0     Asian   33          1    1          1            0               1   \n",
       "1     Asian   33          1    7          2            0               1   \n",
       "2     Asian   33          1    1          1            0               0   \n",
       "3     Asian   33          1    1          1            0               1   \n",
       "4     Asian   33          1   13          0            0               1   \n",
       "...     ...  ...        ...  ...        ...          ...             ...   \n",
       "2837  Asian   52          1    1          1            1               1   \n",
       "2838  Asian   52          1    1          1            1               1   \n",
       "2839  Asian   52          1    1          1            1               1   \n",
       "2840  Asian   52          1    1          1            1               1   \n",
       "2841  Asian   52          1    7          2            1               1   \n",
       "\n",
       "      ans_pred  \n",
       "0            4  \n",
       "1           10  \n",
       "2            3  \n",
       "3            4  \n",
       "4           16  \n",
       "...        ...  \n",
       "2837         1  \n",
       "2838         1  \n",
       "2839         1  \n",
       "2840         1  \n",
       "2841         7  \n",
       "\n",
       "[2842 rows x 12 columns]"
      ]
     },
     "execution_count": 16,
     "metadata": {},
     "output_type": "execute_result"
    }
   ],
   "source": [
    "validate(df_valid_ag, \n",
    "         {'mask_model': [model_mask_ef.model],\n",
    "          'gender_model': [model_gender_ef.model],\n",
    "          'age_model': [model_age_ef.model]}, True)"
   ]
  },
  {
   "cell_type": "code",
   "execution_count": 18,
   "id": "frozen-joyce",
   "metadata": {},
   "outputs": [],
   "source": [
    "# DenseNet\n",
    "\n",
    "BS = 128\n",
    "LR = 3e-4\n",
    "EPOCHS = 200\n",
    "\n",
    "# Backbones\n",
    "densenet_1 = models.densenet121(pretrained=True)\n",
    "densenet_2 = models.densenet121(pretrained=True)\n",
    "densenet_3 = models.densenet121(pretrained=True)\n",
    "\n",
    "densenet_mask = Network(densenet_1, out_features=3)\n",
    "densenet_gender = Network(densenet_2, out_features=2)\n",
    "densenet_age = Network(densenet_3, out_features=3)\n",
    "\n",
    "model_mask_ds = Trainer(densenet_mask, df_train_mask, df_valid_mask, 'mask', transform, BS, LR, EPOCHS, use_optimizer=0, use_scheduler=3)\n",
    "model_gender_ds = Trainer(densenet_gender, df_train_ag, df_valid_ag, 'gender', transform, BS, LR, EPOCHS, use_optimizer=0, use_scheduler=3)\n",
    "model_age_ds = Trainer(densenet_age, df_train_ag, df_valid_ag, 'age', transform, BS, LR, EPOCHS, use_optimizer=0, use_scheduler=3)"
   ]
  },
  {
   "cell_type": "code",
   "execution_count": 19,
   "id": "narrow-bishop",
   "metadata": {},
   "outputs": [
    {
     "name": "stderr",
     "output_type": "stream",
     "text": [
      "  0%|          | 0/126 [00:00<?, ?batch/s]"
     ]
    },
    {
     "name": "stdout",
     "output_type": "stream",
     "text": [
      "Running on device: cuda:0 start training...\n",
      "Setting - Epochs: 200, Learning rate: 0.0003 \n"
     ]
    },
    {
     "name": "stderr",
     "output_type": "stream",
     "text": [
      "Epoch 1: 100%|██████████| 126/126 [02:21<00:00,  1.13s/batch, accuracy=66.7, current_lr=1e-5, loss=0.824, val_acc=78.4, val_loss=0.489]\n",
      "  0%|          | 0/126 [00:00<?, ?batch/s]"
     ]
    },
    {
     "name": "stdout",
     "output_type": "stream",
     "text": [
      "Validation loss decreased (inf --> 0.488891).  Saving model ...\n"
     ]
    },
    {
     "name": "stderr",
     "output_type": "stream",
     "text": [
      "Epoch 2: 100%|██████████| 126/126 [02:22<00:00,  1.13s/batch, accuracy=69.4, current_lr=1e-5, loss=0.547, val_acc=79.2, val_loss=0.448]\n",
      "  0%|          | 0/126 [00:00<?, ?batch/s]"
     ]
    },
    {
     "name": "stdout",
     "output_type": "stream",
     "text": [
      "Validation loss decreased (0.488891 --> 0.448162).  Saving model ...\n"
     ]
    },
    {
     "name": "stderr",
     "output_type": "stream",
     "text": [
      "Epoch 3: 100%|██████████| 126/126 [02:23<00:00,  1.13s/batch, accuracy=76.4, current_lr=1e-5, loss=0.403, val_acc=80.5, val_loss=0.429]\n",
      "  0%|          | 0/126 [00:00<?, ?batch/s]"
     ]
    },
    {
     "name": "stdout",
     "output_type": "stream",
     "text": [
      "Validation loss decreased (0.448162 --> 0.428640).  Saving model ...\n"
     ]
    },
    {
     "name": "stderr",
     "output_type": "stream",
     "text": [
      "Epoch 4: 100%|██████████| 126/126 [02:20<00:00,  1.12s/batch, accuracy=79.2, current_lr=1e-5, loss=0.3, val_acc=79.8, val_loss=0.435] \n",
      "  0%|          | 0/126 [00:00<?, ?batch/s]"
     ]
    },
    {
     "name": "stdout",
     "output_type": "stream",
     "text": [
      "EarlyStopping counter: 1 out of 10\n"
     ]
    },
    {
     "name": "stderr",
     "output_type": "stream",
     "text": [
      "Epoch 5: 100%|██████████| 126/126 [02:21<00:00,  1.12s/batch, accuracy=87.5, current_lr=1e-5, loss=0.263, val_acc=80.3, val_loss=0.441]\n",
      "  0%|          | 0/126 [00:00<?, ?batch/s]"
     ]
    },
    {
     "name": "stdout",
     "output_type": "stream",
     "text": [
      "EarlyStopping counter: 2 out of 10\n"
     ]
    },
    {
     "name": "stderr",
     "output_type": "stream",
     "text": [
      "Epoch 6: 100%|██████████| 126/126 [02:22<00:00,  1.13s/batch, accuracy=93.1, current_lr=1e-5, loss=0.223, val_acc=79.7, val_loss=0.451]\n",
      "  0%|          | 0/126 [00:00<?, ?batch/s]"
     ]
    },
    {
     "name": "stdout",
     "output_type": "stream",
     "text": [
      "EarlyStopping counter: 3 out of 10\n"
     ]
    },
    {
     "name": "stderr",
     "output_type": "stream",
     "text": [
      "Epoch 7: 100%|██████████| 126/126 [02:21<00:00,  1.12s/batch, accuracy=93.1, current_lr=1e-5, loss=0.178, val_acc=80.2, val_loss=0.452]\n",
      "  0%|          | 0/126 [00:00<?, ?batch/s]"
     ]
    },
    {
     "name": "stdout",
     "output_type": "stream",
     "text": [
      "EarlyStopping counter: 4 out of 10\n"
     ]
    },
    {
     "name": "stderr",
     "output_type": "stream",
     "text": [
      "Epoch 8: 100%|██████████| 126/126 [02:23<00:00,  1.14s/batch, accuracy=98.6, current_lr=1e-5, loss=0.115, val_acc=80.7, val_loss=0.456]\n",
      "  0%|          | 0/126 [00:00<?, ?batch/s]"
     ]
    },
    {
     "name": "stdout",
     "output_type": "stream",
     "text": [
      "EarlyStopping counter: 5 out of 10\n"
     ]
    },
    {
     "name": "stderr",
     "output_type": "stream",
     "text": [
      "Epoch 9: 100%|██████████| 126/126 [02:23<00:00,  1.14s/batch, accuracy=97.2, current_lr=1e-5, loss=0.131, val_acc=80.6, val_loss=0.478]\n",
      "  0%|          | 0/126 [00:00<?, ?batch/s]"
     ]
    },
    {
     "name": "stdout",
     "output_type": "stream",
     "text": [
      "EarlyStopping counter: 6 out of 10\n"
     ]
    },
    {
     "name": "stderr",
     "output_type": "stream",
     "text": [
      "Epoch 10: 100%|██████████| 126/126 [02:20<00:00,  1.12s/batch, accuracy=98.6, current_lr=1e-5, loss=0.085, val_acc=80.7, val_loss=0.494]\n",
      "  0%|          | 0/126 [00:00<?, ?batch/s]"
     ]
    },
    {
     "name": "stdout",
     "output_type": "stream",
     "text": [
      "EarlyStopping counter: 7 out of 10\n"
     ]
    },
    {
     "name": "stderr",
     "output_type": "stream",
     "text": [
      "Epoch 11: 100%|██████████| 126/126 [02:22<00:00,  1.13s/batch, accuracy=97.2, current_lr=1e-5, loss=0.0697, val_acc=79.7, val_loss=0.518]\n",
      "  0%|          | 0/126 [00:00<?, ?batch/s]"
     ]
    },
    {
     "name": "stdout",
     "output_type": "stream",
     "text": [
      "EarlyStopping counter: 8 out of 10\n"
     ]
    },
    {
     "name": "stderr",
     "output_type": "stream",
     "text": [
      "Epoch 12: 100%|██████████| 126/126 [02:21<00:00,  1.12s/batch, accuracy=100, current_lr=1e-5, loss=0.0314, val_acc=80.3, val_loss=0.537]\n",
      "  0%|          | 0/126 [00:00<?, ?batch/s]"
     ]
    },
    {
     "name": "stdout",
     "output_type": "stream",
     "text": [
      "EarlyStopping counter: 9 out of 10\n"
     ]
    },
    {
     "name": "stderr",
     "output_type": "stream",
     "text": [
      "Epoch 13: 100%|██████████| 126/126 [02:22<00:00,  1.13s/batch, accuracy=98.6, current_lr=1e-5, loss=0.0406, val_acc=80.5, val_loss=0.566]\n"
     ]
    },
    {
     "name": "stdout",
     "output_type": "stream",
     "text": [
      "EarlyStopping counter: 10 out of 10\n",
      "Early stopping\n"
     ]
    }
   ],
   "source": [
    "model_age_ds.train()"
   ]
  },
  {
   "cell_type": "code",
   "execution_count": 20,
   "id": "great-warrant",
   "metadata": {},
   "outputs": [
    {
     "name": "stdout",
     "output_type": "stream",
     "text": [
      "Running on device: cuda:0 start training...\n",
      "Setting - Epochs: 200, Learning rate: 0.0003 \n"
     ]
    },
    {
     "name": "stderr",
     "output_type": "stream",
     "text": [
      "Epoch 1: 100%|██████████| 54/54 [01:02<00:00,  1.16s/batch, accuracy=98, current_lr=1e-5, loss=0.113, val_acc=99.1, val_loss=0.0294] \n",
      "  0%|          | 0/54 [00:00<?, ?batch/s]"
     ]
    },
    {
     "name": "stdout",
     "output_type": "stream",
     "text": [
      "Validation loss decreased (inf --> 0.029433).  Saving model ...\n"
     ]
    },
    {
     "name": "stderr",
     "output_type": "stream",
     "text": [
      "Epoch 2: 100%|██████████| 54/54 [01:03<00:00,  1.17s/batch, accuracy=99, current_lr=1e-5, loss=0.0596, val_acc=99.3, val_loss=0.0256]\n",
      "  0%|          | 0/54 [00:00<?, ?batch/s]"
     ]
    },
    {
     "name": "stdout",
     "output_type": "stream",
     "text": [
      "Validation loss decreased (0.029433 --> 0.025633).  Saving model ...\n"
     ]
    },
    {
     "name": "stderr",
     "output_type": "stream",
     "text": [
      "Epoch 3: 100%|██████████| 54/54 [01:01<00:00,  1.14s/batch, accuracy=99, current_lr=1e-5, loss=0.0242, val_acc=99.5, val_loss=0.0169] \n",
      "  0%|          | 0/54 [00:00<?, ?batch/s]"
     ]
    },
    {
     "name": "stdout",
     "output_type": "stream",
     "text": [
      "Validation loss decreased (0.025633 --> 0.016915).  Saving model ...\n"
     ]
    },
    {
     "name": "stderr",
     "output_type": "stream",
     "text": [
      "Epoch 4: 100%|██████████| 54/54 [01:01<00:00,  1.14s/batch, accuracy=99, current_lr=1e-5, loss=0.011, val_acc=99.5, val_loss=0.0171]  \n",
      "  0%|          | 0/54 [00:00<?, ?batch/s]"
     ]
    },
    {
     "name": "stdout",
     "output_type": "stream",
     "text": [
      "EarlyStopping counter: 1 out of 10\n"
     ]
    },
    {
     "name": "stderr",
     "output_type": "stream",
     "text": [
      "Epoch 5: 100%|██████████| 54/54 [01:02<00:00,  1.16s/batch, accuracy=100, current_lr=1e-5, loss=0.00302, val_acc=99.5, val_loss=0.0157]\n",
      "  0%|          | 0/54 [00:00<?, ?batch/s]"
     ]
    },
    {
     "name": "stdout",
     "output_type": "stream",
     "text": [
      "Validation loss decreased (0.016915 --> 0.015719).  Saving model ...\n"
     ]
    },
    {
     "name": "stderr",
     "output_type": "stream",
     "text": [
      "Epoch 6: 100%|██████████| 54/54 [01:01<00:00,  1.14s/batch, accuracy=100, current_lr=1e-5, loss=0.00109, val_acc=99.7, val_loss=0.0211]\n",
      "  0%|          | 0/54 [00:00<?, ?batch/s]"
     ]
    },
    {
     "name": "stdout",
     "output_type": "stream",
     "text": [
      "EarlyStopping counter: 1 out of 10\n"
     ]
    },
    {
     "name": "stderr",
     "output_type": "stream",
     "text": [
      "Epoch 7: 100%|██████████| 54/54 [01:02<00:00,  1.15s/batch, accuracy=100, current_lr=1e-5, loss=0.00137, val_acc=99.8, val_loss=0.0121]\n",
      "  0%|          | 0/54 [00:00<?, ?batch/s]"
     ]
    },
    {
     "name": "stdout",
     "output_type": "stream",
     "text": [
      "Validation loss decreased (0.015719 --> 0.012106).  Saving model ...\n"
     ]
    },
    {
     "name": "stderr",
     "output_type": "stream",
     "text": [
      "Epoch 8: 100%|██████████| 54/54 [01:01<00:00,  1.15s/batch, accuracy=100, current_lr=1e-5, loss=0.00657, val_acc=99.6, val_loss=0.0136]\n",
      "  0%|          | 0/54 [00:00<?, ?batch/s]"
     ]
    },
    {
     "name": "stdout",
     "output_type": "stream",
     "text": [
      "EarlyStopping counter: 1 out of 10\n"
     ]
    },
    {
     "name": "stderr",
     "output_type": "stream",
     "text": [
      "Epoch 9: 100%|██████████| 54/54 [01:01<00:00,  1.14s/batch, accuracy=100, current_lr=1e-5, loss=0.00733, val_acc=99.8, val_loss=0.00829]\n",
      "  0%|          | 0/54 [00:00<?, ?batch/s]"
     ]
    },
    {
     "name": "stdout",
     "output_type": "stream",
     "text": [
      "Validation loss decreased (0.012106 --> 0.008292).  Saving model ...\n"
     ]
    },
    {
     "name": "stderr",
     "output_type": "stream",
     "text": [
      "Epoch 10: 100%|██████████| 54/54 [01:02<00:00,  1.16s/batch, accuracy=100, current_lr=1e-5, loss=0.000714, val_acc=99.8, val_loss=0.00835]\n",
      "  0%|          | 0/54 [00:00<?, ?batch/s]"
     ]
    },
    {
     "name": "stdout",
     "output_type": "stream",
     "text": [
      "EarlyStopping counter: 1 out of 10\n"
     ]
    },
    {
     "name": "stderr",
     "output_type": "stream",
     "text": [
      "Epoch 11: 100%|██████████| 54/54 [01:02<00:00,  1.16s/batch, accuracy=100, current_lr=1e-5, loss=0.000565, val_acc=99.6, val_loss=0.0136]\n",
      "  0%|          | 0/54 [00:00<?, ?batch/s]"
     ]
    },
    {
     "name": "stdout",
     "output_type": "stream",
     "text": [
      "EarlyStopping counter: 2 out of 10\n"
     ]
    },
    {
     "name": "stderr",
     "output_type": "stream",
     "text": [
      "Epoch 12: 100%|██████████| 54/54 [01:02<00:00,  1.17s/batch, accuracy=100, current_lr=1e-5, loss=0.00069, val_acc=99.8, val_loss=0.0137]\n",
      "  0%|          | 0/54 [00:00<?, ?batch/s]"
     ]
    },
    {
     "name": "stdout",
     "output_type": "stream",
     "text": [
      "EarlyStopping counter: 3 out of 10\n"
     ]
    },
    {
     "name": "stderr",
     "output_type": "stream",
     "text": [
      "Epoch 13: 100%|██████████| 54/54 [01:03<00:00,  1.17s/batch, accuracy=100, current_lr=1e-5, loss=0.00062, val_acc=99.6, val_loss=0.0173]\n",
      "  0%|          | 0/54 [00:00<?, ?batch/s]"
     ]
    },
    {
     "name": "stdout",
     "output_type": "stream",
     "text": [
      "EarlyStopping counter: 4 out of 10\n"
     ]
    },
    {
     "name": "stderr",
     "output_type": "stream",
     "text": [
      "Epoch 14: 100%|██████████| 54/54 [01:03<00:00,  1.17s/batch, accuracy=100, current_lr=1e-5, loss=0.00019, val_acc=99.5, val_loss=0.0221]\n",
      "  0%|          | 0/54 [00:00<?, ?batch/s]"
     ]
    },
    {
     "name": "stdout",
     "output_type": "stream",
     "text": [
      "EarlyStopping counter: 5 out of 10\n"
     ]
    },
    {
     "name": "stderr",
     "output_type": "stream",
     "text": [
      "Epoch 15: 100%|██████████| 54/54 [01:01<00:00,  1.14s/batch, accuracy=100, current_lr=1e-5, loss=0.000211, val_acc=99.7, val_loss=0.0173]\n",
      "  0%|          | 0/54 [00:00<?, ?batch/s]"
     ]
    },
    {
     "name": "stdout",
     "output_type": "stream",
     "text": [
      "EarlyStopping counter: 6 out of 10\n"
     ]
    },
    {
     "name": "stderr",
     "output_type": "stream",
     "text": [
      "Epoch 16: 100%|██████████| 54/54 [01:04<00:00,  1.20s/batch, accuracy=100, current_lr=1e-5, loss=0.000139, val_acc=99.8, val_loss=0.014]\n",
      "  0%|          | 0/54 [00:00<?, ?batch/s]"
     ]
    },
    {
     "name": "stdout",
     "output_type": "stream",
     "text": [
      "EarlyStopping counter: 7 out of 10\n"
     ]
    },
    {
     "name": "stderr",
     "output_type": "stream",
     "text": [
      "Epoch 17: 100%|██████████| 54/54 [01:05<00:00,  1.22s/batch, accuracy=100, current_lr=1e-5, loss=0.000143, val_acc=99.8, val_loss=0.0084]\n",
      "  0%|          | 0/54 [00:00<?, ?batch/s]"
     ]
    },
    {
     "name": "stdout",
     "output_type": "stream",
     "text": [
      "EarlyStopping counter: 8 out of 10\n"
     ]
    },
    {
     "name": "stderr",
     "output_type": "stream",
     "text": [
      "Epoch 18: 100%|██████████| 54/54 [01:06<00:00,  1.22s/batch, accuracy=100, current_lr=1e-5, loss=0.000197, val_acc=99.7, val_loss=0.0158]\n",
      "  0%|          | 0/54 [00:00<?, ?batch/s]"
     ]
    },
    {
     "name": "stdout",
     "output_type": "stream",
     "text": [
      "EarlyStopping counter: 9 out of 10\n"
     ]
    },
    {
     "name": "stderr",
     "output_type": "stream",
     "text": [
      "Epoch 19: 100%|██████████| 54/54 [01:05<00:00,  1.22s/batch, accuracy=100, current_lr=1e-5, loss=0.000125, val_acc=99.7, val_loss=0.0156]\n"
     ]
    },
    {
     "name": "stdout",
     "output_type": "stream",
     "text": [
      "EarlyStopping counter: 10 out of 10\n",
      "Early stopping\n"
     ]
    }
   ],
   "source": [
    "model_mask_ds.train()"
   ]
  },
  {
   "cell_type": "code",
   "execution_count": 21,
   "id": "greenhouse-ancient",
   "metadata": {},
   "outputs": [
    {
     "name": "stdout",
     "output_type": "stream",
     "text": [
      "Running on device: cuda:0 start training...\n",
      "Setting - Epochs: 200, Learning rate: 0.0003 \n"
     ]
    },
    {
     "name": "stderr",
     "output_type": "stream",
     "text": [
      "Epoch 1: 100%|██████████| 126/126 [02:30<00:00,  1.19s/batch, accuracy=100, current_lr=1e-5, loss=0.0417, val_acc=95.4, val_loss=0.138]\n",
      "  0%|          | 0/126 [00:00<?, ?batch/s]"
     ]
    },
    {
     "name": "stdout",
     "output_type": "stream",
     "text": [
      "Validation loss decreased (inf --> 0.138443).  Saving model ...\n"
     ]
    },
    {
     "name": "stderr",
     "output_type": "stream",
     "text": [
      "Epoch 2: 100%|██████████| 126/126 [02:29<00:00,  1.19s/batch, accuracy=100, current_lr=1e-5, loss=0.016, val_acc=96.5, val_loss=0.111] \n",
      "  0%|          | 0/126 [00:00<?, ?batch/s]"
     ]
    },
    {
     "name": "stdout",
     "output_type": "stream",
     "text": [
      "Validation loss decreased (0.138443 --> 0.111200).  Saving model ...\n"
     ]
    },
    {
     "name": "stderr",
     "output_type": "stream",
     "text": [
      "Epoch 3: 100%|██████████| 126/126 [02:29<00:00,  1.19s/batch, accuracy=98.6, current_lr=1e-5, loss=0.0287, val_acc=96.1, val_loss=0.108]\n",
      "  0%|          | 0/126 [00:00<?, ?batch/s]"
     ]
    },
    {
     "name": "stdout",
     "output_type": "stream",
     "text": [
      "Validation loss decreased (0.111200 --> 0.107870).  Saving model ...\n"
     ]
    },
    {
     "name": "stderr",
     "output_type": "stream",
     "text": [
      "Epoch 4: 100%|██████████| 126/126 [02:31<00:00,  1.20s/batch, accuracy=100, current_lr=1e-5, loss=0.00765, val_acc=96.3, val_loss=0.106]\n",
      "  0%|          | 0/126 [00:00<?, ?batch/s]"
     ]
    },
    {
     "name": "stdout",
     "output_type": "stream",
     "text": [
      "Validation loss decreased (0.107870 --> 0.106244).  Saving model ...\n"
     ]
    },
    {
     "name": "stderr",
     "output_type": "stream",
     "text": [
      "Epoch 5: 100%|██████████| 126/126 [02:29<00:00,  1.18s/batch, accuracy=100, current_lr=1e-5, loss=0.0108, val_acc=96.5, val_loss=0.106]\n",
      "  0%|          | 0/126 [00:00<?, ?batch/s]"
     ]
    },
    {
     "name": "stdout",
     "output_type": "stream",
     "text": [
      "Validation loss decreased (0.106244 --> 0.105970).  Saving model ...\n"
     ]
    },
    {
     "name": "stderr",
     "output_type": "stream",
     "text": [
      "Epoch 6: 100%|██████████| 126/126 [02:29<00:00,  1.19s/batch, accuracy=100, current_lr=1e-5, loss=0.00776, val_acc=96.1, val_loss=0.112]\n",
      "  0%|          | 0/126 [00:00<?, ?batch/s]"
     ]
    },
    {
     "name": "stdout",
     "output_type": "stream",
     "text": [
      "EarlyStopping counter: 1 out of 10\n"
     ]
    },
    {
     "name": "stderr",
     "output_type": "stream",
     "text": [
      "Epoch 7: 100%|██████████| 126/126 [02:29<00:00,  1.19s/batch, accuracy=100, current_lr=1e-5, loss=0.00962, val_acc=96.5, val_loss=0.1]  \n",
      "  0%|          | 0/126 [00:00<?, ?batch/s]"
     ]
    },
    {
     "name": "stdout",
     "output_type": "stream",
     "text": [
      "Validation loss decreased (0.105970 --> 0.100001).  Saving model ...\n"
     ]
    },
    {
     "name": "stderr",
     "output_type": "stream",
     "text": [
      "Epoch 8: 100%|██████████| 126/126 [02:29<00:00,  1.18s/batch, accuracy=100, current_lr=1e-5, loss=0.0063, val_acc=96.9, val_loss=0.103] \n",
      "  0%|          | 0/126 [00:00<?, ?batch/s]"
     ]
    },
    {
     "name": "stdout",
     "output_type": "stream",
     "text": [
      "EarlyStopping counter: 1 out of 10\n"
     ]
    },
    {
     "name": "stderr",
     "output_type": "stream",
     "text": [
      "Epoch 9: 100%|██████████| 126/126 [02:30<00:00,  1.19s/batch, accuracy=100, current_lr=1e-5, loss=0.00463, val_acc=96.9, val_loss=0.107]\n",
      "  0%|          | 0/126 [00:00<?, ?batch/s]"
     ]
    },
    {
     "name": "stdout",
     "output_type": "stream",
     "text": [
      "EarlyStopping counter: 2 out of 10\n"
     ]
    },
    {
     "name": "stderr",
     "output_type": "stream",
     "text": [
      "Epoch 10: 100%|██████████| 126/126 [02:30<00:00,  1.20s/batch, accuracy=100, current_lr=1e-5, loss=0.00169, val_acc=97.2, val_loss=0.103]\n",
      "  0%|          | 0/126 [00:00<?, ?batch/s]"
     ]
    },
    {
     "name": "stdout",
     "output_type": "stream",
     "text": [
      "EarlyStopping counter: 3 out of 10\n"
     ]
    },
    {
     "name": "stderr",
     "output_type": "stream",
     "text": [
      "Epoch 11: 100%|██████████| 126/126 [02:23<00:00,  1.13s/batch, accuracy=100, current_lr=1e-5, loss=0.0011, val_acc=97.4, val_loss=0.106] \n",
      "  0%|          | 0/126 [00:00<?, ?batch/s]"
     ]
    },
    {
     "name": "stdout",
     "output_type": "stream",
     "text": [
      "EarlyStopping counter: 4 out of 10\n"
     ]
    },
    {
     "name": "stderr",
     "output_type": "stream",
     "text": [
      "Epoch 12: 100%|██████████| 126/126 [02:19<00:00,  1.10s/batch, accuracy=100, current_lr=1e-5, loss=0.000628, val_acc=97.3, val_loss=0.108]\n",
      "  0%|          | 0/126 [00:00<?, ?batch/s]"
     ]
    },
    {
     "name": "stdout",
     "output_type": "stream",
     "text": [
      "EarlyStopping counter: 5 out of 10\n"
     ]
    },
    {
     "name": "stderr",
     "output_type": "stream",
     "text": [
      "Epoch 13: 100%|██████████| 126/126 [02:24<00:00,  1.15s/batch, accuracy=100, current_lr=1e-5, loss=0.000894, val_acc=97.4, val_loss=0.117]\n",
      "  0%|          | 0/126 [00:00<?, ?batch/s]"
     ]
    },
    {
     "name": "stdout",
     "output_type": "stream",
     "text": [
      "EarlyStopping counter: 6 out of 10\n"
     ]
    },
    {
     "name": "stderr",
     "output_type": "stream",
     "text": [
      "Epoch 14: 100%|██████████| 126/126 [02:24<00:00,  1.14s/batch, accuracy=100, current_lr=1e-5, loss=0.000999, val_acc=97, val_loss=0.108] \n",
      "  0%|          | 0/126 [00:00<?, ?batch/s]"
     ]
    },
    {
     "name": "stdout",
     "output_type": "stream",
     "text": [
      "EarlyStopping counter: 7 out of 10\n"
     ]
    },
    {
     "name": "stderr",
     "output_type": "stream",
     "text": [
      "Epoch 15: 100%|██████████| 126/126 [02:23<00:00,  1.14s/batch, accuracy=100, current_lr=1e-5, loss=0.000424, val_acc=97.2, val_loss=0.118]\n",
      "  0%|          | 0/126 [00:00<?, ?batch/s]"
     ]
    },
    {
     "name": "stdout",
     "output_type": "stream",
     "text": [
      "EarlyStopping counter: 8 out of 10\n"
     ]
    },
    {
     "name": "stderr",
     "output_type": "stream",
     "text": [
      "Epoch 16: 100%|██████████| 126/126 [02:19<00:00,  1.10s/batch, accuracy=100, current_lr=1e-5, loss=0.000712, val_acc=97.5, val_loss=0.109]\n",
      "  0%|          | 0/126 [00:00<?, ?batch/s]"
     ]
    },
    {
     "name": "stdout",
     "output_type": "stream",
     "text": [
      "EarlyStopping counter: 9 out of 10\n"
     ]
    },
    {
     "name": "stderr",
     "output_type": "stream",
     "text": [
      "Epoch 17: 100%|██████████| 126/126 [02:17<00:00,  1.09s/batch, accuracy=100, current_lr=1e-5, loss=0.000337, val_acc=97.5, val_loss=0.112]\n"
     ]
    },
    {
     "name": "stdout",
     "output_type": "stream",
     "text": [
      "EarlyStopping counter: 10 out of 10\n",
      "Early stopping\n"
     ]
    }
   ],
   "source": [
    "model_gender_ds.train()"
   ]
  },
  {
   "cell_type": "code",
   "execution_count": 22,
   "id": "parliamentary-reform",
   "metadata": {},
   "outputs": [
    {
     "data": {
      "image/png": "[encoded data removed]",
      "text/plain": [
       "<Figure size 432x288 with 1 Axes>"
      ]
     },
     "metadata": {
      "needs_background": "light"
     },
     "output_type": "display_data"
    },
    {
     "data": {
      "image/png": "[encoded data removed]",
      "text/plain": [
       "<Figure size 432x288 with 1 Axes>"
      ]
     },
     "metadata": {
      "needs_background": "light"
     },
     "output_type": "display_data"
    },
    {
     "data": {
      "image/png": "[encoded data removed]",
      "text/plain": [
       "<Figure size 432x288 with 1 Axes>"
      ]
     },
     "metadata": {
      "needs_background": "light"
     },
     "output_type": "display_data"
    }
   ],
   "source": [
    "model_age_ds.show_history()\n",
    "model_gender_ds.show_history()\n",
    "model_mask_ds.show_history()"
   ]
  },
  {
   "cell_type": "code",
   "execution_count": 23,
   "id": "embedded-publication",
   "metadata": {},
   "outputs": [
    {
     "name": "stderr",
     "output_type": "stream",
     "text": [
      "100%|██████████| 99/99 [01:13<00:00,  1.35it/s]\n"
     ]
    },
    {
     "data": {
      "text/html": [
       "<div>\n",
       "<style scoped>\n",
       "    .dataframe tbody tr th:only-of-type {\n",
       "        vertical-align: middle;\n",
       "    }\n",
       "\n",
       "    .dataframe tbody tr th {\n",
       "        vertical-align: top;\n",
       "    }\n",
       "\n",
       "    .dataframe thead th {\n",
       "        text-align: right;\n",
       "    }\n",
       "</style>\n",
       "<table border=\"1\" class=\"dataframe\">\n",
       "  <thead>\n",
       "    <tr style=\"text-align: right;\">\n",
       "      <th></th>\n",
       "      <th>Unnamed: 0</th>\n",
       "      <th>ImageID</th>\n",
       "      <th>ans</th>\n",
       "      <th>mask</th>\n",
       "      <th>gender</th>\n",
       "      <th>age</th>\n",
       "      <th>class</th>\n",
       "    </tr>\n",
       "  </thead>\n",
       "  <tbody>\n",
       "    <tr>\n",
       "      <th>0</th>\n",
       "      <td>0</td>\n",
       "      <td>cbc5c6e168e63498590db46022617123f1fe1268.jpg</td>\n",
       "      <td>13</td>\n",
       "      <td>0</td>\n",
       "      <td>1</td>\n",
       "      <td>1</td>\n",
       "      <td>011</td>\n",
       "    </tr>\n",
       "    <tr>\n",
       "      <th>1</th>\n",
       "      <td>1</td>\n",
       "      <td>0e72482bf56b3581c081f7da2a6180b8792c7089.jpg</td>\n",
       "      <td>2</td>\n",
       "      <td>1</td>\n",
       "      <td>1</td>\n",
       "      <td>2</td>\n",
       "      <td>112</td>\n",
       "    </tr>\n",
       "    <tr>\n",
       "      <th>2</th>\n",
       "      <td>2</td>\n",
       "      <td>b549040c49190cedc41327748aeb197c1670f14d.jpg</td>\n",
       "      <td>14</td>\n",
       "      <td>0</td>\n",
       "      <td>1</td>\n",
       "      <td>2</td>\n",
       "      <td>012</td>\n",
       "    </tr>\n",
       "    <tr>\n",
       "      <th>3</th>\n",
       "      <td>3</td>\n",
       "      <td>4f9cb2a045c6d5b9e50ad3459ea7b791eb6e18bc.jpg</td>\n",
       "      <td>14</td>\n",
       "      <td>0</td>\n",
       "      <td>1</td>\n",
       "      <td>2</td>\n",
       "      <td>012</td>\n",
       "    </tr>\n",
       "    <tr>\n",
       "      <th>4</th>\n",
       "      <td>4</td>\n",
       "      <td>248428d9a4a5b6229a7081c32851b90cb8d38d0c.jpg</td>\n",
       "      <td>12</td>\n",
       "      <td>0</td>\n",
       "      <td>1</td>\n",
       "      <td>0</td>\n",
       "      <td>010</td>\n",
       "    </tr>\n",
       "    <tr>\n",
       "      <th>...</th>\n",
       "      <td>...</td>\n",
       "      <td>...</td>\n",
       "      <td>...</td>\n",
       "      <td>...</td>\n",
       "      <td>...</td>\n",
       "      <td>...</td>\n",
       "      <td>...</td>\n",
       "    </tr>\n",
       "    <tr>\n",
       "      <th>12595</th>\n",
       "      <td>12595</td>\n",
       "      <td>d71d4570505d6af8f777690e63edfa8d85ea4476.jpg</td>\n",
       "      <td>2</td>\n",
       "      <td>1</td>\n",
       "      <td>1</td>\n",
       "      <td>2</td>\n",
       "      <td>112</td>\n",
       "    </tr>\n",
       "    <tr>\n",
       "      <th>12596</th>\n",
       "      <td>12596</td>\n",
       "      <td>6cf1300e8e218716728d5820c0bab553306c2cfd.jpg</td>\n",
       "      <td>5</td>\n",
       "      <td>1</td>\n",
       "      <td>0</td>\n",
       "      <td>2</td>\n",
       "      <td>102</td>\n",
       "    </tr>\n",
       "    <tr>\n",
       "      <th>12597</th>\n",
       "      <td>12597</td>\n",
       "      <td>8140edbba31c3a824e817e6d5fb95343199e2387.jpg</td>\n",
       "      <td>9</td>\n",
       "      <td>2</td>\n",
       "      <td>0</td>\n",
       "      <td>0</td>\n",
       "      <td>200</td>\n",
       "    </tr>\n",
       "    <tr>\n",
       "      <th>12598</th>\n",
       "      <td>12598</td>\n",
       "      <td>030d439efe6fb5a7bafda45a393fc19f2bf57f54.jpg</td>\n",
       "      <td>1</td>\n",
       "      <td>1</td>\n",
       "      <td>1</td>\n",
       "      <td>1</td>\n",
       "      <td>111</td>\n",
       "    </tr>\n",
       "    <tr>\n",
       "      <th>12599</th>\n",
       "      <td>12599</td>\n",
       "      <td>f1e0b9594ae9f72571f0a9dc67406ad41f2edab0.jpg</td>\n",
       "      <td>8</td>\n",
       "      <td>2</td>\n",
       "      <td>1</td>\n",
       "      <td>2</td>\n",
       "      <td>212</td>\n",
       "    </tr>\n",
       "  </tbody>\n",
       "</table>\n",
       "<p>12600 rows × 7 columns</p>\n",
       "</div>"
      ],
      "text/plain": [
       "       Unnamed: 0                                       ImageID  ans  mask  \\\n",
       "0               0  cbc5c6e168e63498590db46022617123f1fe1268.jpg   13     0   \n",
       "1               1  0e72482bf56b3581c081f7da2a6180b8792c7089.jpg    2     1   \n",
       "2               2  b549040c49190cedc41327748aeb197c1670f14d.jpg   14     0   \n",
       "3               3  4f9cb2a045c6d5b9e50ad3459ea7b791eb6e18bc.jpg   14     0   \n",
       "4               4  248428d9a4a5b6229a7081c32851b90cb8d38d0c.jpg   12     0   \n",
       "...           ...                                           ...  ...   ...   \n",
       "12595       12595  d71d4570505d6af8f777690e63edfa8d85ea4476.jpg    2     1   \n",
       "12596       12596  6cf1300e8e218716728d5820c0bab553306c2cfd.jpg    5     1   \n",
       "12597       12597  8140edbba31c3a824e817e6d5fb95343199e2387.jpg    9     2   \n",
       "12598       12598  030d439efe6fb5a7bafda45a393fc19f2bf57f54.jpg    1     1   \n",
       "12599       12599  f1e0b9594ae9f72571f0a9dc67406ad41f2edab0.jpg    8     2   \n",
       "\n",
       "       gender  age class  \n",
       "0           1    1   011  \n",
       "1           1    2   112  \n",
       "2           1    2   012  \n",
       "3           1    2   012  \n",
       "4           1    0   010  \n",
       "...       ...  ...   ...  \n",
       "12595       1    2   112  \n",
       "12596       0    2   102  \n",
       "12597       0    0   200  \n",
       "12598       1    1   111  \n",
       "12599       1    2   212  \n",
       "\n",
       "[12600 rows x 7 columns]"
      ]
     },
     "execution_count": 23,
     "metadata": {},
     "output_type": "execute_result"
    }
   ],
   "source": [
    "inference({'mask_model': [model_mask_ds.model],\n",
    "           'gender_model': [model_gender_ds.model],\n",
    "           'age_model': [model_age_ds.model]}, True)"
   ]
  },
  {
   "cell_type": "code",
   "execution_count": 24,
   "id": "animated-inflation",
   "metadata": {},
   "outputs": [
    {
     "name": "stderr",
     "output_type": "stream",
     "text": [
      "100%|██████████| 23/23 [00:17<00:00,  1.33it/s]"
     ]
    },
    {
     "name": "stdout",
     "output_type": "stream",
     "text": [
      "              precision    recall  f1-score   support\n",
      "\n",
      "           0       0.91      0.95      0.93       410\n",
      "           1       0.58      0.57      0.58       210\n",
      "           2       0.55      0.60      0.57       160\n",
      "           3       0.94      0.95      0.94       555\n",
      "           4       0.74      0.68      0.71       450\n",
      "           5       0.55      0.56      0.56       245\n",
      "           6       0.93      0.94      0.93        82\n",
      "           7       0.61      0.52      0.56        42\n",
      "           8       0.51      0.59      0.55        32\n",
      "           9       0.91      0.96      0.94       111\n",
      "          10       0.76      0.71      0.74        90\n",
      "          11       0.60      0.61      0.61        49\n",
      "          12       0.93      0.91      0.92        82\n",
      "          13       0.59      0.64      0.61        42\n",
      "          14       0.52      0.50      0.51        32\n",
      "          15       0.93      0.96      0.95       111\n",
      "          16       0.76      0.77      0.76        90\n",
      "          17       0.64      0.55      0.59        49\n",
      "\n",
      "    accuracy                           0.78      2842\n",
      "   macro avg       0.72      0.72      0.72      2842\n",
      "weighted avg       0.78      0.78      0.78      2842\n",
      "\n"
     ]
    },
    {
     "name": "stderr",
     "output_type": "stream",
     "text": [
      "\n"
     ]
    },
    {
     "data": {
      "text/html": [
       "<div>\n",
       "<style scoped>\n",
       "    .dataframe tbody tr th:only-of-type {\n",
       "        vertical-align: middle;\n",
       "    }\n",
       "\n",
       "    .dataframe tbody tr th {\n",
       "        vertical-align: top;\n",
       "    }\n",
       "\n",
       "    .dataframe thead th {\n",
       "        text-align: right;\n",
       "    }\n",
       "</style>\n",
       "<table border=\"1\" class=\"dataframe\">\n",
       "  <thead>\n",
       "    <tr style=\"text-align: right;\">\n",
       "      <th></th>\n",
       "      <th>id</th>\n",
       "      <th>path</th>\n",
       "      <th>mask_status</th>\n",
       "      <th>gender</th>\n",
       "      <th>race</th>\n",
       "      <th>age</th>\n",
       "      <th>age_group</th>\n",
       "      <th>ans</th>\n",
       "      <th>mask_pred</th>\n",
       "      <th>gender_pred</th>\n",
       "      <th>age_group_pred</th>\n",
       "      <th>ans_pred</th>\n",
       "    </tr>\n",
       "  </thead>\n",
       "  <tbody>\n",
       "    <tr>\n",
       "      <th>0</th>\n",
       "      <td>001700</td>\n",
       "      <td>001700_male_Asian_33/mask5.jpg</td>\n",
       "      <td>1</td>\n",
       "      <td>1</td>\n",
       "      <td>Asian</td>\n",
       "      <td>33</td>\n",
       "      <td>1</td>\n",
       "      <td>1</td>\n",
       "      <td>1</td>\n",
       "      <td>0</td>\n",
       "      <td>1</td>\n",
       "      <td>4</td>\n",
       "    </tr>\n",
       "    <tr>\n",
       "      <th>1</th>\n",
       "      <td>001700</td>\n",
       "      <td>001700_male_Asian_33/incorrect_mask.jpg</td>\n",
       "      <td>2</td>\n",
       "      <td>1</td>\n",
       "      <td>Asian</td>\n",
       "      <td>33</td>\n",
       "      <td>1</td>\n",
       "      <td>7</td>\n",
       "      <td>2</td>\n",
       "      <td>0</td>\n",
       "      <td>0</td>\n",
       "      <td>9</td>\n",
       "    </tr>\n",
       "    <tr>\n",
       "      <th>2</th>\n",
       "      <td>001700</td>\n",
       "      <td>001700_male_Asian_33/mask1.jpg</td>\n",
       "      <td>1</td>\n",
       "      <td>1</td>\n",
       "      <td>Asian</td>\n",
       "      <td>33</td>\n",
       "      <td>1</td>\n",
       "      <td>1</td>\n",
       "      <td>1</td>\n",
       "      <td>0</td>\n",
       "      <td>2</td>\n",
       "      <td>5</td>\n",
       "    </tr>\n",
       "    <tr>\n",
       "      <th>3</th>\n",
       "      <td>001700</td>\n",
       "      <td>001700_male_Asian_33/mask3.jpg</td>\n",
       "      <td>1</td>\n",
       "      <td>1</td>\n",
       "      <td>Asian</td>\n",
       "      <td>33</td>\n",
       "      <td>1</td>\n",
       "      <td>1</td>\n",
       "      <td>1</td>\n",
       "      <td>0</td>\n",
       "      <td>1</td>\n",
       "      <td>4</td>\n",
       "    </tr>\n",
       "    <tr>\n",
       "      <th>4</th>\n",
       "      <td>001700</td>\n",
       "      <td>001700_male_Asian_33/normal.jpg</td>\n",
       "      <td>0</td>\n",
       "      <td>1</td>\n",
       "      <td>Asian</td>\n",
       "      <td>33</td>\n",
       "      <td>1</td>\n",
       "      <td>13</td>\n",
       "      <td>0</td>\n",
       "      <td>0</td>\n",
       "      <td>1</td>\n",
       "      <td>16</td>\n",
       "    </tr>\n",
       "    <tr>\n",
       "      <th>...</th>\n",
       "      <td>...</td>\n",
       "      <td>...</td>\n",
       "      <td>...</td>\n",
       "      <td>...</td>\n",
       "      <td>...</td>\n",
       "      <td>...</td>\n",
       "      <td>...</td>\n",
       "      <td>...</td>\n",
       "      <td>...</td>\n",
       "      <td>...</td>\n",
       "      <td>...</td>\n",
       "      <td>...</td>\n",
       "    </tr>\n",
       "    <tr>\n",
       "      <th>2837</th>\n",
       "      <td>005558</td>\n",
       "      <td>005558_male_Asian_52/mask1.jpg</td>\n",
       "      <td>1</td>\n",
       "      <td>1</td>\n",
       "      <td>Asian</td>\n",
       "      <td>52</td>\n",
       "      <td>1</td>\n",
       "      <td>1</td>\n",
       "      <td>1</td>\n",
       "      <td>1</td>\n",
       "      <td>1</td>\n",
       "      <td>1</td>\n",
       "    </tr>\n",
       "    <tr>\n",
       "      <th>2838</th>\n",
       "      <td>005558</td>\n",
       "      <td>005558_male_Asian_52/mask4.jpg</td>\n",
       "      <td>1</td>\n",
       "      <td>1</td>\n",
       "      <td>Asian</td>\n",
       "      <td>52</td>\n",
       "      <td>1</td>\n",
       "      <td>1</td>\n",
       "      <td>1</td>\n",
       "      <td>1</td>\n",
       "      <td>1</td>\n",
       "      <td>1</td>\n",
       "    </tr>\n",
       "    <tr>\n",
       "      <th>2839</th>\n",
       "      <td>005558</td>\n",
       "      <td>005558_male_Asian_52/mask2.jpg</td>\n",
       "      <td>1</td>\n",
       "      <td>1</td>\n",
       "      <td>Asian</td>\n",
       "      <td>52</td>\n",
       "      <td>1</td>\n",
       "      <td>1</td>\n",
       "      <td>1</td>\n",
       "      <td>1</td>\n",
       "      <td>1</td>\n",
       "      <td>1</td>\n",
       "    </tr>\n",
       "    <tr>\n",
       "      <th>2840</th>\n",
       "      <td>005558</td>\n",
       "      <td>005558_male_Asian_52/mask5.jpg</td>\n",
       "      <td>1</td>\n",
       "      <td>1</td>\n",
       "      <td>Asian</td>\n",
       "      <td>52</td>\n",
       "      <td>1</td>\n",
       "      <td>1</td>\n",
       "      <td>1</td>\n",
       "      <td>1</td>\n",
       "      <td>1</td>\n",
       "      <td>1</td>\n",
       "    </tr>\n",
       "    <tr>\n",
       "      <th>2841</th>\n",
       "      <td>005558</td>\n",
       "      <td>005558_male_Asian_52/incorrect_mask.jpg</td>\n",
       "      <td>2</td>\n",
       "      <td>1</td>\n",
       "      <td>Asian</td>\n",
       "      <td>52</td>\n",
       "      <td>1</td>\n",
       "      <td>7</td>\n",
       "      <td>2</td>\n",
       "      <td>1</td>\n",
       "      <td>1</td>\n",
       "      <td>7</td>\n",
       "    </tr>\n",
       "  </tbody>\n",
       "</table>\n",
       "<p>2842 rows × 12 columns</p>\n",
       "</div>"
      ],
      "text/plain": [
       "          id                                     path  mask_status  gender  \\\n",
       "0     001700           001700_male_Asian_33/mask5.jpg            1       1   \n",
       "1     001700  001700_male_Asian_33/incorrect_mask.jpg            2       1   \n",
       "2     001700           001700_male_Asian_33/mask1.jpg            1       1   \n",
       "3     001700           001700_male_Asian_33/mask3.jpg            1       1   \n",
       "4     001700          001700_male_Asian_33/normal.jpg            0       1   \n",
       "...      ...                                      ...          ...     ...   \n",
       "2837  005558           005558_male_Asian_52/mask1.jpg            1       1   \n",
       "2838  005558           005558_male_Asian_52/mask4.jpg            1       1   \n",
       "2839  005558           005558_male_Asian_52/mask2.jpg            1       1   \n",
       "2840  005558           005558_male_Asian_52/mask5.jpg            1       1   \n",
       "2841  005558  005558_male_Asian_52/incorrect_mask.jpg            2       1   \n",
       "\n",
       "       race  age  age_group  ans  mask_pred  gender_pred  age_group_pred  \\\n",
       "0     Asian   33          1    1          1            0               1   \n",
       "1     Asian   33          1    7          2            0               0   \n",
       "2     Asian   33          1    1          1            0               2   \n",
       "3     Asian   33          1    1          1            0               1   \n",
       "4     Asian   33          1   13          0            0               1   \n",
       "...     ...  ...        ...  ...        ...          ...             ...   \n",
       "2837  Asian   52          1    1          1            1               1   \n",
       "2838  Asian   52          1    1          1            1               1   \n",
       "2839  Asian   52          1    1          1            1               1   \n",
       "2840  Asian   52          1    1          1            1               1   \n",
       "2841  Asian   52          1    7          2            1               1   \n",
       "\n",
       "      ans_pred  \n",
       "0            4  \n",
       "1            9  \n",
       "2            5  \n",
       "3            4  \n",
       "4           16  \n",
       "...        ...  \n",
       "2837         1  \n",
       "2838         1  \n",
       "2839         1  \n",
       "2840         1  \n",
       "2841         7  \n",
       "\n",
       "[2842 rows x 12 columns]"
      ]
     },
     "execution_count": 24,
     "metadata": {},
     "output_type": "execute_result"
    }
   ],
   "source": [
    "validate(df_valid_ag, \n",
    "         {'mask_model': [model_mask_ds.model],\n",
    "          'gender_model': [model_gender_ds.model],\n",
    "          'age_model': [model_age_ds.model]}, True)"
   ]
  },
  {
   "cell_type": "code",
   "execution_count": 25,
   "id": "immune-liquid",
   "metadata": {},
   "outputs": [
    {
     "name": "stderr",
     "output_type": "stream",
     "text": [
      "100%|██████████| 99/99 [01:15<00:00,  1.31it/s]\n"
     ]
    },
    {
     "data": {
      "text/html": [
       "<div>\n",
       "<style scoped>\n",
       "    .dataframe tbody tr th:only-of-type {\n",
       "        vertical-align: middle;\n",
       "    }\n",
       "\n",
       "    .dataframe tbody tr th {\n",
       "        vertical-align: top;\n",
       "    }\n",
       "\n",
       "    .dataframe thead th {\n",
       "        text-align: right;\n",
       "    }\n",
       "</style>\n",
       "<table border=\"1\" class=\"dataframe\">\n",
       "  <thead>\n",
       "    <tr style=\"text-align: right;\">\n",
       "      <th></th>\n",
       "      <th>Unnamed: 0</th>\n",
       "      <th>ImageID</th>\n",
       "      <th>ans</th>\n",
       "      <th>mask</th>\n",
       "      <th>gender</th>\n",
       "      <th>age</th>\n",
       "      <th>class</th>\n",
       "    </tr>\n",
       "  </thead>\n",
       "  <tbody>\n",
       "    <tr>\n",
       "      <th>0</th>\n",
       "      <td>0</td>\n",
       "      <td>cbc5c6e168e63498590db46022617123f1fe1268.jpg</td>\n",
       "      <td>13</td>\n",
       "      <td>0</td>\n",
       "      <td>1</td>\n",
       "      <td>1</td>\n",
       "      <td>011</td>\n",
       "    </tr>\n",
       "    <tr>\n",
       "      <th>1</th>\n",
       "      <td>1</td>\n",
       "      <td>0e72482bf56b3581c081f7da2a6180b8792c7089.jpg</td>\n",
       "      <td>2</td>\n",
       "      <td>1</td>\n",
       "      <td>1</td>\n",
       "      <td>2</td>\n",
       "      <td>112</td>\n",
       "    </tr>\n",
       "    <tr>\n",
       "      <th>2</th>\n",
       "      <td>2</td>\n",
       "      <td>b549040c49190cedc41327748aeb197c1670f14d.jpg</td>\n",
       "      <td>14</td>\n",
       "      <td>0</td>\n",
       "      <td>1</td>\n",
       "      <td>2</td>\n",
       "      <td>012</td>\n",
       "    </tr>\n",
       "    <tr>\n",
       "      <th>3</th>\n",
       "      <td>3</td>\n",
       "      <td>4f9cb2a045c6d5b9e50ad3459ea7b791eb6e18bc.jpg</td>\n",
       "      <td>14</td>\n",
       "      <td>0</td>\n",
       "      <td>1</td>\n",
       "      <td>2</td>\n",
       "      <td>012</td>\n",
       "    </tr>\n",
       "    <tr>\n",
       "      <th>4</th>\n",
       "      <td>4</td>\n",
       "      <td>248428d9a4a5b6229a7081c32851b90cb8d38d0c.jpg</td>\n",
       "      <td>12</td>\n",
       "      <td>0</td>\n",
       "      <td>1</td>\n",
       "      <td>0</td>\n",
       "      <td>010</td>\n",
       "    </tr>\n",
       "    <tr>\n",
       "      <th>...</th>\n",
       "      <td>...</td>\n",
       "      <td>...</td>\n",
       "      <td>...</td>\n",
       "      <td>...</td>\n",
       "      <td>...</td>\n",
       "      <td>...</td>\n",
       "      <td>...</td>\n",
       "    </tr>\n",
       "    <tr>\n",
       "      <th>12595</th>\n",
       "      <td>12595</td>\n",
       "      <td>d71d4570505d6af8f777690e63edfa8d85ea4476.jpg</td>\n",
       "      <td>2</td>\n",
       "      <td>1</td>\n",
       "      <td>1</td>\n",
       "      <td>2</td>\n",
       "      <td>112</td>\n",
       "    </tr>\n",
       "    <tr>\n",
       "      <th>12596</th>\n",
       "      <td>12596</td>\n",
       "      <td>6cf1300e8e218716728d5820c0bab553306c2cfd.jpg</td>\n",
       "      <td>5</td>\n",
       "      <td>1</td>\n",
       "      <td>0</td>\n",
       "      <td>2</td>\n",
       "      <td>102</td>\n",
       "    </tr>\n",
       "    <tr>\n",
       "      <th>12597</th>\n",
       "      <td>12597</td>\n",
       "      <td>8140edbba31c3a824e817e6d5fb95343199e2387.jpg</td>\n",
       "      <td>9</td>\n",
       "      <td>2</td>\n",
       "      <td>0</td>\n",
       "      <td>0</td>\n",
       "      <td>200</td>\n",
       "    </tr>\n",
       "    <tr>\n",
       "      <th>12598</th>\n",
       "      <td>12598</td>\n",
       "      <td>030d439efe6fb5a7bafda45a393fc19f2bf57f54.jpg</td>\n",
       "      <td>1</td>\n",
       "      <td>1</td>\n",
       "      <td>1</td>\n",
       "      <td>1</td>\n",
       "      <td>111</td>\n",
       "    </tr>\n",
       "    <tr>\n",
       "      <th>12599</th>\n",
       "      <td>12599</td>\n",
       "      <td>f1e0b9594ae9f72571f0a9dc67406ad41f2edab0.jpg</td>\n",
       "      <td>8</td>\n",
       "      <td>2</td>\n",
       "      <td>1</td>\n",
       "      <td>2</td>\n",
       "      <td>212</td>\n",
       "    </tr>\n",
       "  </tbody>\n",
       "</table>\n",
       "<p>12600 rows × 7 columns</p>\n",
       "</div>"
      ],
      "text/plain": [
       "       Unnamed: 0                                       ImageID  ans  mask  \\\n",
       "0               0  cbc5c6e168e63498590db46022617123f1fe1268.jpg   13     0   \n",
       "1               1  0e72482bf56b3581c081f7da2a6180b8792c7089.jpg    2     1   \n",
       "2               2  b549040c49190cedc41327748aeb197c1670f14d.jpg   14     0   \n",
       "3               3  4f9cb2a045c6d5b9e50ad3459ea7b791eb6e18bc.jpg   14     0   \n",
       "4               4  248428d9a4a5b6229a7081c32851b90cb8d38d0c.jpg   12     0   \n",
       "...           ...                                           ...  ...   ...   \n",
       "12595       12595  d71d4570505d6af8f777690e63edfa8d85ea4476.jpg    2     1   \n",
       "12596       12596  6cf1300e8e218716728d5820c0bab553306c2cfd.jpg    5     1   \n",
       "12597       12597  8140edbba31c3a824e817e6d5fb95343199e2387.jpg    9     2   \n",
       "12598       12598  030d439efe6fb5a7bafda45a393fc19f2bf57f54.jpg    1     1   \n",
       "12599       12599  f1e0b9594ae9f72571f0a9dc67406ad41f2edab0.jpg    8     2   \n",
       "\n",
       "       gender  age class  \n",
       "0           1    1   011  \n",
       "1           1    2   112  \n",
       "2           1    2   012  \n",
       "3           1    2   012  \n",
       "4           1    0   010  \n",
       "...       ...  ...   ...  \n",
       "12595       1    2   112  \n",
       "12596       0    2   102  \n",
       "12597       0    0   200  \n",
       "12598       1    1   111  \n",
       "12599       1    2   212  \n",
       "\n",
       "[12600 rows x 7 columns]"
      ]
     },
     "execution_count": 25,
     "metadata": {},
     "output_type": "execute_result"
    }
   ],
   "source": [
    "inference({'mask_model': [model_mask_ef.model],\n",
    "           'gender_model': [model_gender_ef.model],\n",
    "           'age_model': [model_age_ds.model]}, True)"
   ]
  },
  {
   "cell_type": "code",
   "execution_count": 26,
   "id": "boxed-negative",
   "metadata": {},
   "outputs": [
    {
     "name": "stderr",
     "output_type": "stream",
     "text": [
      "100%|██████████| 23/23 [00:17<00:00,  1.32it/s]"
     ]
    },
    {
     "name": "stdout",
     "output_type": "stream",
     "text": [
      "              precision    recall  f1-score   support\n",
      "\n",
      "           0       0.91      0.96      0.93       410\n",
      "           1       0.60      0.57      0.59       210\n",
      "           2       0.57      0.61      0.59       160\n",
      "           3       0.95      0.95      0.95       555\n",
      "           4       0.75      0.69      0.72       450\n",
      "           5       0.57      0.59      0.58       245\n",
      "           6       0.90      0.95      0.92        82\n",
      "           7       0.61      0.52      0.56        42\n",
      "           8       0.51      0.59      0.55        32\n",
      "           9       0.93      0.95      0.94       111\n",
      "          10       0.77      0.71      0.74        90\n",
      "          11       0.62      0.63      0.63        49\n",
      "          12       0.93      0.91      0.92        82\n",
      "          13       0.55      0.64      0.59        42\n",
      "          14       0.53      0.50      0.52        32\n",
      "          15       0.93      0.96      0.95       111\n",
      "          16       0.76      0.74      0.75        90\n",
      "          17       0.65      0.57      0.61        49\n",
      "\n",
      "    accuracy                           0.79      2842\n",
      "   macro avg       0.72      0.73      0.72      2842\n",
      "weighted avg       0.78      0.79      0.78      2842\n",
      "\n"
     ]
    },
    {
     "name": "stderr",
     "output_type": "stream",
     "text": [
      "\n"
     ]
    },
    {
     "data": {
      "text/html": [
       "<div>\n",
       "<style scoped>\n",
       "    .dataframe tbody tr th:only-of-type {\n",
       "        vertical-align: middle;\n",
       "    }\n",
       "\n",
       "    .dataframe tbody tr th {\n",
       "        vertical-align: top;\n",
       "    }\n",
       "\n",
       "    .dataframe thead th {\n",
       "        text-align: right;\n",
       "    }\n",
       "</style>\n",
       "<table border=\"1\" class=\"dataframe\">\n",
       "  <thead>\n",
       "    <tr style=\"text-align: right;\">\n",
       "      <th></th>\n",
       "      <th>id</th>\n",
       "      <th>path</th>\n",
       "      <th>mask_status</th>\n",
       "      <th>gender</th>\n",
       "      <th>race</th>\n",
       "      <th>age</th>\n",
       "      <th>age_group</th>\n",
       "      <th>ans</th>\n",
       "      <th>mask_pred</th>\n",
       "      <th>gender_pred</th>\n",
       "      <th>age_group_pred</th>\n",
       "      <th>ans_pred</th>\n",
       "    </tr>\n",
       "  </thead>\n",
       "  <tbody>\n",
       "    <tr>\n",
       "      <th>0</th>\n",
       "      <td>001700</td>\n",
       "      <td>001700_male_Asian_33/mask5.jpg</td>\n",
       "      <td>1</td>\n",
       "      <td>1</td>\n",
       "      <td>Asian</td>\n",
       "      <td>33</td>\n",
       "      <td>1</td>\n",
       "      <td>1</td>\n",
       "      <td>1</td>\n",
       "      <td>0</td>\n",
       "      <td>1</td>\n",
       "      <td>4</td>\n",
       "    </tr>\n",
       "    <tr>\n",
       "      <th>1</th>\n",
       "      <td>001700</td>\n",
       "      <td>001700_male_Asian_33/incorrect_mask.jpg</td>\n",
       "      <td>2</td>\n",
       "      <td>1</td>\n",
       "      <td>Asian</td>\n",
       "      <td>33</td>\n",
       "      <td>1</td>\n",
       "      <td>7</td>\n",
       "      <td>2</td>\n",
       "      <td>0</td>\n",
       "      <td>0</td>\n",
       "      <td>9</td>\n",
       "    </tr>\n",
       "    <tr>\n",
       "      <th>2</th>\n",
       "      <td>001700</td>\n",
       "      <td>001700_male_Asian_33/mask1.jpg</td>\n",
       "      <td>1</td>\n",
       "      <td>1</td>\n",
       "      <td>Asian</td>\n",
       "      <td>33</td>\n",
       "      <td>1</td>\n",
       "      <td>1</td>\n",
       "      <td>1</td>\n",
       "      <td>0</td>\n",
       "      <td>2</td>\n",
       "      <td>5</td>\n",
       "    </tr>\n",
       "    <tr>\n",
       "      <th>3</th>\n",
       "      <td>001700</td>\n",
       "      <td>001700_male_Asian_33/mask3.jpg</td>\n",
       "      <td>1</td>\n",
       "      <td>1</td>\n",
       "      <td>Asian</td>\n",
       "      <td>33</td>\n",
       "      <td>1</td>\n",
       "      <td>1</td>\n",
       "      <td>1</td>\n",
       "      <td>0</td>\n",
       "      <td>1</td>\n",
       "      <td>4</td>\n",
       "    </tr>\n",
       "    <tr>\n",
       "      <th>4</th>\n",
       "      <td>001700</td>\n",
       "      <td>001700_male_Asian_33/normal.jpg</td>\n",
       "      <td>0</td>\n",
       "      <td>1</td>\n",
       "      <td>Asian</td>\n",
       "      <td>33</td>\n",
       "      <td>1</td>\n",
       "      <td>13</td>\n",
       "      <td>0</td>\n",
       "      <td>0</td>\n",
       "      <td>1</td>\n",
       "      <td>16</td>\n",
       "    </tr>\n",
       "    <tr>\n",
       "      <th>...</th>\n",
       "      <td>...</td>\n",
       "      <td>...</td>\n",
       "      <td>...</td>\n",
       "      <td>...</td>\n",
       "      <td>...</td>\n",
       "      <td>...</td>\n",
       "      <td>...</td>\n",
       "      <td>...</td>\n",
       "      <td>...</td>\n",
       "      <td>...</td>\n",
       "      <td>...</td>\n",
       "      <td>...</td>\n",
       "    </tr>\n",
       "    <tr>\n",
       "      <th>2837</th>\n",
       "      <td>005558</td>\n",
       "      <td>005558_male_Asian_52/mask1.jpg</td>\n",
       "      <td>1</td>\n",
       "      <td>1</td>\n",
       "      <td>Asian</td>\n",
       "      <td>52</td>\n",
       "      <td>1</td>\n",
       "      <td>1</td>\n",
       "      <td>1</td>\n",
       "      <td>1</td>\n",
       "      <td>1</td>\n",
       "      <td>1</td>\n",
       "    </tr>\n",
       "    <tr>\n",
       "      <th>2838</th>\n",
       "      <td>005558</td>\n",
       "      <td>005558_male_Asian_52/mask4.jpg</td>\n",
       "      <td>1</td>\n",
       "      <td>1</td>\n",
       "      <td>Asian</td>\n",
       "      <td>52</td>\n",
       "      <td>1</td>\n",
       "      <td>1</td>\n",
       "      <td>1</td>\n",
       "      <td>1</td>\n",
       "      <td>1</td>\n",
       "      <td>1</td>\n",
       "    </tr>\n",
       "    <tr>\n",
       "      <th>2839</th>\n",
       "      <td>005558</td>\n",
       "      <td>005558_male_Asian_52/mask2.jpg</td>\n",
       "      <td>1</td>\n",
       "      <td>1</td>\n",
       "      <td>Asian</td>\n",
       "      <td>52</td>\n",
       "      <td>1</td>\n",
       "      <td>1</td>\n",
       "      <td>1</td>\n",
       "      <td>1</td>\n",
       "      <td>1</td>\n",
       "      <td>1</td>\n",
       "    </tr>\n",
       "    <tr>\n",
       "      <th>2840</th>\n",
       "      <td>005558</td>\n",
       "      <td>005558_male_Asian_52/mask5.jpg</td>\n",
       "      <td>1</td>\n",
       "      <td>1</td>\n",
       "      <td>Asian</td>\n",
       "      <td>52</td>\n",
       "      <td>1</td>\n",
       "      <td>1</td>\n",
       "      <td>1</td>\n",
       "      <td>1</td>\n",
       "      <td>1</td>\n",
       "      <td>1</td>\n",
       "    </tr>\n",
       "    <tr>\n",
       "      <th>2841</th>\n",
       "      <td>005558</td>\n",
       "      <td>005558_male_Asian_52/incorrect_mask.jpg</td>\n",
       "      <td>2</td>\n",
       "      <td>1</td>\n",
       "      <td>Asian</td>\n",
       "      <td>52</td>\n",
       "      <td>1</td>\n",
       "      <td>7</td>\n",
       "      <td>2</td>\n",
       "      <td>1</td>\n",
       "      <td>1</td>\n",
       "      <td>7</td>\n",
       "    </tr>\n",
       "  </tbody>\n",
       "</table>\n",
       "<p>2842 rows × 12 columns</p>\n",
       "</div>"
      ],
      "text/plain": [
       "          id                                     path  mask_status  gender  \\\n",
       "0     001700           001700_male_Asian_33/mask5.jpg            1       1   \n",
       "1     001700  001700_male_Asian_33/incorrect_mask.jpg            2       1   \n",
       "2     001700           001700_male_Asian_33/mask1.jpg            1       1   \n",
       "3     001700           001700_male_Asian_33/mask3.jpg            1       1   \n",
       "4     001700          001700_male_Asian_33/normal.jpg            0       1   \n",
       "...      ...                                      ...          ...     ...   \n",
       "2837  005558           005558_male_Asian_52/mask1.jpg            1       1   \n",
       "2838  005558           005558_male_Asian_52/mask4.jpg            1       1   \n",
       "2839  005558           005558_male_Asian_52/mask2.jpg            1       1   \n",
       "2840  005558           005558_male_Asian_52/mask5.jpg            1       1   \n",
       "2841  005558  005558_male_Asian_52/incorrect_mask.jpg            2       1   \n",
       "\n",
       "       race  age  age_group  ans  mask_pred  gender_pred  age_group_pred  \\\n",
       "0     Asian   33          1    1          1            0               1   \n",
       "1     Asian   33          1    7          2            0               0   \n",
       "2     Asian   33          1    1          1            0               2   \n",
       "3     Asian   33          1    1          1            0               1   \n",
       "4     Asian   33          1   13          0            0               1   \n",
       "...     ...  ...        ...  ...        ...          ...             ...   \n",
       "2837  Asian   52          1    1          1            1               1   \n",
       "2838  Asian   52          1    1          1            1               1   \n",
       "2839  Asian   52          1    1          1            1               1   \n",
       "2840  Asian   52          1    1          1            1               1   \n",
       "2841  Asian   52          1    7          2            1               1   \n",
       "\n",
       "      ans_pred  \n",
       "0            4  \n",
       "1            9  \n",
       "2            5  \n",
       "3            4  \n",
       "4           16  \n",
       "...        ...  \n",
       "2837         1  \n",
       "2838         1  \n",
       "2839         1  \n",
       "2840         1  \n",
       "2841         7  \n",
       "\n",
       "[2842 rows x 12 columns]"
      ]
     },
     "execution_count": 26,
     "metadata": {},
     "output_type": "execute_result"
    }
   ],
   "source": [
    "validate(df_valid_ag, \n",
    "         {'mask_model': [model_mask_ef.model],\n",
    "          'gender_model': [model_gender_ef.model],\n",
    "          'age_model': [model_age_ds.model]}, True)"
   ]
  },
  {
   "cell_type": "code",
   "execution_count": 27,
   "id": "increasing-louisiana",
   "metadata": {},
   "outputs": [
    {
     "name": "stderr",
     "output_type": "stream",
     "text": [
      "100%|██████████| 99/99 [01:18<00:00,  1.26it/s]\n"
     ]
    },
    {
     "data": {
      "text/html": [
       "<div>\n",
       "<style scoped>\n",
       "    .dataframe tbody tr th:only-of-type {\n",
       "        vertical-align: middle;\n",
       "    }\n",
       "\n",
       "    .dataframe tbody tr th {\n",
       "        vertical-align: top;\n",
       "    }\n",
       "\n",
       "    .dataframe thead th {\n",
       "        text-align: right;\n",
       "    }\n",
       "</style>\n",
       "<table border=\"1\" class=\"dataframe\">\n",
       "  <thead>\n",
       "    <tr style=\"text-align: right;\">\n",
       "      <th></th>\n",
       "      <th>Unnamed: 0</th>\n",
       "      <th>ImageID</th>\n",
       "      <th>ans</th>\n",
       "      <th>mask</th>\n",
       "      <th>gender</th>\n",
       "      <th>age</th>\n",
       "      <th>class</th>\n",
       "    </tr>\n",
       "  </thead>\n",
       "  <tbody>\n",
       "    <tr>\n",
       "      <th>0</th>\n",
       "      <td>0</td>\n",
       "      <td>cbc5c6e168e63498590db46022617123f1fe1268.jpg</td>\n",
       "      <td>13</td>\n",
       "      <td>0</td>\n",
       "      <td>1</td>\n",
       "      <td>1</td>\n",
       "      <td>011</td>\n",
       "    </tr>\n",
       "    <tr>\n",
       "      <th>1</th>\n",
       "      <td>1</td>\n",
       "      <td>0e72482bf56b3581c081f7da2a6180b8792c7089.jpg</td>\n",
       "      <td>2</td>\n",
       "      <td>1</td>\n",
       "      <td>1</td>\n",
       "      <td>2</td>\n",
       "      <td>112</td>\n",
       "    </tr>\n",
       "    <tr>\n",
       "      <th>2</th>\n",
       "      <td>2</td>\n",
       "      <td>b549040c49190cedc41327748aeb197c1670f14d.jpg</td>\n",
       "      <td>14</td>\n",
       "      <td>0</td>\n",
       "      <td>1</td>\n",
       "      <td>2</td>\n",
       "      <td>012</td>\n",
       "    </tr>\n",
       "    <tr>\n",
       "      <th>3</th>\n",
       "      <td>3</td>\n",
       "      <td>4f9cb2a045c6d5b9e50ad3459ea7b791eb6e18bc.jpg</td>\n",
       "      <td>14</td>\n",
       "      <td>0</td>\n",
       "      <td>1</td>\n",
       "      <td>2</td>\n",
       "      <td>012</td>\n",
       "    </tr>\n",
       "    <tr>\n",
       "      <th>4</th>\n",
       "      <td>4</td>\n",
       "      <td>248428d9a4a5b6229a7081c32851b90cb8d38d0c.jpg</td>\n",
       "      <td>12</td>\n",
       "      <td>0</td>\n",
       "      <td>1</td>\n",
       "      <td>0</td>\n",
       "      <td>010</td>\n",
       "    </tr>\n",
       "    <tr>\n",
       "      <th>...</th>\n",
       "      <td>...</td>\n",
       "      <td>...</td>\n",
       "      <td>...</td>\n",
       "      <td>...</td>\n",
       "      <td>...</td>\n",
       "      <td>...</td>\n",
       "      <td>...</td>\n",
       "    </tr>\n",
       "    <tr>\n",
       "      <th>12595</th>\n",
       "      <td>12595</td>\n",
       "      <td>d71d4570505d6af8f777690e63edfa8d85ea4476.jpg</td>\n",
       "      <td>2</td>\n",
       "      <td>1</td>\n",
       "      <td>1</td>\n",
       "      <td>2</td>\n",
       "      <td>112</td>\n",
       "    </tr>\n",
       "    <tr>\n",
       "      <th>12596</th>\n",
       "      <td>12596</td>\n",
       "      <td>6cf1300e8e218716728d5820c0bab553306c2cfd.jpg</td>\n",
       "      <td>5</td>\n",
       "      <td>1</td>\n",
       "      <td>0</td>\n",
       "      <td>2</td>\n",
       "      <td>102</td>\n",
       "    </tr>\n",
       "    <tr>\n",
       "      <th>12597</th>\n",
       "      <td>12597</td>\n",
       "      <td>8140edbba31c3a824e817e6d5fb95343199e2387.jpg</td>\n",
       "      <td>9</td>\n",
       "      <td>2</td>\n",
       "      <td>0</td>\n",
       "      <td>0</td>\n",
       "      <td>200</td>\n",
       "    </tr>\n",
       "    <tr>\n",
       "      <th>12598</th>\n",
       "      <td>12598</td>\n",
       "      <td>030d439efe6fb5a7bafda45a393fc19f2bf57f54.jpg</td>\n",
       "      <td>1</td>\n",
       "      <td>1</td>\n",
       "      <td>1</td>\n",
       "      <td>1</td>\n",
       "      <td>111</td>\n",
       "    </tr>\n",
       "    <tr>\n",
       "      <th>12599</th>\n",
       "      <td>12599</td>\n",
       "      <td>f1e0b9594ae9f72571f0a9dc67406ad41f2edab0.jpg</td>\n",
       "      <td>8</td>\n",
       "      <td>2</td>\n",
       "      <td>1</td>\n",
       "      <td>2</td>\n",
       "      <td>212</td>\n",
       "    </tr>\n",
       "  </tbody>\n",
       "</table>\n",
       "<p>12600 rows × 7 columns</p>\n",
       "</div>"
      ],
      "text/plain": [
       "       Unnamed: 0                                       ImageID  ans  mask  \\\n",
       "0               0  cbc5c6e168e63498590db46022617123f1fe1268.jpg   13     0   \n",
       "1               1  0e72482bf56b3581c081f7da2a6180b8792c7089.jpg    2     1   \n",
       "2               2  b549040c49190cedc41327748aeb197c1670f14d.jpg   14     0   \n",
       "3               3  4f9cb2a045c6d5b9e50ad3459ea7b791eb6e18bc.jpg   14     0   \n",
       "4               4  248428d9a4a5b6229a7081c32851b90cb8d38d0c.jpg   12     0   \n",
       "...           ...                                           ...  ...   ...   \n",
       "12595       12595  d71d4570505d6af8f777690e63edfa8d85ea4476.jpg    2     1   \n",
       "12596       12596  6cf1300e8e218716728d5820c0bab553306c2cfd.jpg    5     1   \n",
       "12597       12597  8140edbba31c3a824e817e6d5fb95343199e2387.jpg    9     2   \n",
       "12598       12598  030d439efe6fb5a7bafda45a393fc19f2bf57f54.jpg    1     1   \n",
       "12599       12599  f1e0b9594ae9f72571f0a9dc67406ad41f2edab0.jpg    8     2   \n",
       "\n",
       "       gender  age class  \n",
       "0           1    1   011  \n",
       "1           1    2   112  \n",
       "2           1    2   012  \n",
       "3           1    2   012  \n",
       "4           1    0   010  \n",
       "...       ...  ...   ...  \n",
       "12595       1    2   112  \n",
       "12596       0    2   102  \n",
       "12597       0    0   200  \n",
       "12598       1    1   111  \n",
       "12599       1    2   212  \n",
       "\n",
       "[12600 rows x 7 columns]"
      ]
     },
     "execution_count": 27,
     "metadata": {},
     "output_type": "execute_result"
    }
   ],
   "source": [
    "inference({'mask_model': [model_mask_ef.model, model_mask_ds.model],\n",
    "           'gender_model': [model_gender_ef.model, model_gender_ds.model],\n",
    "           'age_model': [model_age_ef.model, model_age_ds.model]}, True)"
   ]
  },
  {
   "cell_type": "code",
   "execution_count": 28,
   "id": "fancy-avenue",
   "metadata": {},
   "outputs": [
    {
     "name": "stderr",
     "output_type": "stream",
     "text": [
      "100%|██████████| 23/23 [00:18<00:00,  1.25it/s]"
     ]
    },
    {
     "name": "stdout",
     "output_type": "stream",
     "text": [
      "              precision    recall  f1-score   support\n",
      "\n",
      "           0       0.93      0.97      0.95       410\n",
      "           1       0.59      0.63      0.61       210\n",
      "           2       0.59      0.56      0.57       160\n",
      "           3       0.95      0.96      0.95       555\n",
      "           4       0.74      0.78      0.76       450\n",
      "           5       0.65      0.50      0.57       245\n",
      "           6       0.92      0.94      0.93        82\n",
      "           7       0.63      0.62      0.63        42\n",
      "           8       0.58      0.59      0.58        32\n",
      "           9       0.92      0.95      0.94       111\n",
      "          10       0.76      0.80      0.78        90\n",
      "          11       0.68      0.53      0.60        49\n",
      "          12       0.93      0.95      0.94        82\n",
      "          13       0.57      0.62      0.59        42\n",
      "          14       0.52      0.47      0.49        32\n",
      "          15       0.93      0.96      0.95       111\n",
      "          16       0.78      0.81      0.79        90\n",
      "          17       0.74      0.57      0.64        49\n",
      "\n",
      "    accuracy                           0.80      2842\n",
      "   macro avg       0.74      0.73      0.74      2842\n",
      "weighted avg       0.80      0.80      0.80      2842\n",
      "\n"
     ]
    },
    {
     "name": "stderr",
     "output_type": "stream",
     "text": [
      "\n"
     ]
    },
    {
     "data": {
      "text/html": [
       "<div>\n",
       "<style scoped>\n",
       "    .dataframe tbody tr th:only-of-type {\n",
       "        vertical-align: middle;\n",
       "    }\n",
       "\n",
       "    .dataframe tbody tr th {\n",
       "        vertical-align: top;\n",
       "    }\n",
       "\n",
       "    .dataframe thead th {\n",
       "        text-align: right;\n",
       "    }\n",
       "</style>\n",
       "<table border=\"1\" class=\"dataframe\">\n",
       "  <thead>\n",
       "    <tr style=\"text-align: right;\">\n",
       "      <th></th>\n",
       "      <th>id</th>\n",
       "      <th>path</th>\n",
       "      <th>mask_status</th>\n",
       "      <th>gender</th>\n",
       "      <th>race</th>\n",
       "      <th>age</th>\n",
       "      <th>age_group</th>\n",
       "      <th>ans</th>\n",
       "      <th>mask_pred</th>\n",
       "      <th>gender_pred</th>\n",
       "      <th>age_group_pred</th>\n",
       "      <th>ans_pred</th>\n",
       "    </tr>\n",
       "  </thead>\n",
       "  <tbody>\n",
       "    <tr>\n",
       "      <th>0</th>\n",
       "      <td>001700</td>\n",
       "      <td>001700_male_Asian_33/mask5.jpg</td>\n",
       "      <td>1</td>\n",
       "      <td>1</td>\n",
       "      <td>Asian</td>\n",
       "      <td>33</td>\n",
       "      <td>1</td>\n",
       "      <td>1</td>\n",
       "      <td>1</td>\n",
       "      <td>0</td>\n",
       "      <td>1</td>\n",
       "      <td>4</td>\n",
       "    </tr>\n",
       "    <tr>\n",
       "      <th>1</th>\n",
       "      <td>001700</td>\n",
       "      <td>001700_male_Asian_33/incorrect_mask.jpg</td>\n",
       "      <td>2</td>\n",
       "      <td>1</td>\n",
       "      <td>Asian</td>\n",
       "      <td>33</td>\n",
       "      <td>1</td>\n",
       "      <td>7</td>\n",
       "      <td>2</td>\n",
       "      <td>0</td>\n",
       "      <td>1</td>\n",
       "      <td>10</td>\n",
       "    </tr>\n",
       "    <tr>\n",
       "      <th>2</th>\n",
       "      <td>001700</td>\n",
       "      <td>001700_male_Asian_33/mask1.jpg</td>\n",
       "      <td>1</td>\n",
       "      <td>1</td>\n",
       "      <td>Asian</td>\n",
       "      <td>33</td>\n",
       "      <td>1</td>\n",
       "      <td>1</td>\n",
       "      <td>1</td>\n",
       "      <td>0</td>\n",
       "      <td>0</td>\n",
       "      <td>3</td>\n",
       "    </tr>\n",
       "    <tr>\n",
       "      <th>3</th>\n",
       "      <td>001700</td>\n",
       "      <td>001700_male_Asian_33/mask3.jpg</td>\n",
       "      <td>1</td>\n",
       "      <td>1</td>\n",
       "      <td>Asian</td>\n",
       "      <td>33</td>\n",
       "      <td>1</td>\n",
       "      <td>1</td>\n",
       "      <td>1</td>\n",
       "      <td>0</td>\n",
       "      <td>1</td>\n",
       "      <td>4</td>\n",
       "    </tr>\n",
       "    <tr>\n",
       "      <th>4</th>\n",
       "      <td>001700</td>\n",
       "      <td>001700_male_Asian_33/normal.jpg</td>\n",
       "      <td>0</td>\n",
       "      <td>1</td>\n",
       "      <td>Asian</td>\n",
       "      <td>33</td>\n",
       "      <td>1</td>\n",
       "      <td>13</td>\n",
       "      <td>0</td>\n",
       "      <td>0</td>\n",
       "      <td>1</td>\n",
       "      <td>16</td>\n",
       "    </tr>\n",
       "    <tr>\n",
       "      <th>...</th>\n",
       "      <td>...</td>\n",
       "      <td>...</td>\n",
       "      <td>...</td>\n",
       "      <td>...</td>\n",
       "      <td>...</td>\n",
       "      <td>...</td>\n",
       "      <td>...</td>\n",
       "      <td>...</td>\n",
       "      <td>...</td>\n",
       "      <td>...</td>\n",
       "      <td>...</td>\n",
       "      <td>...</td>\n",
       "    </tr>\n",
       "    <tr>\n",
       "      <th>2837</th>\n",
       "      <td>005558</td>\n",
       "      <td>005558_male_Asian_52/mask1.jpg</td>\n",
       "      <td>1</td>\n",
       "      <td>1</td>\n",
       "      <td>Asian</td>\n",
       "      <td>52</td>\n",
       "      <td>1</td>\n",
       "      <td>1</td>\n",
       "      <td>1</td>\n",
       "      <td>1</td>\n",
       "      <td>1</td>\n",
       "      <td>1</td>\n",
       "    </tr>\n",
       "    <tr>\n",
       "      <th>2838</th>\n",
       "      <td>005558</td>\n",
       "      <td>005558_male_Asian_52/mask4.jpg</td>\n",
       "      <td>1</td>\n",
       "      <td>1</td>\n",
       "      <td>Asian</td>\n",
       "      <td>52</td>\n",
       "      <td>1</td>\n",
       "      <td>1</td>\n",
       "      <td>1</td>\n",
       "      <td>1</td>\n",
       "      <td>1</td>\n",
       "      <td>1</td>\n",
       "    </tr>\n",
       "    <tr>\n",
       "      <th>2839</th>\n",
       "      <td>005558</td>\n",
       "      <td>005558_male_Asian_52/mask2.jpg</td>\n",
       "      <td>1</td>\n",
       "      <td>1</td>\n",
       "      <td>Asian</td>\n",
       "      <td>52</td>\n",
       "      <td>1</td>\n",
       "      <td>1</td>\n",
       "      <td>1</td>\n",
       "      <td>1</td>\n",
       "      <td>1</td>\n",
       "      <td>1</td>\n",
       "    </tr>\n",
       "    <tr>\n",
       "      <th>2840</th>\n",
       "      <td>005558</td>\n",
       "      <td>005558_male_Asian_52/mask5.jpg</td>\n",
       "      <td>1</td>\n",
       "      <td>1</td>\n",
       "      <td>Asian</td>\n",
       "      <td>52</td>\n",
       "      <td>1</td>\n",
       "      <td>1</td>\n",
       "      <td>1</td>\n",
       "      <td>1</td>\n",
       "      <td>1</td>\n",
       "      <td>1</td>\n",
       "    </tr>\n",
       "    <tr>\n",
       "      <th>2841</th>\n",
       "      <td>005558</td>\n",
       "      <td>005558_male_Asian_52/incorrect_mask.jpg</td>\n",
       "      <td>2</td>\n",
       "      <td>1</td>\n",
       "      <td>Asian</td>\n",
       "      <td>52</td>\n",
       "      <td>1</td>\n",
       "      <td>7</td>\n",
       "      <td>2</td>\n",
       "      <td>1</td>\n",
       "      <td>1</td>\n",
       "      <td>7</td>\n",
       "    </tr>\n",
       "  </tbody>\n",
       "</table>\n",
       "<p>2842 rows × 12 columns</p>\n",
       "</div>"
      ],
      "text/plain": [
       "          id                                     path  mask_status  gender  \\\n",
       "0     001700           001700_male_Asian_33/mask5.jpg            1       1   \n",
       "1     001700  001700_male_Asian_33/incorrect_mask.jpg            2       1   \n",
       "2     001700           001700_male_Asian_33/mask1.jpg            1       1   \n",
       "3     001700           001700_male_Asian_33/mask3.jpg            1       1   \n",
       "4     001700          001700_male_Asian_33/normal.jpg            0       1   \n",
       "...      ...                                      ...          ...     ...   \n",
       "2837  005558           005558_male_Asian_52/mask1.jpg            1       1   \n",
       "2838  005558           005558_male_Asian_52/mask4.jpg            1       1   \n",
       "2839  005558           005558_male_Asian_52/mask2.jpg            1       1   \n",
       "2840  005558           005558_male_Asian_52/mask5.jpg            1       1   \n",
       "2841  005558  005558_male_Asian_52/incorrect_mask.jpg            2       1   \n",
       "\n",
       "       race  age  age_group  ans  mask_pred  gender_pred  age_group_pred  \\\n",
       "0     Asian   33          1    1          1            0               1   \n",
       "1     Asian   33          1    7          2            0               1   \n",
       "2     Asian   33          1    1          1            0               0   \n",
       "3     Asian   33          1    1          1            0               1   \n",
       "4     Asian   33          1   13          0            0               1   \n",
       "...     ...  ...        ...  ...        ...          ...             ...   \n",
       "2837  Asian   52          1    1          1            1               1   \n",
       "2838  Asian   52          1    1          1            1               1   \n",
       "2839  Asian   52          1    1          1            1               1   \n",
       "2840  Asian   52          1    1          1            1               1   \n",
       "2841  Asian   52          1    7          2            1               1   \n",
       "\n",
       "      ans_pred  \n",
       "0            4  \n",
       "1           10  \n",
       "2            3  \n",
       "3            4  \n",
       "4           16  \n",
       "...        ...  \n",
       "2837         1  \n",
       "2838         1  \n",
       "2839         1  \n",
       "2840         1  \n",
       "2841         7  \n",
       "\n",
       "[2842 rows x 12 columns]"
      ]
     },
     "execution_count": 28,
     "metadata": {},
     "output_type": "execute_result"
    }
   ],
   "source": [
    "validate(df_valid_ag, \n",
    "         {'mask_model': [model_mask_ef.model, model_mask_ds.model],\n",
    "          'gender_model': [model_gender_ef.model, model_gender_ds.model],\n",
    "          'age_model': [model_age_ef.model, model_age_ds.model]}, True)"
   ]
  },
  {
   "cell_type": "code",
   "execution_count": 55,
   "id": "lonely-albania",
   "metadata": {},
   "outputs": [
    {
     "name": "stderr",
     "output_type": "stream",
     "text": [
      "100%|██████████| 23/23 [00:20<00:00,  1.10it/s]"
     ]
    },
    {
     "name": "stdout",
     "output_type": "stream",
     "text": [
      "              precision    recall  f1-score   support\n",
      "\n",
      "           0       0.95      0.99      0.97      1351\n",
      "           1       0.77      0.59      0.67       924\n",
      "           2       0.56      0.72      0.63       567\n",
      "\n",
      "    accuracy                           0.81      2842\n",
      "   macro avg       0.76      0.77      0.76      2842\n",
      "weighted avg       0.81      0.81      0.80      2842\n",
      "\n"
     ]
    },
    {
     "name": "stderr",
     "output_type": "stream",
     "text": [
      "\n"
     ]
    }
   ],
   "source": [
    "model_age_ef.show_report()"
   ]
  },
  {
   "cell_type": "code",
   "execution_count": 29,
   "id": "searching-details",
   "metadata": {},
   "outputs": [],
   "source": [
    "os.rename('checkpoint_age.pt', '0406_9_dense_checkpoint_age.pt')\n",
    "os.rename('checkpoint_mask.pt', '0406_9_dense_checkpoint_mask.pt')\n",
    "os.rename('checkpoint_gender.pt', '0406_9_dense_checkpoint_gender.pt')"
   ]
  },
  {
   "cell_type": "code",
   "execution_count": 30,
   "id": "special-struggle",
   "metadata": {},
   "outputs": [],
   "source": [
    "# resnext50\n",
    "\n",
    "BS = 128\n",
    "LR = 3e-4\n",
    "EPOCHS = 200\n",
    "\n",
    "# Backbones\n",
    "resnext_1 = models.resnext50_32x4d(pretrained=True)\n",
    "resnext_2 = models.resnext50_32x4d(pretrained=True)\n",
    "resnext_3 = models.resnext50_32x4d(pretrained=True)\n",
    "resnext_4 = models.resnext50_32x4d(pretrained=True)\n",
    "\n",
    "resnext_mask = Network(resnext_1, out_features=3)\n",
    "resnext_gender = Network(resnext_2, out_features=2)\n",
    "resnext_age = Network(resnext_3, out_features=3)\n",
    "resnext_all = Network(resnext_4, out_features=18)\n",
    "\n",
    "model_mask_rn = Trainer(resnext_mask, df_train_mask, df_valid_mask, 'mask', transform, BS, LR, EPOCHS, use_optimizer=0, use_scheduler=3)\n",
    "model_gender_rn = Trainer(resnext_gender, df_train_ag, df_valid_ag, 'gender', transform, BS, LR, EPOCHS, use_optimizer=0, use_scheduler=3)\n",
    "model_age_rn = Trainer(resnext_age, df_train_ag, df_valid_ag, 'age', transform, BS, LR, EPOCHS, use_optimizer=0, use_scheduler=3)\n",
    "model_all_rn = Trainer(resnext_all, df_train_ag, df_valid_ag, 'all', transform, BS, LR, EPOCHS, use_optimizer=0, use_scheduler=3)"
   ]
  },
  {
   "cell_type": "code",
   "execution_count": 31,
   "id": "alternative-privacy",
   "metadata": {
    "tags": []
   },
   "outputs": [
    {
     "name": "stderr",
     "output_type": "stream",
     "text": [
      "  0%|          | 0/126 [00:00<?, ?batch/s]"
     ]
    },
    {
     "name": "stdout",
     "output_type": "stream",
     "text": [
      "Running on device: cuda:0 start training...\n",
      "Setting - Epochs: 200, Learning rate: 0.0003 \n"
     ]
    },
    {
     "name": "stderr",
     "output_type": "stream",
     "text": [
      "Epoch 1: 100%|██████████| 126/126 [02:18<00:00,  1.10s/batch, accuracy=76.4, current_lr=1e-5, loss=0.543, val_acc=83.1, val_loss=0.373]\n"
     ]
    },
    {
     "name": "stdout",
     "output_type": "stream",
     "text": [
      "Validation loss decreased (inf --> 0.372559).  Saving model ...\n"
     ]
    },
    {
     "name": "stderr",
     "output_type": "stream",
     "text": [
      "Epoch 2: 100%|██████████| 126/126 [02:20<00:00,  1.12s/batch, accuracy=76.4, current_lr=1e-5, loss=0.48, val_acc=83.6, val_loss=0.36] \n"
     ]
    },
    {
     "name": "stdout",
     "output_type": "stream",
     "text": [
      "Validation loss decreased (0.372559 --> 0.360012).  Saving model ...\n"
     ]
    },
    {
     "name": "stderr",
     "output_type": "stream",
     "text": [
      "Epoch 3: 100%|██████████| 126/126 [02:19<00:00,  1.10s/batch, accuracy=79.2, current_lr=1e-5, loss=0.4, val_acc=83.9, val_loss=0.357] \n"
     ]
    },
    {
     "name": "stdout",
     "output_type": "stream",
     "text": [
      "Validation loss decreased (0.360012 --> 0.357328).  Saving model ...\n"
     ]
    },
    {
     "name": "stderr",
     "output_type": "stream",
     "text": [
      "Epoch 4: 100%|██████████| 126/126 [02:19<00:00,  1.11s/batch, accuracy=80.6, current_lr=1e-5, loss=0.316, val_acc=83.3, val_loss=0.38]\n",
      "  0%|          | 0/126 [00:00<?, ?batch/s]"
     ]
    },
    {
     "name": "stdout",
     "output_type": "stream",
     "text": [
      "EarlyStopping counter: 1 out of 10\n"
     ]
    },
    {
     "name": "stderr",
     "output_type": "stream",
     "text": [
      "Epoch 5: 100%|██████████| 126/126 [02:19<00:00,  1.11s/batch, accuracy=88.9, current_lr=1e-5, loss=0.213, val_acc=83.7, val_loss=0.397]\n",
      "  0%|          | 0/126 [00:00<?, ?batch/s]"
     ]
    },
    {
     "name": "stdout",
     "output_type": "stream",
     "text": [
      "EarlyStopping counter: 2 out of 10\n"
     ]
    },
    {
     "name": "stderr",
     "output_type": "stream",
     "text": [
      "Epoch 6: 100%|██████████| 126/126 [02:19<00:00,  1.11s/batch, accuracy=97.2, current_lr=1e-5, loss=0.0884, val_acc=82.7, val_loss=0.459]\n",
      "  0%|          | 0/126 [00:00<?, ?batch/s]"
     ]
    },
    {
     "name": "stdout",
     "output_type": "stream",
     "text": [
      "EarlyStopping counter: 3 out of 10\n"
     ]
    },
    {
     "name": "stderr",
     "output_type": "stream",
     "text": [
      "Epoch 7: 100%|██████████| 126/126 [02:22<00:00,  1.13s/batch, accuracy=100, current_lr=1e-5, loss=0.0385, val_acc=82.9, val_loss=0.501]\n",
      "  0%|          | 0/126 [00:00<?, ?batch/s]"
     ]
    },
    {
     "name": "stdout",
     "output_type": "stream",
     "text": [
      "EarlyStopping counter: 4 out of 10\n"
     ]
    },
    {
     "name": "stderr",
     "output_type": "stream",
     "text": [
      "Epoch 8: 100%|██████████| 126/126 [02:25<00:00,  1.16s/batch, accuracy=100, current_lr=1e-5, loss=0.031, val_acc=83.4, val_loss=0.555] \n",
      "  0%|          | 0/126 [00:00<?, ?batch/s]"
     ]
    },
    {
     "name": "stdout",
     "output_type": "stream",
     "text": [
      "EarlyStopping counter: 5 out of 10\n"
     ]
    },
    {
     "name": "stderr",
     "output_type": "stream",
     "text": [
      "Epoch 9: 100%|██████████| 126/126 [02:24<00:00,  1.15s/batch, accuracy=100, current_lr=1e-5, loss=0.013, val_acc=82.2, val_loss=0.617] \n",
      "  0%|          | 0/126 [00:00<?, ?batch/s]"
     ]
    },
    {
     "name": "stdout",
     "output_type": "stream",
     "text": [
      "EarlyStopping counter: 6 out of 10\n"
     ]
    },
    {
     "name": "stderr",
     "output_type": "stream",
     "text": [
      "Epoch 10: 100%|██████████| 126/126 [02:24<00:00,  1.15s/batch, accuracy=100, current_lr=1e-5, loss=0.00872, val_acc=82.3, val_loss=0.69]\n",
      "  0%|          | 0/126 [00:00<?, ?batch/s]"
     ]
    },
    {
     "name": "stdout",
     "output_type": "stream",
     "text": [
      "EarlyStopping counter: 7 out of 10\n"
     ]
    },
    {
     "name": "stderr",
     "output_type": "stream",
     "text": [
      "Epoch 11: 100%|██████████| 126/126 [02:24<00:00,  1.15s/batch, accuracy=100, current_lr=1e-5, loss=0.00786, val_acc=82.2, val_loss=0.747]\n",
      "  0%|          | 0/126 [00:00<?, ?batch/s]"
     ]
    },
    {
     "name": "stdout",
     "output_type": "stream",
     "text": [
      "EarlyStopping counter: 8 out of 10\n"
     ]
    },
    {
     "name": "stderr",
     "output_type": "stream",
     "text": [
      "Epoch 12: 100%|██████████| 126/126 [02:25<00:00,  1.15s/batch, accuracy=100, current_lr=1e-5, loss=0.0104, val_acc=82.6, val_loss=0.782]\n",
      "  0%|          | 0/126 [00:00<?, ?batch/s]"
     ]
    },
    {
     "name": "stdout",
     "output_type": "stream",
     "text": [
      "EarlyStopping counter: 9 out of 10\n"
     ]
    },
    {
     "name": "stderr",
     "output_type": "stream",
     "text": [
      "Epoch 13: 100%|██████████| 126/126 [02:24<00:00,  1.15s/batch, accuracy=100, current_lr=1e-5, loss=0.00621, val_acc=83.1, val_loss=0.787]"
     ]
    },
    {
     "name": "stdout",
     "output_type": "stream",
     "text": [
      "EarlyStopping counter: 10 out of 10\n",
      "Early stopping\n"
     ]
    },
    {
     "name": "stderr",
     "output_type": "stream",
     "text": [
      "\n"
     ]
    }
   ],
   "source": [
    "model_age_rn.train()"
   ]
  },
  {
   "cell_type": "code",
   "execution_count": 32,
   "id": "quantitative-niger",
   "metadata": {},
   "outputs": [
    {
     "name": "stderr",
     "output_type": "stream",
     "text": [
      "  0%|          | 0/126 [00:00<?, ?batch/s]"
     ]
    },
    {
     "name": "stdout",
     "output_type": "stream",
     "text": [
      "Running on device: cuda:0 start training...\n",
      "Setting - Epochs: 200, Learning rate: 0.0003 \n"
     ]
    },
    {
     "name": "stderr",
     "output_type": "stream",
     "text": [
      "Epoch 1: 100%|██████████| 126/126 [02:25<00:00,  1.15s/batch, accuracy=91.7, current_lr=1e-5, loss=0.14, val_acc=97.7, val_loss=0.0958]\n"
     ]
    },
    {
     "name": "stdout",
     "output_type": "stream",
     "text": [
      "Validation loss decreased (inf --> 0.095807).  Saving model ...\n"
     ]
    },
    {
     "name": "stderr",
     "output_type": "stream",
     "text": [
      "Epoch 2: 100%|██████████| 126/126 [02:25<00:00,  1.15s/batch, accuracy=98.6, current_lr=1e-5, loss=0.066, val_acc=97.9, val_loss=0.0776]\n"
     ]
    },
    {
     "name": "stdout",
     "output_type": "stream",
     "text": [
      "Validation loss decreased (0.095807 --> 0.077566).  Saving model ...\n"
     ]
    },
    {
     "name": "stderr",
     "output_type": "stream",
     "text": [
      "Epoch 3: 100%|██████████| 126/126 [02:24<00:00,  1.15s/batch, accuracy=100, current_lr=1e-5, loss=0.0218, val_acc=97.8, val_loss=0.0723]\n"
     ]
    },
    {
     "name": "stdout",
     "output_type": "stream",
     "text": [
      "Validation loss decreased (0.077566 --> 0.072348).  Saving model ...\n"
     ]
    },
    {
     "name": "stderr",
     "output_type": "stream",
     "text": [
      "Epoch 4: 100%|██████████| 126/126 [02:25<00:00,  1.15s/batch, accuracy=100, current_lr=1e-5, loss=0.0147, val_acc=97.7, val_loss=0.0741]\n",
      "  0%|          | 0/126 [00:00<?, ?batch/s]"
     ]
    },
    {
     "name": "stdout",
     "output_type": "stream",
     "text": [
      "EarlyStopping counter: 1 out of 10\n"
     ]
    },
    {
     "name": "stderr",
     "output_type": "stream",
     "text": [
      "Epoch 5: 100%|██████████| 126/126 [02:25<00:00,  1.15s/batch, accuracy=100, current_lr=1e-5, loss=0.0131, val_acc=97.9, val_loss=0.0726]\n",
      "  0%|          | 0/126 [00:00<?, ?batch/s]"
     ]
    },
    {
     "name": "stdout",
     "output_type": "stream",
     "text": [
      "EarlyStopping counter: 2 out of 10\n"
     ]
    },
    {
     "name": "stderr",
     "output_type": "stream",
     "text": [
      "Epoch 6: 100%|██████████| 126/126 [02:24<00:00,  1.15s/batch, accuracy=100, current_lr=1e-5, loss=0.00476, val_acc=97.8, val_loss=0.0829]\n",
      "  0%|          | 0/126 [00:00<?, ?batch/s]"
     ]
    },
    {
     "name": "stdout",
     "output_type": "stream",
     "text": [
      "EarlyStopping counter: 3 out of 10\n"
     ]
    },
    {
     "name": "stderr",
     "output_type": "stream",
     "text": [
      "Epoch 7: 100%|██████████| 126/126 [02:25<00:00,  1.15s/batch, accuracy=100, current_lr=1e-5, loss=0.00577, val_acc=98.1, val_loss=0.0766]\n",
      "  0%|          | 0/126 [00:00<?, ?batch/s]"
     ]
    },
    {
     "name": "stdout",
     "output_type": "stream",
     "text": [
      "EarlyStopping counter: 4 out of 10\n"
     ]
    },
    {
     "name": "stderr",
     "output_type": "stream",
     "text": [
      "Epoch 8: 100%|██████████| 126/126 [02:24<00:00,  1.15s/batch, accuracy=100, current_lr=1e-5, loss=0.00344, val_acc=98.2, val_loss=0.0794]\n",
      "  0%|          | 0/126 [00:00<?, ?batch/s]"
     ]
    },
    {
     "name": "stdout",
     "output_type": "stream",
     "text": [
      "EarlyStopping counter: 5 out of 10\n"
     ]
    },
    {
     "name": "stderr",
     "output_type": "stream",
     "text": [
      "Epoch 9: 100%|██████████| 126/126 [02:24<00:00,  1.14s/batch, accuracy=100, current_lr=1e-5, loss=0.00189, val_acc=98.1, val_loss=0.0857]\n",
      "  0%|          | 0/126 [00:00<?, ?batch/s]"
     ]
    },
    {
     "name": "stdout",
     "output_type": "stream",
     "text": [
      "EarlyStopping counter: 6 out of 10\n"
     ]
    },
    {
     "name": "stderr",
     "output_type": "stream",
     "text": [
      "Epoch 10: 100%|██████████| 126/126 [02:24<00:00,  1.15s/batch, accuracy=100, current_lr=1e-5, loss=0.00182, val_acc=98.3, val_loss=0.085]\n",
      "  0%|          | 0/126 [00:00<?, ?batch/s]"
     ]
    },
    {
     "name": "stdout",
     "output_type": "stream",
     "text": [
      "EarlyStopping counter: 7 out of 10\n"
     ]
    },
    {
     "name": "stderr",
     "output_type": "stream",
     "text": [
      "Epoch 11: 100%|██████████| 126/126 [02:24<00:00,  1.14s/batch, accuracy=100, current_lr=1e-5, loss=0.00137, val_acc=98.1, val_loss=0.0841]\n",
      "  0%|          | 0/126 [00:00<?, ?batch/s]"
     ]
    },
    {
     "name": "stdout",
     "output_type": "stream",
     "text": [
      "EarlyStopping counter: 8 out of 10\n"
     ]
    },
    {
     "name": "stderr",
     "output_type": "stream",
     "text": [
      "Epoch 12: 100%|██████████| 126/126 [02:22<00:00,  1.13s/batch, accuracy=100, current_lr=1e-5, loss=0.00121, val_acc=98.3, val_loss=0.0844]\n",
      "  0%|          | 0/126 [00:00<?, ?batch/s]"
     ]
    },
    {
     "name": "stdout",
     "output_type": "stream",
     "text": [
      "EarlyStopping counter: 9 out of 10\n"
     ]
    },
    {
     "name": "stderr",
     "output_type": "stream",
     "text": [
      "Epoch 13: 100%|██████████| 126/126 [02:21<00:00,  1.13s/batch, accuracy=100, current_lr=1e-5, loss=0.00147, val_acc=97.9, val_loss=0.0891]"
     ]
    },
    {
     "name": "stdout",
     "output_type": "stream",
     "text": [
      "EarlyStopping counter: 10 out of 10\n",
      "Early stopping\n"
     ]
    },
    {
     "name": "stderr",
     "output_type": "stream",
     "text": [
      "\n"
     ]
    }
   ],
   "source": [
    "model_gender_rn.train()"
   ]
  },
  {
   "cell_type": "code",
   "execution_count": 33,
   "id": "coordinated-expression",
   "metadata": {},
   "outputs": [
    {
     "name": "stderr",
     "output_type": "stream",
     "text": [
      "  0%|          | 0/54 [00:00<?, ?batch/s]"
     ]
    },
    {
     "name": "stdout",
     "output_type": "stream",
     "text": [
      "Running on device: cuda:0 start training...\n",
      "Setting - Epochs: 200, Learning rate: 0.0003 \n"
     ]
    },
    {
     "name": "stderr",
     "output_type": "stream",
     "text": [
      "Epoch 1: 100%|██████████| 54/54 [01:02<00:00,  1.15s/batch, accuracy=99, current_lr=1e-5, loss=0.0221, val_acc=99.8, val_loss=0.0148] \n"
     ]
    },
    {
     "name": "stdout",
     "output_type": "stream",
     "text": [
      "Validation loss decreased (inf --> 0.014780).  Saving model ...\n"
     ]
    },
    {
     "name": "stderr",
     "output_type": "stream",
     "text": [
      "Epoch 2: 100%|██████████| 54/54 [01:01<00:00,  1.14s/batch, accuracy=100, current_lr=1e-5, loss=0.00423, val_acc=99.7, val_loss=0.0146]\n"
     ]
    },
    {
     "name": "stdout",
     "output_type": "stream",
     "text": [
      "Validation loss decreased (0.014780 --> 0.014608).  Saving model ...\n"
     ]
    },
    {
     "name": "stderr",
     "output_type": "stream",
     "text": [
      "Epoch 3: 100%|██████████| 54/54 [01:02<00:00,  1.15s/batch, accuracy=100, current_lr=1e-5, loss=0.00293, val_acc=99.8, val_loss=0.00987]\n"
     ]
    },
    {
     "name": "stdout",
     "output_type": "stream",
     "text": [
      "Validation loss decreased (0.014608 --> 0.009865).  Saving model ...\n"
     ]
    },
    {
     "name": "stderr",
     "output_type": "stream",
     "text": [
      "Epoch 4: 100%|██████████| 54/54 [01:02<00:00,  1.15s/batch, accuracy=100, current_lr=1e-5, loss=0.00338, val_acc=99.8, val_loss=0.00978]\n"
     ]
    },
    {
     "name": "stdout",
     "output_type": "stream",
     "text": [
      "Validation loss decreased (0.009865 --> 0.009782).  Saving model ...\n"
     ]
    },
    {
     "name": "stderr",
     "output_type": "stream",
     "text": [
      "Epoch 5: 100%|██████████| 54/54 [01:00<00:00,  1.12s/batch, accuracy=100, current_lr=1e-5, loss=0.00168, val_acc=99.8, val_loss=0.0111]\n",
      "  0%|          | 0/54 [00:00<?, ?batch/s]"
     ]
    },
    {
     "name": "stdout",
     "output_type": "stream",
     "text": [
      "EarlyStopping counter: 1 out of 10\n"
     ]
    },
    {
     "name": "stderr",
     "output_type": "stream",
     "text": [
      "Epoch 6: 100%|██████████| 54/54 [01:01<00:00,  1.13s/batch, accuracy=100, current_lr=1e-5, loss=0.00173, val_acc=99.7, val_loss=0.0114]\n",
      "  0%|          | 0/54 [00:00<?, ?batch/s]"
     ]
    },
    {
     "name": "stdout",
     "output_type": "stream",
     "text": [
      "EarlyStopping counter: 2 out of 10\n"
     ]
    },
    {
     "name": "stderr",
     "output_type": "stream",
     "text": [
      "Epoch 7: 100%|██████████| 54/54 [01:00<00:00,  1.12s/batch, accuracy=100, current_lr=1e-5, loss=0.000952, val_acc=99.8, val_loss=0.00968]\n"
     ]
    },
    {
     "name": "stdout",
     "output_type": "stream",
     "text": [
      "Validation loss decreased (0.009782 --> 0.009679).  Saving model ...\n"
     ]
    },
    {
     "name": "stderr",
     "output_type": "stream",
     "text": [
      "Epoch 8: 100%|██████████| 54/54 [01:00<00:00,  1.11s/batch, accuracy=100, current_lr=1e-5, loss=0.000788, val_acc=99.8, val_loss=0.0114]\n",
      "  0%|          | 0/54 [00:00<?, ?batch/s]"
     ]
    },
    {
     "name": "stdout",
     "output_type": "stream",
     "text": [
      "EarlyStopping counter: 1 out of 10\n"
     ]
    },
    {
     "name": "stderr",
     "output_type": "stream",
     "text": [
      "Epoch 9: 100%|██████████| 54/54 [01:00<00:00,  1.13s/batch, accuracy=100, current_lr=1e-5, loss=0.000667, val_acc=99.9, val_loss=0.00777]\n"
     ]
    },
    {
     "name": "stdout",
     "output_type": "stream",
     "text": [
      "Validation loss decreased (0.009679 --> 0.007765).  Saving model ...\n"
     ]
    },
    {
     "name": "stderr",
     "output_type": "stream",
     "text": [
      "Epoch 10: 100%|██████████| 54/54 [01:01<00:00,  1.14s/batch, accuracy=100, current_lr=1e-5, loss=0.000447, val_acc=99.7, val_loss=0.0137]\n",
      "  0%|          | 0/54 [00:00<?, ?batch/s]"
     ]
    },
    {
     "name": "stdout",
     "output_type": "stream",
     "text": [
      "EarlyStopping counter: 1 out of 10\n"
     ]
    },
    {
     "name": "stderr",
     "output_type": "stream",
     "text": [
      "Epoch 11: 100%|██████████| 54/54 [01:00<00:00,  1.13s/batch, accuracy=100, current_lr=1e-5, loss=0.000429, val_acc=99.8, val_loss=0.00922]\n",
      "  0%|          | 0/54 [00:00<?, ?batch/s]"
     ]
    },
    {
     "name": "stdout",
     "output_type": "stream",
     "text": [
      "EarlyStopping counter: 2 out of 10\n"
     ]
    },
    {
     "name": "stderr",
     "output_type": "stream",
     "text": [
      "Epoch 12: 100%|██████████| 54/54 [01:01<00:00,  1.15s/batch, accuracy=100, current_lr=1e-5, loss=0.00044, val_acc=99.8, val_loss=0.00782]\n",
      "  0%|          | 0/54 [00:00<?, ?batch/s]"
     ]
    },
    {
     "name": "stdout",
     "output_type": "stream",
     "text": [
      "EarlyStopping counter: 3 out of 10\n"
     ]
    },
    {
     "name": "stderr",
     "output_type": "stream",
     "text": [
      "Epoch 15: 100%|██████████| 54/54 [01:01<00:00,  1.14s/batch, accuracy=100, current_lr=1e-5, loss=0.000243, val_acc=99.7, val_loss=0.0125]\n",
      "  0%|          | 0/54 [00:00<?, ?batch/s]"
     ]
    },
    {
     "name": "stdout",
     "output_type": "stream",
     "text": [
      "EarlyStopping counter: 6 out of 10\n"
     ]
    },
    {
     "name": "stderr",
     "output_type": "stream",
     "text": [
      "Epoch 16: 100%|██████████| 54/54 [01:02<00:00,  1.15s/batch, accuracy=100, current_lr=1e-5, loss=0.000239, val_acc=99.5, val_loss=0.0183]\n",
      "  0%|          | 0/54 [00:00<?, ?batch/s]"
     ]
    },
    {
     "name": "stdout",
     "output_type": "stream",
     "text": [
      "EarlyStopping counter: 7 out of 10\n"
     ]
    },
    {
     "name": "stderr",
     "output_type": "stream",
     "text": [
      "Epoch 17: 100%|██████████| 54/54 [01:01<00:00,  1.14s/batch, accuracy=100, current_lr=1e-5, loss=0.000264, val_acc=99.7, val_loss=0.0125]\n",
      "  0%|          | 0/54 [00:00<?, ?batch/s]"
     ]
    },
    {
     "name": "stdout",
     "output_type": "stream",
     "text": [
      "EarlyStopping counter: 8 out of 10\n"
     ]
    },
    {
     "name": "stderr",
     "output_type": "stream",
     "text": [
      "Epoch 18: 100%|██████████| 54/54 [01:01<00:00,  1.13s/batch, accuracy=100, current_lr=1e-5, loss=0.000323, val_acc=99.5, val_loss=0.0252]\n",
      "  0%|          | 0/54 [00:00<?, ?batch/s]"
     ]
    },
    {
     "name": "stdout",
     "output_type": "stream",
     "text": [
      "EarlyStopping counter: 9 out of 10\n"
     ]
    },
    {
     "name": "stderr",
     "output_type": "stream",
     "text": [
      "Epoch 19: 100%|██████████| 54/54 [01:01<00:00,  1.13s/batch, accuracy=100, current_lr=1e-5, loss=0.000254, val_acc=99.8, val_loss=0.0114]"
     ]
    },
    {
     "name": "stdout",
     "output_type": "stream",
     "text": [
      "EarlyStopping counter: 10 out of 10\n",
      "Early stopping\n"
     ]
    },
    {
     "name": "stderr",
     "output_type": "stream",
     "text": [
      "\n"
     ]
    }
   ],
   "source": [
    "model_mask_rn.train()"
   ]
  },
  {
   "cell_type": "code",
   "execution_count": 34,
   "id": "ceramic-belfast",
   "metadata": {},
   "outputs": [
    {
     "name": "stderr",
     "output_type": "stream",
     "text": [
      "100%|██████████| 99/99 [01:14<00:00,  1.33it/s]\n"
     ]
    },
    {
     "data": {
      "text/html": [
       "<div>\n",
       "<style scoped>\n",
       "    .dataframe tbody tr th:only-of-type {\n",
       "        vertical-align: middle;\n",
       "    }\n",
       "\n",
       "    .dataframe tbody tr th {\n",
       "        vertical-align: top;\n",
       "    }\n",
       "\n",
       "    .dataframe thead th {\n",
       "        text-align: right;\n",
       "    }\n",
       "</style>\n",
       "<table border=\"1\" class=\"dataframe\">\n",
       "  <thead>\n",
       "    <tr style=\"text-align: right;\">\n",
       "      <th></th>\n",
       "      <th>Unnamed: 0</th>\n",
       "      <th>ImageID</th>\n",
       "      <th>ans</th>\n",
       "      <th>mask</th>\n",
       "      <th>gender</th>\n",
       "      <th>age</th>\n",
       "      <th>class</th>\n",
       "    </tr>\n",
       "  </thead>\n",
       "  <tbody>\n",
       "    <tr>\n",
       "      <th>0</th>\n",
       "      <td>0</td>\n",
       "      <td>cbc5c6e168e63498590db46022617123f1fe1268.jpg</td>\n",
       "      <td>14</td>\n",
       "      <td>0</td>\n",
       "      <td>1</td>\n",
       "      <td>2</td>\n",
       "      <td>012</td>\n",
       "    </tr>\n",
       "    <tr>\n",
       "      <th>1</th>\n",
       "      <td>1</td>\n",
       "      <td>0e72482bf56b3581c081f7da2a6180b8792c7089.jpg</td>\n",
       "      <td>2</td>\n",
       "      <td>1</td>\n",
       "      <td>1</td>\n",
       "      <td>2</td>\n",
       "      <td>112</td>\n",
       "    </tr>\n",
       "    <tr>\n",
       "      <th>2</th>\n",
       "      <td>2</td>\n",
       "      <td>b549040c49190cedc41327748aeb197c1670f14d.jpg</td>\n",
       "      <td>14</td>\n",
       "      <td>0</td>\n",
       "      <td>1</td>\n",
       "      <td>2</td>\n",
       "      <td>012</td>\n",
       "    </tr>\n",
       "    <tr>\n",
       "      <th>3</th>\n",
       "      <td>3</td>\n",
       "      <td>4f9cb2a045c6d5b9e50ad3459ea7b791eb6e18bc.jpg</td>\n",
       "      <td>13</td>\n",
       "      <td>0</td>\n",
       "      <td>1</td>\n",
       "      <td>1</td>\n",
       "      <td>011</td>\n",
       "    </tr>\n",
       "    <tr>\n",
       "      <th>4</th>\n",
       "      <td>4</td>\n",
       "      <td>248428d9a4a5b6229a7081c32851b90cb8d38d0c.jpg</td>\n",
       "      <td>12</td>\n",
       "      <td>0</td>\n",
       "      <td>1</td>\n",
       "      <td>0</td>\n",
       "      <td>010</td>\n",
       "    </tr>\n",
       "    <tr>\n",
       "      <th>...</th>\n",
       "      <td>...</td>\n",
       "      <td>...</td>\n",
       "      <td>...</td>\n",
       "      <td>...</td>\n",
       "      <td>...</td>\n",
       "      <td>...</td>\n",
       "      <td>...</td>\n",
       "    </tr>\n",
       "    <tr>\n",
       "      <th>12595</th>\n",
       "      <td>12595</td>\n",
       "      <td>d71d4570505d6af8f777690e63edfa8d85ea4476.jpg</td>\n",
       "      <td>2</td>\n",
       "      <td>1</td>\n",
       "      <td>1</td>\n",
       "      <td>2</td>\n",
       "      <td>112</td>\n",
       "    </tr>\n",
       "    <tr>\n",
       "      <th>12596</th>\n",
       "      <td>12596</td>\n",
       "      <td>6cf1300e8e218716728d5820c0bab553306c2cfd.jpg</td>\n",
       "      <td>5</td>\n",
       "      <td>1</td>\n",
       "      <td>0</td>\n",
       "      <td>2</td>\n",
       "      <td>102</td>\n",
       "    </tr>\n",
       "    <tr>\n",
       "      <th>12597</th>\n",
       "      <td>12597</td>\n",
       "      <td>8140edbba31c3a824e817e6d5fb95343199e2387.jpg</td>\n",
       "      <td>9</td>\n",
       "      <td>2</td>\n",
       "      <td>0</td>\n",
       "      <td>0</td>\n",
       "      <td>200</td>\n",
       "    </tr>\n",
       "    <tr>\n",
       "      <th>12598</th>\n",
       "      <td>12598</td>\n",
       "      <td>030d439efe6fb5a7bafda45a393fc19f2bf57f54.jpg</td>\n",
       "      <td>1</td>\n",
       "      <td>1</td>\n",
       "      <td>1</td>\n",
       "      <td>1</td>\n",
       "      <td>111</td>\n",
       "    </tr>\n",
       "    <tr>\n",
       "      <th>12599</th>\n",
       "      <td>12599</td>\n",
       "      <td>f1e0b9594ae9f72571f0a9dc67406ad41f2edab0.jpg</td>\n",
       "      <td>8</td>\n",
       "      <td>2</td>\n",
       "      <td>1</td>\n",
       "      <td>2</td>\n",
       "      <td>212</td>\n",
       "    </tr>\n",
       "  </tbody>\n",
       "</table>\n",
       "<p>12600 rows × 7 columns</p>\n",
       "</div>"
      ],
      "text/plain": [
       "       Unnamed: 0                                       ImageID  ans  mask  \\\n",
       "0               0  cbc5c6e168e63498590db46022617123f1fe1268.jpg   14     0   \n",
       "1               1  0e72482bf56b3581c081f7da2a6180b8792c7089.jpg    2     1   \n",
       "2               2  b549040c49190cedc41327748aeb197c1670f14d.jpg   14     0   \n",
       "3               3  4f9cb2a045c6d5b9e50ad3459ea7b791eb6e18bc.jpg   13     0   \n",
       "4               4  248428d9a4a5b6229a7081c32851b90cb8d38d0c.jpg   12     0   \n",
       "...           ...                                           ...  ...   ...   \n",
       "12595       12595  d71d4570505d6af8f777690e63edfa8d85ea4476.jpg    2     1   \n",
       "12596       12596  6cf1300e8e218716728d5820c0bab553306c2cfd.jpg    5     1   \n",
       "12597       12597  8140edbba31c3a824e817e6d5fb95343199e2387.jpg    9     2   \n",
       "12598       12598  030d439efe6fb5a7bafda45a393fc19f2bf57f54.jpg    1     1   \n",
       "12599       12599  f1e0b9594ae9f72571f0a9dc67406ad41f2edab0.jpg    8     2   \n",
       "\n",
       "       gender  age class  \n",
       "0           1    2   012  \n",
       "1           1    2   112  \n",
       "2           1    2   012  \n",
       "3           1    1   011  \n",
       "4           1    0   010  \n",
       "...       ...  ...   ...  \n",
       "12595       1    2   112  \n",
       "12596       0    2   102  \n",
       "12597       0    0   200  \n",
       "12598       1    1   111  \n",
       "12599       1    2   212  \n",
       "\n",
       "[12600 rows x 7 columns]"
      ]
     },
     "execution_count": 34,
     "metadata": {},
     "output_type": "execute_result"
    }
   ],
   "source": [
    "inference({'mask_model': [model_mask_rn.model],\n",
    "           'gender_model': [model_gender_rn.model],\n",
    "           'age_model': [model_age_rn.model]}, True)"
   ]
  },
  {
   "cell_type": "code",
   "execution_count": 35,
   "id": "czech-hepatitis",
   "metadata": {},
   "outputs": [
    {
     "name": "stderr",
     "output_type": "stream",
     "text": [
      "100%|██████████| 23/23 [00:17<00:00,  1.32it/s]\n"
     ]
    },
    {
     "name": "stdout",
     "output_type": "stream",
     "text": [
      "              precision    recall  f1-score   support\n",
      "\n",
      "           0       0.92      0.97      0.95       410\n",
      "           1       0.62      0.64      0.63       210\n",
      "           2       0.62      0.57      0.60       160\n",
      "           3       0.96      0.96      0.96       555\n",
      "           4       0.76      0.82      0.79       450\n",
      "           5       0.73      0.56      0.63       245\n",
      "           6       0.92      0.96      0.94        82\n",
      "           7       0.61      0.67      0.64        42\n",
      "           8       0.62      0.56      0.59        32\n",
      "           9       0.96      0.96      0.96       111\n",
      "          10       0.77      0.83      0.80        90\n",
      "          11       0.69      0.51      0.59        49\n",
      "          12       0.93      0.98      0.95        82\n",
      "          13       0.58      0.62      0.60        42\n",
      "          14       0.55      0.53      0.54        32\n",
      "          15       0.97      0.95      0.96       111\n",
      "          16       0.75      0.86      0.80        90\n",
      "          17       0.72      0.47      0.57        49\n",
      "\n",
      "    accuracy                           0.82      2842\n",
      "   macro avg       0.76      0.75      0.75      2842\n",
      "weighted avg       0.82      0.82      0.82      2842\n",
      "\n"
     ]
    },
    {
     "data": {
      "text/html": [
       "<div>\n",
       "<style scoped>\n",
       "    .dataframe tbody tr th:only-of-type {\n",
       "        vertical-align: middle;\n",
       "    }\n",
       "\n",
       "    .dataframe tbody tr th {\n",
       "        vertical-align: top;\n",
       "    }\n",
       "\n",
       "    .dataframe thead th {\n",
       "        text-align: right;\n",
       "    }\n",
       "</style>\n",
       "<table border=\"1\" class=\"dataframe\">\n",
       "  <thead>\n",
       "    <tr style=\"text-align: right;\">\n",
       "      <th></th>\n",
       "      <th>id</th>\n",
       "      <th>path</th>\n",
       "      <th>mask_status</th>\n",
       "      <th>gender</th>\n",
       "      <th>race</th>\n",
       "      <th>age</th>\n",
       "      <th>age_group</th>\n",
       "      <th>ans</th>\n",
       "      <th>mask_pred</th>\n",
       "      <th>gender_pred</th>\n",
       "      <th>age_group_pred</th>\n",
       "      <th>ans_pred</th>\n",
       "    </tr>\n",
       "  </thead>\n",
       "  <tbody>\n",
       "    <tr>\n",
       "      <th>0</th>\n",
       "      <td>001700</td>\n",
       "      <td>001700_male_Asian_33/mask5.jpg</td>\n",
       "      <td>1</td>\n",
       "      <td>1</td>\n",
       "      <td>Asian</td>\n",
       "      <td>33</td>\n",
       "      <td>1</td>\n",
       "      <td>1</td>\n",
       "      <td>1</td>\n",
       "      <td>0</td>\n",
       "      <td>1</td>\n",
       "      <td>4</td>\n",
       "    </tr>\n",
       "    <tr>\n",
       "      <th>1</th>\n",
       "      <td>001700</td>\n",
       "      <td>001700_male_Asian_33/incorrect_mask.jpg</td>\n",
       "      <td>2</td>\n",
       "      <td>1</td>\n",
       "      <td>Asian</td>\n",
       "      <td>33</td>\n",
       "      <td>1</td>\n",
       "      <td>7</td>\n",
       "      <td>2</td>\n",
       "      <td>0</td>\n",
       "      <td>1</td>\n",
       "      <td>10</td>\n",
       "    </tr>\n",
       "    <tr>\n",
       "      <th>2</th>\n",
       "      <td>001700</td>\n",
       "      <td>001700_male_Asian_33/mask1.jpg</td>\n",
       "      <td>1</td>\n",
       "      <td>1</td>\n",
       "      <td>Asian</td>\n",
       "      <td>33</td>\n",
       "      <td>1</td>\n",
       "      <td>1</td>\n",
       "      <td>1</td>\n",
       "      <td>0</td>\n",
       "      <td>1</td>\n",
       "      <td>4</td>\n",
       "    </tr>\n",
       "    <tr>\n",
       "      <th>3</th>\n",
       "      <td>001700</td>\n",
       "      <td>001700_male_Asian_33/mask3.jpg</td>\n",
       "      <td>1</td>\n",
       "      <td>1</td>\n",
       "      <td>Asian</td>\n",
       "      <td>33</td>\n",
       "      <td>1</td>\n",
       "      <td>1</td>\n",
       "      <td>1</td>\n",
       "      <td>0</td>\n",
       "      <td>1</td>\n",
       "      <td>4</td>\n",
       "    </tr>\n",
       "    <tr>\n",
       "      <th>4</th>\n",
       "      <td>001700</td>\n",
       "      <td>001700_male_Asian_33/normal.jpg</td>\n",
       "      <td>0</td>\n",
       "      <td>1</td>\n",
       "      <td>Asian</td>\n",
       "      <td>33</td>\n",
       "      <td>1</td>\n",
       "      <td>13</td>\n",
       "      <td>0</td>\n",
       "      <td>0</td>\n",
       "      <td>1</td>\n",
       "      <td>16</td>\n",
       "    </tr>\n",
       "    <tr>\n",
       "      <th>...</th>\n",
       "      <td>...</td>\n",
       "      <td>...</td>\n",
       "      <td>...</td>\n",
       "      <td>...</td>\n",
       "      <td>...</td>\n",
       "      <td>...</td>\n",
       "      <td>...</td>\n",
       "      <td>...</td>\n",
       "      <td>...</td>\n",
       "      <td>...</td>\n",
       "      <td>...</td>\n",
       "      <td>...</td>\n",
       "    </tr>\n",
       "    <tr>\n",
       "      <th>2837</th>\n",
       "      <td>005558</td>\n",
       "      <td>005558_male_Asian_52/mask1.jpg</td>\n",
       "      <td>1</td>\n",
       "      <td>1</td>\n",
       "      <td>Asian</td>\n",
       "      <td>52</td>\n",
       "      <td>1</td>\n",
       "      <td>1</td>\n",
       "      <td>1</td>\n",
       "      <td>1</td>\n",
       "      <td>1</td>\n",
       "      <td>1</td>\n",
       "    </tr>\n",
       "    <tr>\n",
       "      <th>2838</th>\n",
       "      <td>005558</td>\n",
       "      <td>005558_male_Asian_52/mask4.jpg</td>\n",
       "      <td>1</td>\n",
       "      <td>1</td>\n",
       "      <td>Asian</td>\n",
       "      <td>52</td>\n",
       "      <td>1</td>\n",
       "      <td>1</td>\n",
       "      <td>1</td>\n",
       "      <td>1</td>\n",
       "      <td>1</td>\n",
       "      <td>1</td>\n",
       "    </tr>\n",
       "    <tr>\n",
       "      <th>2839</th>\n",
       "      <td>005558</td>\n",
       "      <td>005558_male_Asian_52/mask2.jpg</td>\n",
       "      <td>1</td>\n",
       "      <td>1</td>\n",
       "      <td>Asian</td>\n",
       "      <td>52</td>\n",
       "      <td>1</td>\n",
       "      <td>1</td>\n",
       "      <td>1</td>\n",
       "      <td>1</td>\n",
       "      <td>1</td>\n",
       "      <td>1</td>\n",
       "    </tr>\n",
       "    <tr>\n",
       "      <th>2840</th>\n",
       "      <td>005558</td>\n",
       "      <td>005558_male_Asian_52/mask5.jpg</td>\n",
       "      <td>1</td>\n",
       "      <td>1</td>\n",
       "      <td>Asian</td>\n",
       "      <td>52</td>\n",
       "      <td>1</td>\n",
       "      <td>1</td>\n",
       "      <td>1</td>\n",
       "      <td>1</td>\n",
       "      <td>1</td>\n",
       "      <td>1</td>\n",
       "    </tr>\n",
       "    <tr>\n",
       "      <th>2841</th>\n",
       "      <td>005558</td>\n",
       "      <td>005558_male_Asian_52/incorrect_mask.jpg</td>\n",
       "      <td>2</td>\n",
       "      <td>1</td>\n",
       "      <td>Asian</td>\n",
       "      <td>52</td>\n",
       "      <td>1</td>\n",
       "      <td>7</td>\n",
       "      <td>2</td>\n",
       "      <td>1</td>\n",
       "      <td>1</td>\n",
       "      <td>7</td>\n",
       "    </tr>\n",
       "  </tbody>\n",
       "</table>\n",
       "<p>2842 rows × 12 columns</p>\n",
       "</div>"
      ],
      "text/plain": [
       "          id                                     path  mask_status  gender  \\\n",
       "0     001700           001700_male_Asian_33/mask5.jpg            1       1   \n",
       "1     001700  001700_male_Asian_33/incorrect_mask.jpg            2       1   \n",
       "2     001700           001700_male_Asian_33/mask1.jpg            1       1   \n",
       "3     001700           001700_male_Asian_33/mask3.jpg            1       1   \n",
       "4     001700          001700_male_Asian_33/normal.jpg            0       1   \n",
       "...      ...                                      ...          ...     ...   \n",
       "2837  005558           005558_male_Asian_52/mask1.jpg            1       1   \n",
       "2838  005558           005558_male_Asian_52/mask4.jpg            1       1   \n",
       "2839  005558           005558_male_Asian_52/mask2.jpg            1       1   \n",
       "2840  005558           005558_male_Asian_52/mask5.jpg            1       1   \n",
       "2841  005558  005558_male_Asian_52/incorrect_mask.jpg            2       1   \n",
       "\n",
       "       race  age  age_group  ans  mask_pred  gender_pred  age_group_pred  \\\n",
       "0     Asian   33          1    1          1            0               1   \n",
       "1     Asian   33          1    7          2            0               1   \n",
       "2     Asian   33          1    1          1            0               1   \n",
       "3     Asian   33          1    1          1            0               1   \n",
       "4     Asian   33          1   13          0            0               1   \n",
       "...     ...  ...        ...  ...        ...          ...             ...   \n",
       "2837  Asian   52          1    1          1            1               1   \n",
       "2838  Asian   52          1    1          1            1               1   \n",
       "2839  Asian   52          1    1          1            1               1   \n",
       "2840  Asian   52          1    1          1            1               1   \n",
       "2841  Asian   52          1    7          2            1               1   \n",
       "\n",
       "      ans_pred  \n",
       "0            4  \n",
       "1           10  \n",
       "2            4  \n",
       "3            4  \n",
       "4           16  \n",
       "...        ...  \n",
       "2837         1  \n",
       "2838         1  \n",
       "2839         1  \n",
       "2840         1  \n",
       "2841         7  \n",
       "\n",
       "[2842 rows x 12 columns]"
      ]
     },
     "execution_count": 35,
     "metadata": {},
     "output_type": "execute_result"
    }
   ],
   "source": [
    "validate(df_valid_ag, \n",
    "         {'mask_model': [model_mask_rn.model],\n",
    "          'gender_model': [model_gender_rn.model],\n",
    "          'age_model': [model_age_rn.model]}, True)"
   ]
  },
  {
   "cell_type": "code",
   "execution_count": null,
   "id": "exotic-sending",
   "metadata": {},
   "outputs": [
    {
     "name": "stderr",
     "output_type": "stream",
     "text": [
      " 31%|███▏      | 31/99 [00:35<01:15,  1.10s/it]"
     ]
    }
   ],
   "source": [
    "inference({'mask_model': [model_mask_ef.model, model_mask_ds.model, model_mask_rn.model],\n",
    "           'gender_model': [model_gender_ef.model, model_gender_ds.model, model_gender_rn.model],\n",
    "           'age_model': [model_age_ds.model, model_age_rn.model]}, True)"
   ]
  },
  {
   "cell_type": "code",
   "execution_count": null,
   "id": "excellent-first",
   "metadata": {},
   "outputs": [],
   "source": [
    "validate(df_valid_ag,\n",
    "         {'mask_model': [model_mask_ef.model, model_mask_ds.model, model_mask_rn.model],\n",
    "          'gender_model': [model_gender_ef.model, model_gender_ds.model, model_gender_rn.model],\n",
    "          'age_model': [model_age_ds.model, model_age_rn.model]}, True)"
   ]
  },
  {
   "cell_type": "code",
   "execution_count": null,
   "id": "disturbed-cheat",
   "metadata": {},
   "outputs": [
    {
     "name": "stderr",
     "output_type": "stream",
     "text": [
      " 74%|███████▎  | 73/99 [01:31<00:32,  1.24s/it]"
     ]
    }
   ],
   "source": [
    "inference({'mask_model': [model_mask_ef.model, model_mask_ds.model, model_mask_rn.model],\n",
    "           'gender_model': [model_gender_ef.model, model_gender_ds.model, model_gender_rn.model],\n",
    "           'age_model': [model_age_ef.model, model_age_ds.model, model_age_rn.model]}, True)"
   ]
  },
  {
   "cell_type": "code",
   "execution_count": 52,
   "id": "smoking-freedom",
   "metadata": {},
   "outputs": [
    {
     "name": "stderr",
     "output_type": "stream",
     "text": [
      "100%|██████████| 23/23 [00:28<00:00,  1.24s/it]"
     ]
    },
    {
     "name": "stdout",
     "output_type": "stream",
     "text": [
      "              precision    recall  f1-score   support\n",
      "\n",
      "           0       0.92      0.97      0.94       410\n",
      "           1       0.57      0.61      0.59       210\n",
      "           2       0.57      0.53      0.55       160\n",
      "           3       0.95      0.96      0.96       555\n",
      "           4       0.74      0.80      0.77       450\n",
      "           5       0.70      0.51      0.59       245\n",
      "           6       0.91      0.95      0.93        82\n",
      "           7       0.62      0.62      0.62        42\n",
      "           8       0.59      0.59      0.59        32\n",
      "           9       0.95      0.95      0.95       111\n",
      "          10       0.76      0.83      0.79        90\n",
      "          11       0.72      0.53      0.61        49\n",
      "          12       0.93      0.95      0.94        82\n",
      "          13       0.57      0.64      0.61        42\n",
      "          14       0.55      0.50      0.52        32\n",
      "          15       0.95      0.95      0.95       111\n",
      "          16       0.78      0.84      0.81        90\n",
      "          17       0.78      0.59      0.67        49\n",
      "\n",
      "    accuracy                           0.81      2842\n",
      "   macro avg       0.75      0.74      0.75      2842\n",
      "weighted avg       0.80      0.81      0.80      2842\n",
      "\n"
     ]
    },
    {
     "name": "stderr",
     "output_type": "stream",
     "text": [
      "\n"
     ]
    }
   ],
   "source": [
    "val_result = validate(df_valid_ag,\n",
    "                      {'mask_model': [model_mask_ef.model, model_mask_ds.model, model_mask_rn.model],\n",
    "                       'gender_model': [model_gender_ef.model, model_gender_ds.model, model_gender_rn.model],\n",
    "                       'age_model': [model_age_ef.model, model_age_ds.model, model_age_rn.model]}, True)"
   ]
  },
  {
   "cell_type": "code",
   "execution_count": 73,
   "id": "collectible-swedish",
   "metadata": {},
   "outputs": [
    {
     "data": {
      "text/plain": [
       "<matplotlib.axes._subplots.AxesSubplot at 0x7f80898dfc10>"
      ]
     },
     "execution_count": 73,
     "metadata": {},
     "output_type": "execute_result"
    },
    {
     "data": {
      "image/png": "[encoded data removed]",
      "text/plain": [
       "<Figure size 1080x1008 with 2 Axes>"
      ]
     },
     "metadata": {
      "needs_background": "light"
     },
     "output_type": "display_data"
    }
   ],
   "source": [
    "import seaborn as sns\n",
    "mat = confusion_matrix(y_true=val_result['ans'], y_pred=val_result['ans_pred'])\n",
    "np.fill_diagonal(mat, 0)\n",
    "df_mat = pd.DataFrame(mat, range(18), range(18))\n",
    "df_mat\n",
    "plt.figure(figsize=(15,14))\n",
    "sns.heatmap(df_mat, annot=True)"
   ]
  },
  {
   "cell_type": "code",
   "execution_count": null,
   "id": "ideal-wonder",
   "metadata": {
    "tags": []
   },
   "outputs": [
    {
     "name": "stderr",
     "output_type": "stream",
     "text": [
      "Epoch 9:  74%|███████▍  | 93/126 [01:26<00:30,  1.08batch/s, accuracy=98.4, current_lr=1e-5, loss=0.0971, val_acc=None, val_loss=None]"
     ]
    }
   ],
   "source": [
    "model_all_rn.train()"
   ]
  },
  {
   "cell_type": "code",
   "execution_count": 44,
   "id": "simplified-watts",
   "metadata": {},
   "outputs": [
    {
     "name": "stderr",
     "output_type": "stream",
     "text": [
      "100%|██████████| 23/23 [00:21<00:00,  1.08it/s]"
     ]
    },
    {
     "name": "stdout",
     "output_type": "stream",
     "text": [
      "              precision    recall  f1-score   support\n",
      "\n",
      "           0       0.92      0.98      0.95       410\n",
      "           1       0.60      0.60      0.60       210\n",
      "           2       0.58      0.56      0.57       160\n",
      "           3       0.97      0.96      0.97       555\n",
      "           4       0.75      0.84      0.79       450\n",
      "           5       0.67      0.53      0.59       245\n",
      "           6       0.90      0.99      0.94        82\n",
      "           7       0.59      0.52      0.56        42\n",
      "           8       0.60      0.56      0.58        32\n",
      "           9       0.95      0.95      0.95       111\n",
      "          10       0.77      0.81      0.79        90\n",
      "          11       0.77      0.49      0.60        49\n",
      "          12       0.91      1.00      0.95        82\n",
      "          13       0.69      0.57      0.62        42\n",
      "          14       0.63      0.69      0.66        32\n",
      "          15       0.97      0.96      0.97       111\n",
      "          16       0.74      0.84      0.79        90\n",
      "          17       0.70      0.47      0.56        49\n",
      "\n",
      "    accuracy                           0.81      2842\n",
      "   macro avg       0.76      0.74      0.75      2842\n",
      "weighted avg       0.81      0.81      0.81      2842\n",
      "\n"
     ]
    },
    {
     "name": "stderr",
     "output_type": "stream",
     "text": [
      "\n"
     ]
    }
   ],
   "source": [
    "model_all_rn.show_report()"
   ]
  },
  {
   "cell_type": "code",
   "execution_count": 45,
   "id": "amended-stake",
   "metadata": {},
   "outputs": [
    {
     "data": {
      "image/png": "[encoded data removed]",
      "text/plain": [
       "<Figure size 432x288 with 1 Axes>"
      ]
     },
     "metadata": {
      "needs_background": "light"
     },
     "output_type": "display_data"
    }
   ],
   "source": [
    "model_all_rn.show_history()"
   ]
  },
  {
   "cell_type": "code",
   "execution_count": null,
   "id": "olive-bundle",
   "metadata": {},
   "outputs": [],
   "source": [
    "os.rename('checkpoint_age.pt', '0406_10_resnext_checkpoint_age.pt')\n",
    "os.rename('checkpoint_mask.pt', '0406_10_resnext_checkpoint_mask.pt')\n",
    "os.rename('checkpoint_gender.pt', '0406_10_resnext_checkpoint_gender.pt')"
   ]
  },
  {
   "cell_type": "code",
   "execution_count": null,
   "id": "whole-pointer",
   "metadata": {},
   "outputs": [],
   "source": []
  }
 ],
 "metadata": {
  "kernelspec": {
   "display_name": "Python 3",
   "language": "python",
   "name": "python3"
  },
  "language_info": {
   "codemirror_mode": {
    "name": "ipython",
    "version": 3
   },
   "file_extension": ".py",
   "mimetype": "text/x-python",
   "name": "python",
   "nbconvert_exporter": "python",
   "pygments_lexer": "ipython3",
   "version": "3.7.7"
  }
 },
 "nbformat": 4,
 "nbformat_minor": 5
}
